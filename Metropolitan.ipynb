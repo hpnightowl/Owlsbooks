{
  "nbformat": 4,
  "nbformat_minor": 0,
  "metadata": {
    "colab": {
      "name": "Metropolitan.ipynb",
      "provenance": [],
      "authorship_tag": "ABX9TyMQtF29Q8GV2tZI+o2D9S3g",
      "include_colab_link": true
    },
    "kernelspec": {
      "name": "python3",
      "display_name": "Python 3"
    }
  },
  "cells": [
    {
      "cell_type": "markdown",
      "metadata": {
        "id": "view-in-github",
        "colab_type": "text"
      },
      "source": [
        "<a href=\"https://colab.research.google.com/github/hpnightowl/owlsbooks/blob/master/Metropolitan.ipynb\" target=\"_parent\"><img src=\"https://colab.research.google.com/assets/colab-badge.svg\" alt=\"Open In Colab\"/></a>"
      ]
    },
    {
      "cell_type": "code",
      "metadata": {
        "id": "YayHgzVGhghB",
        "colab_type": "code",
        "outputId": "2697916b-bff0-4e69-e5df-9ac0100d99ce",
        "colab": {
          "base_uri": "https://localhost:8080/",
          "height": 34
        }
      },
      "source": [
        "pwd"
      ],
      "execution_count": 0,
      "outputs": [
        {
          "output_type": "execute_result",
          "data": {
            "text/plain": [
              "'/content'"
            ]
          },
          "metadata": {
            "tags": []
          },
          "execution_count": 4
        }
      ]
    },
    {
      "cell_type": "code",
      "metadata": {
        "id": "rsj7m7xOoLm7",
        "colab_type": "code",
        "colab": {}
      },
      "source": [
        "import pandas as pd\n",
        "import matplotlib.pyplot as plt\n",
        "import numpy as np\n",
        "\n",
        "data = pd.read_csv('Standard Metropolitan Areas Data - train_data - data.csv')"
      ],
      "execution_count": 0,
      "outputs": []
    },
    {
      "cell_type": "code",
      "metadata": {
        "id": "ZdhdOW7ZoUGf",
        "colab_type": "code",
        "outputId": "6bd1ff0c-3f32-416d-e5d6-44da8538d592",
        "colab": {
          "base_uri": "https://localhost:8080/",
          "height": 224
        }
      },
      "source": [
        "data.head(5)"
      ],
      "execution_count": 0,
      "outputs": [
        {
          "output_type": "execute_result",
          "data": {
            "text/html": [
              "<div>\n",
              "<style scoped>\n",
              "    .dataframe tbody tr th:only-of-type {\n",
              "        vertical-align: middle;\n",
              "    }\n",
              "\n",
              "    .dataframe tbody tr th {\n",
              "        vertical-align: top;\n",
              "    }\n",
              "\n",
              "    .dataframe thead th {\n",
              "        text-align: right;\n",
              "    }\n",
              "</style>\n",
              "<table border=\"1\" class=\"dataframe\">\n",
              "  <thead>\n",
              "    <tr style=\"text-align: right;\">\n",
              "      <th></th>\n",
              "      <th>land_area</th>\n",
              "      <th>percent_city</th>\n",
              "      <th>percent_senior</th>\n",
              "      <th>physicians</th>\n",
              "      <th>hospital_beds</th>\n",
              "      <th>graduates</th>\n",
              "      <th>work_force</th>\n",
              "      <th>income</th>\n",
              "      <th>region</th>\n",
              "      <th>crime_rate</th>\n",
              "    </tr>\n",
              "  </thead>\n",
              "  <tbody>\n",
              "    <tr>\n",
              "      <th>0</th>\n",
              "      <td>1384</td>\n",
              "      <td>78.1</td>\n",
              "      <td>12.3</td>\n",
              "      <td>25627</td>\n",
              "      <td>69678</td>\n",
              "      <td>50.1</td>\n",
              "      <td>4083.9</td>\n",
              "      <td>72100</td>\n",
              "      <td>1</td>\n",
              "      <td>75.55</td>\n",
              "    </tr>\n",
              "    <tr>\n",
              "      <th>1</th>\n",
              "      <td>3719</td>\n",
              "      <td>43.9</td>\n",
              "      <td>9.4</td>\n",
              "      <td>13326</td>\n",
              "      <td>43292</td>\n",
              "      <td>53.9</td>\n",
              "      <td>3305.9</td>\n",
              "      <td>54542</td>\n",
              "      <td>2</td>\n",
              "      <td>56.03</td>\n",
              "    </tr>\n",
              "    <tr>\n",
              "      <th>2</th>\n",
              "      <td>3553</td>\n",
              "      <td>37.4</td>\n",
              "      <td>10.7</td>\n",
              "      <td>9724</td>\n",
              "      <td>33731</td>\n",
              "      <td>50.6</td>\n",
              "      <td>2066.3</td>\n",
              "      <td>33216</td>\n",
              "      <td>1</td>\n",
              "      <td>41.32</td>\n",
              "    </tr>\n",
              "    <tr>\n",
              "      <th>3</th>\n",
              "      <td>3916</td>\n",
              "      <td>29.9</td>\n",
              "      <td>8.8</td>\n",
              "      <td>6402</td>\n",
              "      <td>24167</td>\n",
              "      <td>52.2</td>\n",
              "      <td>1966.7</td>\n",
              "      <td>32906</td>\n",
              "      <td>2</td>\n",
              "      <td>67.38</td>\n",
              "    </tr>\n",
              "    <tr>\n",
              "      <th>4</th>\n",
              "      <td>2480</td>\n",
              "      <td>31.5</td>\n",
              "      <td>10.5</td>\n",
              "      <td>8502</td>\n",
              "      <td>16751</td>\n",
              "      <td>66.1</td>\n",
              "      <td>1514.5</td>\n",
              "      <td>26573</td>\n",
              "      <td>4</td>\n",
              "      <td>80.19</td>\n",
              "    </tr>\n",
              "  </tbody>\n",
              "</table>\n",
              "</div>"
            ],
            "text/plain": [
              "   land_area  percent_city  percent_senior  ...  income  region  crime_rate\n",
              "0       1384          78.1            12.3  ...   72100       1       75.55\n",
              "1       3719          43.9             9.4  ...   54542       2       56.03\n",
              "2       3553          37.4            10.7  ...   33216       1       41.32\n",
              "3       3916          29.9             8.8  ...   32906       2       67.38\n",
              "4       2480          31.5            10.5  ...   26573       4       80.19\n",
              "\n",
              "[5 rows x 10 columns]"
            ]
          },
          "metadata": {
            "tags": []
          },
          "execution_count": 6
        }
      ]
    },
    {
      "cell_type": "code",
      "metadata": {
        "id": "cN-8iRbdoYXM",
        "colab_type": "code",
        "outputId": "d3931118-f5f9-47fe-f8f8-6d82956374e3",
        "colab": {
          "base_uri": "https://localhost:8080/",
          "height": 612
        }
      },
      "source": [
        "print('======================================')\n",
        "print('Not Null Values')\n",
        "print('======================================')\n",
        "print(data.info())\n",
        "print('======================================')\n",
        "print('Null Values')\n",
        "print('======================================')\n",
        "print(data.isnull().sum())"
      ],
      "execution_count": 0,
      "outputs": [
        {
          "output_type": "stream",
          "text": [
            "======================================\n",
            "Not Null Values\n",
            "======================================\n",
            "<class 'pandas.core.frame.DataFrame'>\n",
            "RangeIndex: 99 entries, 0 to 98\n",
            "Data columns (total 10 columns):\n",
            " #   Column          Non-Null Count  Dtype  \n",
            "---  ------          --------------  -----  \n",
            " 0   land_area       99 non-null     int64  \n",
            " 1   percent_city    99 non-null     float64\n",
            " 2   percent_senior  99 non-null     float64\n",
            " 3   physicians      99 non-null     int64  \n",
            " 4   hospital_beds   99 non-null     int64  \n",
            " 5   graduates       99 non-null     float64\n",
            " 6   work_force      99 non-null     float64\n",
            " 7   income          99 non-null     int64  \n",
            " 8   region          99 non-null     int64  \n",
            " 9   crime_rate      99 non-null     float64\n",
            "dtypes: float64(5), int64(5)\n",
            "memory usage: 7.9 KB\n",
            "None\n",
            "======================================\n",
            "Null Values\n",
            "======================================\n",
            "land_area         0\n",
            "percent_city      0\n",
            "percent_senior    0\n",
            "physicians        0\n",
            "hospital_beds     0\n",
            "graduates         0\n",
            "work_force        0\n",
            "income            0\n",
            "region            0\n",
            "crime_rate        0\n",
            "dtype: int64\n"
          ],
          "name": "stdout"
        }
      ]
    },
    {
      "cell_type": "code",
      "metadata": {
        "id": "y0QUTk_1ofoj",
        "colab_type": "code",
        "outputId": "2a580457-604a-4ae0-ae5c-ad119399c370",
        "colab": {
          "base_uri": "https://localhost:8080/",
          "height": 34
        }
      },
      "source": [
        "data.shape"
      ],
      "execution_count": 0,
      "outputs": [
        {
          "output_type": "execute_result",
          "data": {
            "text/plain": [
              "(99, 10)"
            ]
          },
          "metadata": {
            "tags": []
          },
          "execution_count": 8
        }
      ]
    },
    {
      "cell_type": "code",
      "metadata": {
        "id": "M_5hyT-_OxMz",
        "colab_type": "code",
        "outputId": "02626116-eb08-4bb0-ffb1-4963da600b78",
        "colab": {
          "base_uri": "https://localhost:8080/",
          "height": 564
        }
      },
      "source": [
        "print(data[data.region == 4])\n",
        "print(data[data.region == 4].count())"
      ],
      "execution_count": 0,
      "outputs": [
        {
          "output_type": "stream",
          "text": [
            "    land_area  percent_city  percent_senior  ...  income  region  crime_rate\n",
            "4        2480          31.5            10.5  ...   26573       4       80.19\n",
            "13        782          28.4             7.8  ...   12591       4       63.20\n",
            "14       4226          38.1             9.8  ...   10918       4       64.05\n",
            "18      27293          25.3            12.3  ...    7399       4       76.03\n",
            "20       9155          53.8            11.1  ...    7766       4       85.62\n",
            "25       3434          28.9             8.3  ...    5909       4       77.94\n",
            "33        596         100.0             6.0  ...    5181       4       64.98\n",
            "53       5966          39.5             9.6  ...    3007       4       80.94\n",
            "54       1863          50.4             7.7  ...    2747       4       53.76\n",
            "59       1676          36.6             9.2  ...    2689       4       57.37\n",
            "67       8152          22.3             9.1  ...    2257       4       78.10\n",
            "73       1758          56.8            11.5  ...    1939       4       56.06\n",
            "74       1412          39.2            11.3  ...    2098       4       82.68\n",
            "81       2710          63.7             6.2  ...    1639       4       63.10\n",
            "84       2737          45.0            10.5  ...    1980       4       63.44\n",
            "93       4552          54.4             9.1  ...    1386       4       62.63\n",
            "94       1511          38.7            10.7  ...    1452       4       70.66\n",
            "\n",
            "[17 rows x 10 columns]\n",
            "land_area         17\n",
            "percent_city      17\n",
            "percent_senior    17\n",
            "physicians        17\n",
            "hospital_beds     17\n",
            "graduates         17\n",
            "work_force        17\n",
            "income            17\n",
            "region            17\n",
            "crime_rate        17\n",
            "dtype: int64\n"
          ],
          "name": "stdout"
        }
      ]
    },
    {
      "cell_type": "code",
      "metadata": {
        "id": "svvydbp0RIly",
        "colab_type": "code",
        "outputId": "11abf80e-d2ac-4815-c511-012283d8a26f",
        "colab": {
          "base_uri": "https://localhost:8080/",
          "height": 282
        }
      },
      "source": [
        "plt.plot(data.land_area,data.crime_rate)"
      ],
      "execution_count": 0,
      "outputs": [
        {
          "output_type": "execute_result",
          "data": {
            "text/plain": [
              "[<matplotlib.lines.Line2D at 0x7f6224974748>]"
            ]
          },
          "metadata": {
            "tags": []
          },
          "execution_count": 10
        },
        {
          "output_type": "display_data",
          "data": {
            "image/png": "[encoded data removed]",
            "text/plain": [
              "<Figure size 432x288 with 1 Axes>"
            ]
          },
          "metadata": {
            "tags": [],
            "needs_background": "light"
          }
        }
      ]
    },
    {
      "cell_type": "code",
      "metadata": {
        "id": "WUz4BeUzk5eM",
        "colab_type": "code",
        "outputId": "bdcecf5b-ad14-48f5-fc80-d08a18c74e2a",
        "colab": {
          "base_uri": "https://localhost:8080/",
          "height": 68
        }
      },
      "source": [
        "print(np.mean(data.land_area))\n",
        "print(min(data.income))\n",
        "max(data.crime_rate)"
      ],
      "execution_count": 0,
      "outputs": [
        {
          "output_type": "stream",
          "text": [
            "2615.7272727272725\n",
            "769\n"
          ],
          "name": "stdout"
        },
        {
          "output_type": "execute_result",
          "data": {
            "text/plain": [
              "85.62"
            ]
          },
          "metadata": {
            "tags": []
          },
          "execution_count": 11
        }
      ]
    },
    {
      "cell_type": "code",
      "metadata": {
        "id": "2pd0TRUm7vcj",
        "colab_type": "code",
        "outputId": "a9abea4f-3aad-4ff2-c94a-6c451a736420",
        "colab": {
          "base_uri": "https://localhost:8080/",
          "height": 379
        }
      },
      "source": [
        "data.corr()"
      ],
      "execution_count": 0,
      "outputs": [
        {
          "output_type": "execute_result",
          "data": {
            "text/html": [
              "<div>\n",
              "<style scoped>\n",
              "    .dataframe tbody tr th:only-of-type {\n",
              "        vertical-align: middle;\n",
              "    }\n",
              "\n",
              "    .dataframe tbody tr th {\n",
              "        vertical-align: top;\n",
              "    }\n",
              "\n",
              "    .dataframe thead th {\n",
              "        text-align: right;\n",
              "    }\n",
              "</style>\n",
              "<table border=\"1\" class=\"dataframe\">\n",
              "  <thead>\n",
              "    <tr style=\"text-align: right;\">\n",
              "      <th></th>\n",
              "      <th>land_area</th>\n",
              "      <th>percent_city</th>\n",
              "      <th>percent_senior</th>\n",
              "      <th>physicians</th>\n",
              "      <th>hospital_beds</th>\n",
              "      <th>graduates</th>\n",
              "      <th>work_force</th>\n",
              "      <th>income</th>\n",
              "      <th>region</th>\n",
              "      <th>crime_rate</th>\n",
              "    </tr>\n",
              "  </thead>\n",
              "  <tbody>\n",
              "    <tr>\n",
              "      <th>land_area</th>\n",
              "      <td>1.000000</td>\n",
              "      <td>-0.077320</td>\n",
              "      <td>0.092226</td>\n",
              "      <td>0.085054</td>\n",
              "      <td>0.081034</td>\n",
              "      <td>0.088728</td>\n",
              "      <td>0.135792</td>\n",
              "      <td>0.111404</td>\n",
              "      <td>0.292392</td>\n",
              "      <td>0.293907</td>\n",
              "    </tr>\n",
              "    <tr>\n",
              "      <th>percent_city</th>\n",
              "      <td>-0.077320</td>\n",
              "      <td>1.000000</td>\n",
              "      <td>-0.250995</td>\n",
              "      <td>0.067391</td>\n",
              "      <td>0.052898</td>\n",
              "      <td>0.076720</td>\n",
              "      <td>0.016011</td>\n",
              "      <td>0.019235</td>\n",
              "      <td>0.235880</td>\n",
              "      <td>0.159596</td>\n",
              "    </tr>\n",
              "    <tr>\n",
              "      <th>percent_senior</th>\n",
              "      <td>0.092226</td>\n",
              "      <td>-0.250995</td>\n",
              "      <td>1.000000</td>\n",
              "      <td>0.056454</td>\n",
              "      <td>0.083775</td>\n",
              "      <td>-0.155695</td>\n",
              "      <td>0.035240</td>\n",
              "      <td>0.046073</td>\n",
              "      <td>-0.242811</td>\n",
              "      <td>-0.177992</td>\n",
              "    </tr>\n",
              "    <tr>\n",
              "      <th>physicians</th>\n",
              "      <td>0.085054</td>\n",
              "      <td>0.067391</td>\n",
              "      <td>0.056454</td>\n",
              "      <td>1.000000</td>\n",
              "      <td>0.974241</td>\n",
              "      <td>0.049500</td>\n",
              "      <td>0.965597</td>\n",
              "      <td>0.976209</td>\n",
              "      <td>-0.140961</td>\n",
              "      <td>0.187763</td>\n",
              "    </tr>\n",
              "    <tr>\n",
              "      <th>hospital_beds</th>\n",
              "      <td>0.081034</td>\n",
              "      <td>0.052898</td>\n",
              "      <td>0.083775</td>\n",
              "      <td>0.974241</td>\n",
              "      <td>1.000000</td>\n",
              "      <td>-0.003892</td>\n",
              "      <td>0.967913</td>\n",
              "      <td>0.974416</td>\n",
              "      <td>-0.220305</td>\n",
              "      <td>0.109799</td>\n",
              "    </tr>\n",
              "    <tr>\n",
              "      <th>graduates</th>\n",
              "      <td>0.088728</td>\n",
              "      <td>0.076720</td>\n",
              "      <td>-0.155695</td>\n",
              "      <td>0.049500</td>\n",
              "      <td>-0.003892</td>\n",
              "      <td>1.000000</td>\n",
              "      <td>0.044054</td>\n",
              "      <td>0.045578</td>\n",
              "      <td>0.246226</td>\n",
              "      <td>0.290880</td>\n",
              "    </tr>\n",
              "    <tr>\n",
              "      <th>work_force</th>\n",
              "      <td>0.135792</td>\n",
              "      <td>0.016011</td>\n",
              "      <td>0.035240</td>\n",
              "      <td>0.965597</td>\n",
              "      <td>0.967913</td>\n",
              "      <td>0.044054</td>\n",
              "      <td>1.000000</td>\n",
              "      <td>0.996735</td>\n",
              "      <td>-0.144022</td>\n",
              "      <td>0.175945</td>\n",
              "    </tr>\n",
              "    <tr>\n",
              "      <th>income</th>\n",
              "      <td>0.111404</td>\n",
              "      <td>0.019235</td>\n",
              "      <td>0.046073</td>\n",
              "      <td>0.976209</td>\n",
              "      <td>0.974416</td>\n",
              "      <td>0.045578</td>\n",
              "      <td>0.996735</td>\n",
              "      <td>1.000000</td>\n",
              "      <td>-0.152016</td>\n",
              "      <td>0.175797</td>\n",
              "    </tr>\n",
              "    <tr>\n",
              "      <th>region</th>\n",
              "      <td>0.292392</td>\n",
              "      <td>0.235880</td>\n",
              "      <td>-0.242811</td>\n",
              "      <td>-0.140961</td>\n",
              "      <td>-0.220305</td>\n",
              "      <td>0.246226</td>\n",
              "      <td>-0.144022</td>\n",
              "      <td>-0.152016</td>\n",
              "      <td>1.000000</td>\n",
              "      <td>0.636192</td>\n",
              "    </tr>\n",
              "    <tr>\n",
              "      <th>crime_rate</th>\n",
              "      <td>0.293907</td>\n",
              "      <td>0.159596</td>\n",
              "      <td>-0.177992</td>\n",
              "      <td>0.187763</td>\n",
              "      <td>0.109799</td>\n",
              "      <td>0.290880</td>\n",
              "      <td>0.175945</td>\n",
              "      <td>0.175797</td>\n",
              "      <td>0.636192</td>\n",
              "      <td>1.000000</td>\n",
              "    </tr>\n",
              "  </tbody>\n",
              "</table>\n",
              "</div>"
            ],
            "text/plain": [
              "                land_area  percent_city  ...    region  crime_rate\n",
              "land_area        1.000000     -0.077320  ...  0.292392    0.293907\n",
              "percent_city    -0.077320      1.000000  ...  0.235880    0.159596\n",
              "percent_senior   0.092226     -0.250995  ... -0.242811   -0.177992\n",
              "physicians       0.085054      0.067391  ... -0.140961    0.187763\n",
              "hospital_beds    0.081034      0.052898  ... -0.220305    0.109799\n",
              "graduates        0.088728      0.076720  ...  0.246226    0.290880\n",
              "work_force       0.135792      0.016011  ... -0.144022    0.175945\n",
              "income           0.111404      0.019235  ... -0.152016    0.175797\n",
              "region           0.292392      0.235880  ...  1.000000    0.636192\n",
              "crime_rate       0.293907      0.159596  ...  0.636192    1.000000\n",
              "\n",
              "[10 rows x 10 columns]"
            ]
          },
          "metadata": {
            "tags": []
          },
          "execution_count": 12
        }
      ]
    },
    {
      "cell_type": "code",
      "metadata": {
        "id": "4MfJZijs7419",
        "colab_type": "code",
        "outputId": "8cf0f2d6-a705-4ad1-8a67-83e41640b209",
        "colab": {
          "base_uri": "https://localhost:8080/",
          "height": 282
        }
      },
      "source": [
        "plt.scatter(data.hospital_beds,data.physicians)"
      ],
      "execution_count": 0,
      "outputs": [
        {
          "output_type": "execute_result",
          "data": {
            "text/plain": [
              "<matplotlib.collections.PathCollection at 0x7f6224446320>"
            ]
          },
          "metadata": {
            "tags": []
          },
          "execution_count": 13
        },
        {
          "output_type": "display_data",
          "data": {
            "image/png": "[encoded data removed]",
            "text/plain": [
              "<Figure size 432x288 with 1 Axes>"
            ]
          },
          "metadata": {
            "tags": [],
            "needs_background": "light"
          }
        }
      ]
    },
    {
      "cell_type": "code",
      "metadata": {
        "id": "f8bVvqCvDVuM",
        "colab_type": "code",
        "outputId": "017cfb25-08c8-43cf-b694-d78f2547684b",
        "colab": {
          "base_uri": "https://localhost:8080/",
          "height": 265
        }
      },
      "source": [
        "data.income.hist();"
      ],
      "execution_count": 0,
      "outputs": [
        {
          "output_type": "display_data",
          "data": {
            "image/png": "[encoded data removed]",
            "text/plain": [
              "<Figure size 432x288 with 1 Axes>"
            ]
          },
          "metadata": {
            "tags": [],
            "needs_background": "light"
          }
        }
      ]
    },
    {
      "cell_type": "code",
      "metadata": {
        "id": "yKkt8c5zr-Mz",
        "colab_type": "code",
        "outputId": "719cd711-ec04-4847-82c0-d01aa35b2728",
        "colab": {
          "base_uri": "https://localhost:8080/",
          "height": 265
        }
      },
      "source": [
        "data.region.hist();"
      ],
      "execution_count": 0,
      "outputs": [
        {
          "output_type": "display_data",
          "data": {
            "image/png": "[encoded data removed]",
            "text/plain": [
              "<Figure size 432x288 with 1 Axes>"
            ]
          },
          "metadata": {
            "tags": [],
            "needs_background": "light"
          }
        }
      ]
    },
    {
      "cell_type": "code",
      "metadata": {
        "id": "J8j2iKuksOzi",
        "colab_type": "code",
        "colab": {
          "base_uri": "https://localhost:8080/",
          "height": 720
        },
        "outputId": "9c4d753b-d6ec-475b-d05f-2b7368e58b98"
      },
      "source": [
        "data[data.region == 1 ]"
      ],
      "execution_count": 28,
      "outputs": [
        {
          "output_type": "execute_result",
          "data": {
            "text/html": [
              "<div>\n",
              "<style scoped>\n",
              "    .dataframe tbody tr th:only-of-type {\n",
              "        vertical-align: middle;\n",
              "    }\n",
              "\n",
              "    .dataframe tbody tr th {\n",
              "        vertical-align: top;\n",
              "    }\n",
              "\n",
              "    .dataframe thead th {\n",
              "        text-align: right;\n",
              "    }\n",
              "</style>\n",
              "<table border=\"1\" class=\"dataframe\">\n",
              "  <thead>\n",
              "    <tr style=\"text-align: right;\">\n",
              "      <th></th>\n",
              "      <th>land_area</th>\n",
              "      <th>percent_city</th>\n",
              "      <th>percent_senior</th>\n",
              "      <th>physicians</th>\n",
              "      <th>hospital_beds</th>\n",
              "      <th>graduates</th>\n",
              "      <th>work_force</th>\n",
              "      <th>income</th>\n",
              "      <th>region</th>\n",
              "      <th>crime_rate</th>\n",
              "    </tr>\n",
              "  </thead>\n",
              "  <tbody>\n",
              "    <tr>\n",
              "      <th>0</th>\n",
              "      <td>1384</td>\n",
              "      <td>78.1</td>\n",
              "      <td>12.3</td>\n",
              "      <td>25627</td>\n",
              "      <td>69678</td>\n",
              "      <td>50.1</td>\n",
              "      <td>4083.9</td>\n",
              "      <td>72100</td>\n",
              "      <td>1</td>\n",
              "      <td>75.55</td>\n",
              "    </tr>\n",
              "    <tr>\n",
              "      <th>2</th>\n",
              "      <td>3553</td>\n",
              "      <td>37.4</td>\n",
              "      <td>10.7</td>\n",
              "      <td>9724</td>\n",
              "      <td>33731</td>\n",
              "      <td>50.6</td>\n",
              "      <td>2066.3</td>\n",
              "      <td>33216</td>\n",
              "      <td>1</td>\n",
              "      <td>41.32</td>\n",
              "    </tr>\n",
              "    <tr>\n",
              "      <th>8</th>\n",
              "      <td>3049</td>\n",
              "      <td>19.5</td>\n",
              "      <td>12.1</td>\n",
              "      <td>4005</td>\n",
              "      <td>21149</td>\n",
              "      <td>53.4</td>\n",
              "      <td>967.5</td>\n",
              "      <td>15826</td>\n",
              "      <td>1</td>\n",
              "      <td>30.51</td>\n",
              "    </tr>\n",
              "    <tr>\n",
              "      <th>10</th>\n",
              "      <td>1008</td>\n",
              "      <td>16.6</td>\n",
              "      <td>10.3</td>\n",
              "      <td>4006</td>\n",
              "      <td>16704</td>\n",
              "      <td>55.9</td>\n",
              "      <td>935.5</td>\n",
              "      <td>15953</td>\n",
              "      <td>1</td>\n",
              "      <td>54.16</td>\n",
              "    </tr>\n",
              "    <tr>\n",
              "      <th>24</th>\n",
              "      <td>2966</td>\n",
              "      <td>26.9</td>\n",
              "      <td>10.3</td>\n",
              "      <td>2053</td>\n",
              "      <td>6604</td>\n",
              "      <td>56.3</td>\n",
              "      <td>450.4</td>\n",
              "      <td>6966</td>\n",
              "      <td>1</td>\n",
              "      <td>56.55</td>\n",
              "    </tr>\n",
              "    <tr>\n",
              "      <th>28</th>\n",
              "      <td>2624</td>\n",
              "      <td>30.4</td>\n",
              "      <td>12.2</td>\n",
              "      <td>1532</td>\n",
              "      <td>4730</td>\n",
              "      <td>55.2</td>\n",
              "      <td>356.5</td>\n",
              "      <td>5094</td>\n",
              "      <td>1</td>\n",
              "      <td>38.75</td>\n",
              "    </tr>\n",
              "    <tr>\n",
              "      <th>36</th>\n",
              "      <td>2419</td>\n",
              "      <td>27.8</td>\n",
              "      <td>9.9</td>\n",
              "      <td>1250</td>\n",
              "      <td>2870</td>\n",
              "      <td>57.8</td>\n",
              "      <td>286.8</td>\n",
              "      <td>3860</td>\n",
              "      <td>1</td>\n",
              "      <td>47.65</td>\n",
              "    </tr>\n",
              "    <tr>\n",
              "      <th>38</th>\n",
              "      <td>1951</td>\n",
              "      <td>28.4</td>\n",
              "      <td>14.5</td>\n",
              "      <td>696</td>\n",
              "      <td>4843</td>\n",
              "      <td>47.9</td>\n",
              "      <td>271.5</td>\n",
              "      <td>3667</td>\n",
              "      <td>1</td>\n",
              "      <td>23.64</td>\n",
              "    </tr>\n",
              "    <tr>\n",
              "      <th>39</th>\n",
              "      <td>1490</td>\n",
              "      <td>33.1</td>\n",
              "      <td>11.9</td>\n",
              "      <td>827</td>\n",
              "      <td>3818</td>\n",
              "      <td>47.4</td>\n",
              "      <td>300.2</td>\n",
              "      <td>4144</td>\n",
              "      <td>1</td>\n",
              "      <td>30.59</td>\n",
              "    </tr>\n",
              "    <tr>\n",
              "      <th>43</th>\n",
              "      <td>312</td>\n",
              "      <td>19.5</td>\n",
              "      <td>7.5</td>\n",
              "      <td>769</td>\n",
              "      <td>2463</td>\n",
              "      <td>55.0</td>\n",
              "      <td>298.7</td>\n",
              "      <td>4352</td>\n",
              "      <td>1</td>\n",
              "      <td>48.99</td>\n",
              "    </tr>\n",
              "    <tr>\n",
              "      <th>46</th>\n",
              "      <td>47</td>\n",
              "      <td>41.9</td>\n",
              "      <td>11.9</td>\n",
              "      <td>745</td>\n",
              "      <td>3352</td>\n",
              "      <td>36.3</td>\n",
              "      <td>258.9</td>\n",
              "      <td>3915</td>\n",
              "      <td>1</td>\n",
              "      <td>51.70</td>\n",
              "    </tr>\n",
              "    <tr>\n",
              "      <th>55</th>\n",
              "      <td>192</td>\n",
              "      <td>60.5</td>\n",
              "      <td>10.8</td>\n",
              "      <td>617</td>\n",
              "      <td>1789</td>\n",
              "      <td>44.1</td>\n",
              "      <td>212.6</td>\n",
              "      <td>3158</td>\n",
              "      <td>1</td>\n",
              "      <td>58.79</td>\n",
              "    </tr>\n",
              "    <tr>\n",
              "      <th>58</th>\n",
              "      <td>1624</td>\n",
              "      <td>13.4</td>\n",
              "      <td>11.0</td>\n",
              "      <td>832</td>\n",
              "      <td>2938</td>\n",
              "      <td>55.4</td>\n",
              "      <td>207.8</td>\n",
              "      <td>2885</td>\n",
              "      <td>1</td>\n",
              "      <td>39.59</td>\n",
              "    </tr>\n",
              "    <tr>\n",
              "      <th>70</th>\n",
              "      <td>946</td>\n",
              "      <td>16.4</td>\n",
              "      <td>11.1</td>\n",
              "      <td>366</td>\n",
              "      <td>1455</td>\n",
              "      <td>43.9</td>\n",
              "      <td>163.8</td>\n",
              "      <td>2178</td>\n",
              "      <td>1</td>\n",
              "      <td>23.32</td>\n",
              "    </tr>\n",
              "    <tr>\n",
              "      <th>72</th>\n",
              "      <td>2658</td>\n",
              "      <td>39.0</td>\n",
              "      <td>12.2</td>\n",
              "      <td>365</td>\n",
              "      <td>5430</td>\n",
              "      <td>49.9</td>\n",
              "      <td>136.9</td>\n",
              "      <td>1862</td>\n",
              "      <td>1</td>\n",
              "      <td>28.52</td>\n",
              "    </tr>\n",
              "    <tr>\n",
              "      <th>75</th>\n",
              "      <td>2071</td>\n",
              "      <td>19.9</td>\n",
              "      <td>11.3</td>\n",
              "      <td>470</td>\n",
              "      <td>2531</td>\n",
              "      <td>58.9</td>\n",
              "      <td>133.1</td>\n",
              "      <td>1782</td>\n",
              "      <td>1</td>\n",
              "      <td>36.47</td>\n",
              "    </tr>\n",
              "    <tr>\n",
              "      <th>76</th>\n",
              "      <td>862</td>\n",
              "      <td>26.3</td>\n",
              "      <td>13.4</td>\n",
              "      <td>423</td>\n",
              "      <td>1929</td>\n",
              "      <td>43.3</td>\n",
              "      <td>145.5</td>\n",
              "      <td>2010</td>\n",
              "      <td>1</td>\n",
              "      <td>25.49</td>\n",
              "    </tr>\n",
              "    <tr>\n",
              "      <th>86</th>\n",
              "      <td>813</td>\n",
              "      <td>46.0</td>\n",
              "      <td>9.8</td>\n",
              "      <td>293</td>\n",
              "      <td>1693</td>\n",
              "      <td>58.4</td>\n",
              "      <td>119.9</td>\n",
              "      <td>1688</td>\n",
              "      <td>1</td>\n",
              "      <td>38.24</td>\n",
              "    </tr>\n",
              "    <tr>\n",
              "      <th>88</th>\n",
              "      <td>1148</td>\n",
              "      <td>45.3</td>\n",
              "      <td>11.1</td>\n",
              "      <td>891</td>\n",
              "      <td>5790</td>\n",
              "      <td>54.0</td>\n",
              "      <td>277.0</td>\n",
              "      <td>3510</td>\n",
              "      <td>1</td>\n",
              "      <td>49.64</td>\n",
              "    </tr>\n",
              "    <tr>\n",
              "      <th>89</th>\n",
              "      <td>1509</td>\n",
              "      <td>37.6</td>\n",
              "      <td>12.0</td>\n",
              "      <td>1087</td>\n",
              "      <td>4900</td>\n",
              "      <td>51.4</td>\n",
              "      <td>319.6</td>\n",
              "      <td>3982</td>\n",
              "      <td>1</td>\n",
              "      <td>45.19</td>\n",
              "    </tr>\n",
              "    <tr>\n",
              "      <th>97</th>\n",
              "      <td>813</td>\n",
              "      <td>13.4</td>\n",
              "      <td>10.9</td>\n",
              "      <td>371</td>\n",
              "      <td>4355</td>\n",
              "      <td>58.0</td>\n",
              "      <td>97.0</td>\n",
              "      <td>1589</td>\n",
              "      <td>1</td>\n",
              "      <td>36.33</td>\n",
              "    </tr>\n",
              "  </tbody>\n",
              "</table>\n",
              "</div>"
            ],
            "text/plain": [
              "    land_area  percent_city  percent_senior  ...  income  region  crime_rate\n",
              "0        1384          78.1            12.3  ...   72100       1       75.55\n",
              "2        3553          37.4            10.7  ...   33216       1       41.32\n",
              "8        3049          19.5            12.1  ...   15826       1       30.51\n",
              "10       1008          16.6            10.3  ...   15953       1       54.16\n",
              "24       2966          26.9            10.3  ...    6966       1       56.55\n",
              "28       2624          30.4            12.2  ...    5094       1       38.75\n",
              "36       2419          27.8             9.9  ...    3860       1       47.65\n",
              "38       1951          28.4            14.5  ...    3667       1       23.64\n",
              "39       1490          33.1            11.9  ...    4144       1       30.59\n",
              "43        312          19.5             7.5  ...    4352       1       48.99\n",
              "46         47          41.9            11.9  ...    3915       1       51.70\n",
              "55        192          60.5            10.8  ...    3158       1       58.79\n",
              "58       1624          13.4            11.0  ...    2885       1       39.59\n",
              "70        946          16.4            11.1  ...    2178       1       23.32\n",
              "72       2658          39.0            12.2  ...    1862       1       28.52\n",
              "75       2071          19.9            11.3  ...    1782       1       36.47\n",
              "76        862          26.3            13.4  ...    2010       1       25.49\n",
              "86        813          46.0             9.8  ...    1688       1       38.24\n",
              "88       1148          45.3            11.1  ...    3510       1       49.64\n",
              "89       1509          37.6            12.0  ...    3982       1       45.19\n",
              "97        813          13.4            10.9  ...    1589       1       36.33\n",
              "\n",
              "[21 rows x 10 columns]"
            ]
          },
          "metadata": {
            "tags": []
          },
          "execution_count": 28
        }
      ]
    },
    {
      "cell_type": "code",
      "metadata": {
        "id": "AU7K-WKvFp5T",
        "colab_type": "code",
        "colab": {
          "base_uri": "https://localhost:8080/",
          "height": 680
        },
        "outputId": "215cfaae-a63e-4fd7-f1e0-07631518790f"
      },
      "source": [
        "data[data.region == 3].count"
      ],
      "execution_count": 30,
      "outputs": [
        {
          "output_type": "execute_result",
          "data": {
            "text/plain": [
              "<bound method DataFrame.count of     land_area  percent_city  percent_senior  ...  income  region  crime_rate\n",
              "5        2815          23.1             6.7  ...   25663       3       58.48\n",
              "6        8360          46.3             8.2  ...   18350       3       72.25\n",
              "7        6794          60.1             6.3  ...   18221       3       64.88\n",
              "12       4326          23.6             7.3  ...   12107       3       58.12\n",
              "16       2045          37.2            21.4  ...    7989       3       64.68\n",
              "22       1967          51.1             8.8  ...    7038       3       61.15\n",
              "26       1392          37.2             9.8  ...    5705       3       51.69\n",
              "27       3358          35.1            11.3  ...    4941       3       53.15\n",
              "30       3214          47.7             9.4  ...    4924       3       45.14\n",
              "31       3491          48.5             9.7  ...    4798       3       57.88\n",
              "32       4080          59.6             9.9  ...    4600       3       43.90\n",
              "34       3199          80.6             8.7  ...    4127       3       61.97\n",
              "40       5677          55.8            10.5  ...    4035       3       52.70\n",
              "41       1525          55.7             8.3  ...    3777       3       62.09\n",
              "42       2528          19.2            10.2  ...    3489       3       74.94\n",
              "47       2115          19.9             9.1  ...    2962       3       58.33\n",
              "49       1165          14.5             8.6  ...    3724       3       60.77\n",
              "50       1553          50.0             8.0  ...    2991       3       49.83\n",
              "51       2023          22.1            21.8  ...    3283       3       76.35\n",
              "52       2766          67.9             7.7  ...    2598       3       63.22\n",
              "57       1057          90.7             6.1  ...    2012       3       58.97\n",
              "60       2109          41.2            10.3  ...    2308       3       40.30\n",
              "62       2618          31.7             6.1  ...    1992       3       65.05\n",
              "63       1465          30.3             6.8  ...    2201       3       70.66\n",
              "66       1489          58.8             9.5  ...    2264       3       70.55\n",
              "68        655          75.2             6.6  ...    2088       3       42.92\n",
              "69       2363          53.1            10.6  ...    1996       3       53.97\n",
              "77       1526          71.7             7.7  ...    1692       3       66.13\n",
              "78       1758          33.2            11.6  ...    1641       3       41.98\n",
              "79       1651          64.6             8.9  ...    1724       3       48.88\n",
              "80       1493          64.8             8.9  ...    1787       3       53.98\n",
              "85       1697          23.8             7.2  ...    1354       3       70.50\n",
              "90       2013          61.7             9.7  ...    1412       3       56.87\n",
              "95       1543          39.6             8.1  ...     769       3       36.36\n",
              "96       1011          37.8            10.5  ...    1337       3       60.16\n",
              "98        654          28.8             3.9  ...    1148       3       68.76\n",
              "\n",
              "[36 rows x 10 columns]>"
            ]
          },
          "metadata": {
            "tags": []
          },
          "execution_count": 30
        }
      ]
    },
    {
      "cell_type": "code",
      "metadata": {
        "id": "dzaUKm89Ghai",
        "colab_type": "code",
        "colab": {
          "base_uri": "https://localhost:8080/",
          "height": 80
        },
        "outputId": "ed91b5ea-3869-4ac3-9783-3965dbd1ad79"
      },
      "source": [
        "data[data.crime_rate == 85.62]"
      ],
      "execution_count": 33,
      "outputs": [
        {
          "output_type": "execute_result",
          "data": {
            "text/html": [
              "<div>\n",
              "<style scoped>\n",
              "    .dataframe tbody tr th:only-of-type {\n",
              "        vertical-align: middle;\n",
              "    }\n",
              "\n",
              "    .dataframe tbody tr th {\n",
              "        vertical-align: top;\n",
              "    }\n",
              "\n",
              "    .dataframe thead th {\n",
              "        text-align: right;\n",
              "    }\n",
              "</style>\n",
              "<table border=\"1\" class=\"dataframe\">\n",
              "  <thead>\n",
              "    <tr style=\"text-align: right;\">\n",
              "      <th></th>\n",
              "      <th>land_area</th>\n",
              "      <th>percent_city</th>\n",
              "      <th>percent_senior</th>\n",
              "      <th>physicians</th>\n",
              "      <th>hospital_beds</th>\n",
              "      <th>graduates</th>\n",
              "      <th>work_force</th>\n",
              "      <th>income</th>\n",
              "      <th>region</th>\n",
              "      <th>crime_rate</th>\n",
              "    </tr>\n",
              "  </thead>\n",
              "  <tbody>\n",
              "    <tr>\n",
              "      <th>20</th>\n",
              "      <td>9155</td>\n",
              "      <td>53.8</td>\n",
              "      <td>11.1</td>\n",
              "      <td>2280</td>\n",
              "      <td>6450</td>\n",
              "      <td>60.1</td>\n",
              "      <td>575.2</td>\n",
              "      <td>7766</td>\n",
              "      <td>4</td>\n",
              "      <td>85.62</td>\n",
              "    </tr>\n",
              "  </tbody>\n",
              "</table>\n",
              "</div>"
            ],
            "text/plain": [
              "    land_area  percent_city  percent_senior  ...  income  region  crime_rate\n",
              "20       9155          53.8            11.1  ...    7766       4       85.62\n",
              "\n",
              "[1 rows x 10 columns]"
            ]
          },
          "metadata": {
            "tags": []
          },
          "execution_count": 33
        }
      ]
    }
  ]
}