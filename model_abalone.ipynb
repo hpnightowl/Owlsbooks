{
  "nbformat": 4,
  "nbformat_minor": 0,
  "metadata": {
    "colab": {
      "name": "model_abalone.ipynb",
      "provenance": [],
      "collapsed_sections": [],
      "authorship_tag": "ABX9TyNzCAHDYQKioDzhHVFislag",
      "include_colab_link": true
    },
    "kernelspec": {
      "name": "python3",
      "display_name": "Python 3"
    }
  },
  "cells": [
    {
      "cell_type": "markdown",
      "metadata": {
        "id": "view-in-github",
        "colab_type": "text"
      },
      "source": [
        "<a href=\"https://colab.research.google.com/github/hpnightowl/owlsbooks/blob/master/model_abalone.ipynb\" target=\"_parent\"><img src=\"https://colab.research.google.com/assets/colab-badge.svg\" alt=\"Open In Colab\"/></a>"
      ]
    },
    {
      "cell_type": "code",
      "metadata": {
        "id": "kF_D-uXFCn2Q",
        "colab_type": "code",
        "colab": {}
      },
      "source": [
        "#A Seperate Nootbook For Model\n",
        "import pandas as pd\n",
        "\n",
        "ad = pd.read_csv(\"https://raw.githubusercontent.com/dphi-official/Datasets/master/abalone_data/training_set_label.csv\" )"
      ],
      "execution_count": 96,
      "outputs": []
    },
    {
      "cell_type": "code",
      "metadata": {
        "id": "vrXMcvp3IJi3",
        "colab_type": "code",
        "colab": {
          "base_uri": "https://localhost:8080/",
          "height": 195
        },
        "outputId": "91fa729f-5fa3-4b44-8d6e-1b9a8ddb283f"
      },
      "source": [
        "ad.head(5)"
      ],
      "execution_count": 97,
      "outputs": [
        {
          "output_type": "execute_result",
          "data": {
            "text/html": [
              "<div>\n",
              "<style scoped>\n",
              "    .dataframe tbody tr th:only-of-type {\n",
              "        vertical-align: middle;\n",
              "    }\n",
              "\n",
              "    .dataframe tbody tr th {\n",
              "        vertical-align: top;\n",
              "    }\n",
              "\n",
              "    .dataframe thead th {\n",
              "        text-align: right;\n",
              "    }\n",
              "</style>\n",
              "<table border=\"1\" class=\"dataframe\">\n",
              "  <thead>\n",
              "    <tr style=\"text-align: right;\">\n",
              "      <th></th>\n",
              "      <th>Sex</th>\n",
              "      <th>Length</th>\n",
              "      <th>Diameter</th>\n",
              "      <th>Height</th>\n",
              "      <th>Whole weight</th>\n",
              "      <th>Shucked weight</th>\n",
              "      <th>Viscera weight</th>\n",
              "      <th>Shell weight</th>\n",
              "      <th>Rings</th>\n",
              "    </tr>\n",
              "  </thead>\n",
              "  <tbody>\n",
              "    <tr>\n",
              "      <th>0</th>\n",
              "      <td>F</td>\n",
              "      <td>0.525</td>\n",
              "      <td>0.400</td>\n",
              "      <td>0.135</td>\n",
              "      <td>0.7140</td>\n",
              "      <td>0.3180</td>\n",
              "      <td>0.1380</td>\n",
              "      <td>0.208</td>\n",
              "      <td>10</td>\n",
              "    </tr>\n",
              "    <tr>\n",
              "      <th>1</th>\n",
              "      <td>F</td>\n",
              "      <td>0.445</td>\n",
              "      <td>0.325</td>\n",
              "      <td>0.125</td>\n",
              "      <td>0.4550</td>\n",
              "      <td>0.1785</td>\n",
              "      <td>0.1125</td>\n",
              "      <td>0.140</td>\n",
              "      <td>9</td>\n",
              "    </tr>\n",
              "    <tr>\n",
              "      <th>2</th>\n",
              "      <td>M</td>\n",
              "      <td>0.710</td>\n",
              "      <td>0.540</td>\n",
              "      <td>0.165</td>\n",
              "      <td>1.9590</td>\n",
              "      <td>0.7665</td>\n",
              "      <td>0.2610</td>\n",
              "      <td>0.780</td>\n",
              "      <td>18</td>\n",
              "    </tr>\n",
              "    <tr>\n",
              "      <th>3</th>\n",
              "      <td>F</td>\n",
              "      <td>0.680</td>\n",
              "      <td>0.580</td>\n",
              "      <td>0.200</td>\n",
              "      <td>1.7870</td>\n",
              "      <td>0.5850</td>\n",
              "      <td>0.4530</td>\n",
              "      <td>0.600</td>\n",
              "      <td>19</td>\n",
              "    </tr>\n",
              "    <tr>\n",
              "      <th>4</th>\n",
              "      <td>M</td>\n",
              "      <td>0.605</td>\n",
              "      <td>0.470</td>\n",
              "      <td>0.160</td>\n",
              "      <td>1.1735</td>\n",
              "      <td>0.4975</td>\n",
              "      <td>0.2405</td>\n",
              "      <td>0.345</td>\n",
              "      <td>12</td>\n",
              "    </tr>\n",
              "  </tbody>\n",
              "</table>\n",
              "</div>"
            ],
            "text/plain": [
              "  Sex  Length  Diameter  ...  Viscera weight  Shell weight  Rings\n",
              "0   F   0.525     0.400  ...          0.1380         0.208     10\n",
              "1   F   0.445     0.325  ...          0.1125         0.140      9\n",
              "2   M   0.710     0.540  ...          0.2610         0.780     18\n",
              "3   F   0.680     0.580  ...          0.4530         0.600     19\n",
              "4   M   0.605     0.470  ...          0.2405         0.345     12\n",
              "\n",
              "[5 rows x 9 columns]"
            ]
          },
          "metadata": {
            "tags": []
          },
          "execution_count": 97
        }
      ]
    },
    {
      "cell_type": "code",
      "metadata": {
        "id": "cp4iUmiPISES",
        "colab_type": "code",
        "colab": {
          "base_uri": "https://localhost:8080/",
          "height": 34
        },
        "outputId": "4e40dd2e-1797-4bb4-d6dc-96a47f01a903"
      },
      "source": [
        "ad.shape"
      ],
      "execution_count": 98,
      "outputs": [
        {
          "output_type": "execute_result",
          "data": {
            "text/plain": [
              "(3132, 9)"
            ]
          },
          "metadata": {
            "tags": []
          },
          "execution_count": 98
        }
      ]
    },
    {
      "cell_type": "code",
      "metadata": {
        "id": "W-SC3g47Im0_",
        "colab_type": "code",
        "colab": {
          "base_uri": "https://localhost:8080/",
          "height": 185
        },
        "outputId": "d3e1b177-c945-4581-f1f3-161ec3974c54"
      },
      "source": [
        "ad.isnull().sum()"
      ],
      "execution_count": 99,
      "outputs": [
        {
          "output_type": "execute_result",
          "data": {
            "text/plain": [
              "Sex               0\n",
              "Length            0\n",
              "Diameter          0\n",
              "Height            0\n",
              "Whole weight      0\n",
              "Shucked weight    0\n",
              "Viscera weight    0\n",
              "Shell weight      0\n",
              "Rings             0\n",
              "dtype: int64"
            ]
          },
          "metadata": {
            "tags": []
          },
          "execution_count": 99
        }
      ]
    },
    {
      "cell_type": "code",
      "metadata": {
        "id": "KuKKnrimIq3L",
        "colab_type": "code",
        "colab": {
          "base_uri": "https://localhost:8080/",
          "height": 195
        },
        "outputId": "e275cf6d-cc09-4caf-b03b-b5eecd095530"
      },
      "source": [
        "from sklearn.preprocessing import LabelEncoder\n",
        "\n",
        "le = LabelEncoder()\n",
        "ad['Sex'] = le.fit_transform(ad['Sex'])\n",
        "ad.head()"
      ],
      "execution_count": 100,
      "outputs": [
        {
          "output_type": "execute_result",
          "data": {
            "text/html": [
              "<div>\n",
              "<style scoped>\n",
              "    .dataframe tbody tr th:only-of-type {\n",
              "        vertical-align: middle;\n",
              "    }\n",
              "\n",
              "    .dataframe tbody tr th {\n",
              "        vertical-align: top;\n",
              "    }\n",
              "\n",
              "    .dataframe thead th {\n",
              "        text-align: right;\n",
              "    }\n",
              "</style>\n",
              "<table border=\"1\" class=\"dataframe\">\n",
              "  <thead>\n",
              "    <tr style=\"text-align: right;\">\n",
              "      <th></th>\n",
              "      <th>Sex</th>\n",
              "      <th>Length</th>\n",
              "      <th>Diameter</th>\n",
              "      <th>Height</th>\n",
              "      <th>Whole weight</th>\n",
              "      <th>Shucked weight</th>\n",
              "      <th>Viscera weight</th>\n",
              "      <th>Shell weight</th>\n",
              "      <th>Rings</th>\n",
              "    </tr>\n",
              "  </thead>\n",
              "  <tbody>\n",
              "    <tr>\n",
              "      <th>0</th>\n",
              "      <td>0</td>\n",
              "      <td>0.525</td>\n",
              "      <td>0.400</td>\n",
              "      <td>0.135</td>\n",
              "      <td>0.7140</td>\n",
              "      <td>0.3180</td>\n",
              "      <td>0.1380</td>\n",
              "      <td>0.208</td>\n",
              "      <td>10</td>\n",
              "    </tr>\n",
              "    <tr>\n",
              "      <th>1</th>\n",
              "      <td>0</td>\n",
              "      <td>0.445</td>\n",
              "      <td>0.325</td>\n",
              "      <td>0.125</td>\n",
              "      <td>0.4550</td>\n",
              "      <td>0.1785</td>\n",
              "      <td>0.1125</td>\n",
              "      <td>0.140</td>\n",
              "      <td>9</td>\n",
              "    </tr>\n",
              "    <tr>\n",
              "      <th>2</th>\n",
              "      <td>2</td>\n",
              "      <td>0.710</td>\n",
              "      <td>0.540</td>\n",
              "      <td>0.165</td>\n",
              "      <td>1.9590</td>\n",
              "      <td>0.7665</td>\n",
              "      <td>0.2610</td>\n",
              "      <td>0.780</td>\n",
              "      <td>18</td>\n",
              "    </tr>\n",
              "    <tr>\n",
              "      <th>3</th>\n",
              "      <td>0</td>\n",
              "      <td>0.680</td>\n",
              "      <td>0.580</td>\n",
              "      <td>0.200</td>\n",
              "      <td>1.7870</td>\n",
              "      <td>0.5850</td>\n",
              "      <td>0.4530</td>\n",
              "      <td>0.600</td>\n",
              "      <td>19</td>\n",
              "    </tr>\n",
              "    <tr>\n",
              "      <th>4</th>\n",
              "      <td>2</td>\n",
              "      <td>0.605</td>\n",
              "      <td>0.470</td>\n",
              "      <td>0.160</td>\n",
              "      <td>1.1735</td>\n",
              "      <td>0.4975</td>\n",
              "      <td>0.2405</td>\n",
              "      <td>0.345</td>\n",
              "      <td>12</td>\n",
              "    </tr>\n",
              "  </tbody>\n",
              "</table>\n",
              "</div>"
            ],
            "text/plain": [
              "   Sex  Length  Diameter  ...  Viscera weight  Shell weight  Rings\n",
              "0    0   0.525     0.400  ...          0.1380         0.208     10\n",
              "1    0   0.445     0.325  ...          0.1125         0.140      9\n",
              "2    2   0.710     0.540  ...          0.2610         0.780     18\n",
              "3    0   0.680     0.580  ...          0.4530         0.600     19\n",
              "4    2   0.605     0.470  ...          0.2405         0.345     12\n",
              "\n",
              "[5 rows x 9 columns]"
            ]
          },
          "metadata": {
            "tags": []
          },
          "execution_count": 100
        }
      ]
    },
    {
      "cell_type": "code",
      "metadata": {
        "id": "d-FJ3KyjJAdx",
        "colab_type": "code",
        "colab": {}
      },
      "source": [
        "X = ad.drop(columns=['Rings'],axis=1)\n",
        "y =ad[['Rings']]"
      ],
      "execution_count": 101,
      "outputs": []
    },
    {
      "cell_type": "code",
      "metadata": {
        "id": "EI-jgpUIQd_r",
        "colab_type": "code",
        "colab": {
          "base_uri": "https://localhost:8080/",
          "height": 284
        },
        "outputId": "587e635c-fb41-4972-adfa-bf3a6cf383e7"
      },
      "source": [
        "X.corr()"
      ],
      "execution_count": 102,
      "outputs": [
        {
          "output_type": "execute_result",
          "data": {
            "text/html": [
              "<div>\n",
              "<style scoped>\n",
              "    .dataframe tbody tr th:only-of-type {\n",
              "        vertical-align: middle;\n",
              "    }\n",
              "\n",
              "    .dataframe tbody tr th {\n",
              "        vertical-align: top;\n",
              "    }\n",
              "\n",
              "    .dataframe thead th {\n",
              "        text-align: right;\n",
              "    }\n",
              "</style>\n",
              "<table border=\"1\" class=\"dataframe\">\n",
              "  <thead>\n",
              "    <tr style=\"text-align: right;\">\n",
              "      <th></th>\n",
              "      <th>Sex</th>\n",
              "      <th>Length</th>\n",
              "      <th>Diameter</th>\n",
              "      <th>Height</th>\n",
              "      <th>Whole weight</th>\n",
              "      <th>Shucked weight</th>\n",
              "      <th>Viscera weight</th>\n",
              "      <th>Shell weight</th>\n",
              "    </tr>\n",
              "  </thead>\n",
              "  <tbody>\n",
              "    <tr>\n",
              "      <th>Sex</th>\n",
              "      <td>1.000000</td>\n",
              "      <td>-0.017071</td>\n",
              "      <td>-0.021079</td>\n",
              "      <td>-0.015726</td>\n",
              "      <td>-0.000659</td>\n",
              "      <td>0.018821</td>\n",
              "      <td>-0.009312</td>\n",
              "      <td>-0.015721</td>\n",
              "    </tr>\n",
              "    <tr>\n",
              "      <th>Length</th>\n",
              "      <td>-0.017071</td>\n",
              "      <td>1.000000</td>\n",
              "      <td>0.986523</td>\n",
              "      <td>0.890674</td>\n",
              "      <td>0.924719</td>\n",
              "      <td>0.898828</td>\n",
              "      <td>0.901679</td>\n",
              "      <td>0.900571</td>\n",
              "    </tr>\n",
              "    <tr>\n",
              "      <th>Diameter</th>\n",
              "      <td>-0.021079</td>\n",
              "      <td>0.986523</td>\n",
              "      <td>1.000000</td>\n",
              "      <td>0.897447</td>\n",
              "      <td>0.925138</td>\n",
              "      <td>0.894484</td>\n",
              "      <td>0.898299</td>\n",
              "      <td>0.908248</td>\n",
              "    </tr>\n",
              "    <tr>\n",
              "      <th>Height</th>\n",
              "      <td>-0.015726</td>\n",
              "      <td>0.890674</td>\n",
              "      <td>0.897447</td>\n",
              "      <td>1.000000</td>\n",
              "      <td>0.881028</td>\n",
              "      <td>0.834576</td>\n",
              "      <td>0.859091</td>\n",
              "      <td>0.882061</td>\n",
              "    </tr>\n",
              "    <tr>\n",
              "      <th>Whole weight</th>\n",
              "      <td>-0.000659</td>\n",
              "      <td>0.924719</td>\n",
              "      <td>0.925138</td>\n",
              "      <td>0.881028</td>\n",
              "      <td>1.000000</td>\n",
              "      <td>0.971052</td>\n",
              "      <td>0.965639</td>\n",
              "      <td>0.957100</td>\n",
              "    </tr>\n",
              "    <tr>\n",
              "      <th>Shucked weight</th>\n",
              "      <td>0.018821</td>\n",
              "      <td>0.898828</td>\n",
              "      <td>0.894484</td>\n",
              "      <td>0.834576</td>\n",
              "      <td>0.971052</td>\n",
              "      <td>1.000000</td>\n",
              "      <td>0.933097</td>\n",
              "      <td>0.887878</td>\n",
              "    </tr>\n",
              "    <tr>\n",
              "      <th>Viscera weight</th>\n",
              "      <td>-0.009312</td>\n",
              "      <td>0.901679</td>\n",
              "      <td>0.898299</td>\n",
              "      <td>0.859091</td>\n",
              "      <td>0.965639</td>\n",
              "      <td>0.933097</td>\n",
              "      <td>1.000000</td>\n",
              "      <td>0.908051</td>\n",
              "    </tr>\n",
              "    <tr>\n",
              "      <th>Shell weight</th>\n",
              "      <td>-0.015721</td>\n",
              "      <td>0.900571</td>\n",
              "      <td>0.908248</td>\n",
              "      <td>0.882061</td>\n",
              "      <td>0.957100</td>\n",
              "      <td>0.887878</td>\n",
              "      <td>0.908051</td>\n",
              "      <td>1.000000</td>\n",
              "    </tr>\n",
              "  </tbody>\n",
              "</table>\n",
              "</div>"
            ],
            "text/plain": [
              "                     Sex    Length  ...  Viscera weight  Shell weight\n",
              "Sex             1.000000 -0.017071  ...       -0.009312     -0.015721\n",
              "Length         -0.017071  1.000000  ...        0.901679      0.900571\n",
              "Diameter       -0.021079  0.986523  ...        0.898299      0.908248\n",
              "Height         -0.015726  0.890674  ...        0.859091      0.882061\n",
              "Whole weight   -0.000659  0.924719  ...        0.965639      0.957100\n",
              "Shucked weight  0.018821  0.898828  ...        0.933097      0.887878\n",
              "Viscera weight -0.009312  0.901679  ...        1.000000      0.908051\n",
              "Shell weight   -0.015721  0.900571  ...        0.908051      1.000000\n",
              "\n",
              "[8 rows x 8 columns]"
            ]
          },
          "metadata": {
            "tags": []
          },
          "execution_count": 102
        }
      ]
    },
    {
      "cell_type": "code",
      "metadata": {
        "id": "dCr2DsJmKzPh",
        "colab_type": "code",
        "colab": {}
      },
      "source": [
        "from sklearn.model_selection import train_test_split\n",
        "\n",
        "X_train, X_test, y_train, y_test = train_test_split(X, y,test_size=.4,random_state =40)"
      ],
      "execution_count": 103,
      "outputs": []
    },
    {
      "cell_type": "code",
      "metadata": {
        "id": "ik1HE6SFlsfg",
        "colab_type": "code",
        "colab": {}
      },
      "source": [
        "import numpy as np\n",
        "import pandas as pd\n",
        "from sklearn.decomposition import PCA\n",
        "from sklearn.ensemble import ExtraTreesRegressor\n",
        "from sklearn.linear_model import LassoLarsCV\n",
        "from sklearn.model_selection import train_test_split\n",
        "from sklearn.pipeline import make_pipeline, make_union\n",
        "from tpot.builtins import StackingEstimator\n",
        "from tpot.export_utils import set_param_recursive\n",
        "\n",
        "hp = pd.read_csv(\"https://raw.githubusercontent.com/dphi-official/Datasets/master/abalone_data/training_set_label.csv\" )\n",
        "from sklearn.preprocessing import LabelEncoder\n",
        "le = LabelEncoder()\n",
        "hp['Sex'] = le.fit_transform(hp['Sex'])\n",
        "\n",
        "data  = hp # as to save a copy for me:)\n",
        "features = data.drop('Rings', axis=1)\n",
        "training_features, testing_features, training_target, testing_target = \\\n",
        "            train_test_split(features, data['Rings'], random_state=40)\n",
        "\n",
        "# Average CV score on the training set was: -4.405071512735888\n",
        "exported_pipeline = make_pipeline(\n",
        "    PCA(iterated_power=9, svd_solver=\"randomized\"),\n",
        "    StackingEstimator(estimator=LassoLarsCV(normalize=True)),\n",
        "    ExtraTreesRegressor(bootstrap=False, max_features=0.9000000000000001, min_samples_leaf=9, min_samples_split=12, n_estimators=100)\n",
        ")\n",
        "# Fix random state for all the steps in exported pipeline\n",
        "set_param_recursive(exported_pipeline.steps, 'random_state', 40)\n",
        "\n",
        "exported_pipeline.fit(training_features, training_target)\n",
        "results = exported_pipeline.predict(testing_features)"
      ],
      "execution_count": 104,
      "outputs": []
    },
    {
      "cell_type": "code",
      "metadata": {
        "id": "q2uyJJOhNM1P",
        "colab_type": "code",
        "colab": {}
      },
      "source": [
        "test_data = pd.read_csv('https://raw.githubusercontent.com/dphi-official/Datasets/master/abalone_data/testing_set_label.csv')\n",
        "le = LabelEncoder()\n",
        "test_data['Sex'] = le.fit_transform(test_data['Sex'])\n",
        "\n",
        "results = exported_pipeline.predict(test_data)"
      ],
      "execution_count": 105,
      "outputs": []
    },
    {
      "cell_type": "code",
      "metadata": {
        "id": "2JOeMuB6mF20",
        "colab_type": "code",
        "colab": {
          "base_uri": "https://localhost:8080/",
          "height": 17
        },
        "outputId": "39e623b7-6c86-4706-f132-f9970eeef0d8"
      },
      "source": [
        "# To create Dataframe of predicted value with particular respective index\n",
        "res = pd.DataFrame(results) #preditcions are nothing but the final predictions of your model on input features of your new unseen test data\n",
        "res.index = test_data.index # its important for comparison. Here \"test_new\" is your new test dataset\n",
        "res.columns = [\"prediction\"]\n",
        "\n",
        "# To download the csv file locally\n",
        "from google.colab import files\n",
        "res.to_csv('hpi.csv')         \n",
        "files.download('hpi.csv')"
      ],
      "execution_count": 106,
      "outputs": [
        {
          "output_type": "display_data",
          "data": {
            "application/javascript": [
              "\n",
              "    async function download(id, filename, size) {\n",
              "      if (!google.colab.kernel.accessAllowed) {\n",
              "        return;\n",
              "      }\n",
              "      const div = document.createElement('div');\n",
              "      const label = document.createElement('label');\n",
              "      label.textContent = `Downloading \"${filename}\": `;\n",
              "      div.appendChild(label);\n",
              "      const progress = document.createElement('progress');\n",
              "      progress.max = size;\n",
              "      div.appendChild(progress);\n",
              "      document.body.appendChild(div);\n",
              "\n",
              "      const buffers = [];\n",
              "      let downloaded = 0;\n",
              "\n",
              "      const channel = await google.colab.kernel.comms.open(id);\n",
              "      // Send a message to notify the kernel that we're ready.\n",
              "      channel.send({})\n",
              "\n",
              "      for await (const message of channel.messages) {\n",
              "        // Send a message to notify the kernel that we're ready.\n",
              "        channel.send({})\n",
              "        if (message.buffers) {\n",
              "          for (const buffer of message.buffers) {\n",
              "            buffers.push(buffer);\n",
              "            downloaded += buffer.byteLength;\n",
              "            progress.value = downloaded;\n",
              "          }\n",
              "        }\n",
              "      }\n",
              "      const blob = new Blob(buffers, {type: 'application/binary'});\n",
              "      const a = document.createElement('a');\n",
              "      a.href = window.URL.createObjectURL(blob);\n",
              "      a.download = filename;\n",
              "      div.appendChild(a);\n",
              "      a.click();\n",
              "      div.remove();\n",
              "    }\n",
              "  "
            ],
            "text/plain": [
              "<IPython.core.display.Javascript object>"
            ]
          },
          "metadata": {
            "tags": []
          }
        },
        {
          "output_type": "display_data",
          "data": {
            "application/javascript": [
              "download(\"download_cb8eb12b-ae41-4120-ac0d-b493d77400f0\", \"hpi.csv\", 23241)"
            ],
            "text/plain": [
              "<IPython.core.display.Javascript object>"
            ]
          },
          "metadata": {
            "tags": []
          }
        }
      ]
    }
  ]
}