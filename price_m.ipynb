{
  "nbformat": 4,
  "nbformat_minor": 0,
  "metadata": {
    "colab": {
      "name": "titanic.ipynb",
      "provenance": [],
      "include_colab_link": true
    },
    "kernelspec": {
      "name": "python3",
      "display_name": "Python 3"
    }
  },
  "cells": [
    {
      "cell_type": "markdown",
      "metadata": {
        "id": "view-in-github",
        "colab_type": "text"
      },
      "source": [
        "<a href=\"https://colab.research.google.com/github/hpnightowl/Owlsbooks/blob/master/price_m.ipynb\" target=\"_parent\"><img src=\"https://colab.research.google.com/assets/colab-badge.svg\" alt=\"Open In Colab\"/></a>"
      ]
    },
    {
      "cell_type": "code",
      "metadata": {
        "id": "om_IcfGureOG"
      },
      "source": [
        "import pandas as pd \n",
        "import numpy as np\n",
        "import matplotlib.pyplot as plt\n",
        "from sklearn.model_selection import train_test_split\n",
        "from sklearn.tree import DecisionTreeClassifier\n",
        "from sklearn.metrics import accuracy_score"
      ],
      "execution_count": 72,
      "outputs": []
    },
    {
      "cell_type": "code",
      "metadata": {
        "id": "x-weCNtAsBTn"
      },
      "source": [
        "data = pd.read_csv(\"melb_data.csv\")"
      ],
      "execution_count": 73,
      "outputs": []
    },
    {
      "cell_type": "code",
      "metadata": {
        "id": "Noj5YRexsCT6",
        "colab": {
          "base_uri": "https://localhost:8080/",
          "height": 333
        },
        "outputId": "32a47373-32b3-48d7-f478-f38e43afb19e"
      },
      "source": [
        "data.head(5)"
      ],
      "execution_count": 74,
      "outputs": [
        {
          "output_type": "execute_result",
          "data": {
            "text/html": [
              "<div>\n",
              "<style scoped>\n",
              "    .dataframe tbody tr th:only-of-type {\n",
              "        vertical-align: middle;\n",
              "    }\n",
              "\n",
              "    .dataframe tbody tr th {\n",
              "        vertical-align: top;\n",
              "    }\n",
              "\n",
              "    .dataframe thead th {\n",
              "        text-align: right;\n",
              "    }\n",
              "</style>\n",
              "<table border=\"1\" class=\"dataframe\">\n",
              "  <thead>\n",
              "    <tr style=\"text-align: right;\">\n",
              "      <th></th>\n",
              "      <th>Suburb</th>\n",
              "      <th>Address</th>\n",
              "      <th>Rooms</th>\n",
              "      <th>Type</th>\n",
              "      <th>Price</th>\n",
              "      <th>Method</th>\n",
              "      <th>SellerG</th>\n",
              "      <th>Date</th>\n",
              "      <th>Distance</th>\n",
              "      <th>Postcode</th>\n",
              "      <th>Bedroom2</th>\n",
              "      <th>Bathroom</th>\n",
              "      <th>Car</th>\n",
              "      <th>Landsize</th>\n",
              "      <th>BuildingArea</th>\n",
              "      <th>YearBuilt</th>\n",
              "      <th>CouncilArea</th>\n",
              "      <th>Lattitude</th>\n",
              "      <th>Longtitude</th>\n",
              "      <th>Regionname</th>\n",
              "      <th>Propertycount</th>\n",
              "    </tr>\n",
              "  </thead>\n",
              "  <tbody>\n",
              "    <tr>\n",
              "      <th>0</th>\n",
              "      <td>Abbotsford</td>\n",
              "      <td>85 Turner St</td>\n",
              "      <td>2</td>\n",
              "      <td>h</td>\n",
              "      <td>1480000.0</td>\n",
              "      <td>S</td>\n",
              "      <td>Biggin</td>\n",
              "      <td>3/12/2016</td>\n",
              "      <td>2.5</td>\n",
              "      <td>3067.0</td>\n",
              "      <td>2.0</td>\n",
              "      <td>1.0</td>\n",
              "      <td>1.0</td>\n",
              "      <td>202.0</td>\n",
              "      <td>NaN</td>\n",
              "      <td>NaN</td>\n",
              "      <td>Yarra</td>\n",
              "      <td>-37.7996</td>\n",
              "      <td>144.9984</td>\n",
              "      <td>Northern Metropolitan</td>\n",
              "      <td>4019.0</td>\n",
              "    </tr>\n",
              "    <tr>\n",
              "      <th>1</th>\n",
              "      <td>Abbotsford</td>\n",
              "      <td>25 Bloomburg St</td>\n",
              "      <td>2</td>\n",
              "      <td>h</td>\n",
              "      <td>1035000.0</td>\n",
              "      <td>S</td>\n",
              "      <td>Biggin</td>\n",
              "      <td>4/02/2016</td>\n",
              "      <td>2.5</td>\n",
              "      <td>3067.0</td>\n",
              "      <td>2.0</td>\n",
              "      <td>1.0</td>\n",
              "      <td>0.0</td>\n",
              "      <td>156.0</td>\n",
              "      <td>79.0</td>\n",
              "      <td>1900.0</td>\n",
              "      <td>Yarra</td>\n",
              "      <td>-37.8079</td>\n",
              "      <td>144.9934</td>\n",
              "      <td>Northern Metropolitan</td>\n",
              "      <td>4019.0</td>\n",
              "    </tr>\n",
              "    <tr>\n",
              "      <th>2</th>\n",
              "      <td>Abbotsford</td>\n",
              "      <td>5 Charles St</td>\n",
              "      <td>3</td>\n",
              "      <td>h</td>\n",
              "      <td>1465000.0</td>\n",
              "      <td>SP</td>\n",
              "      <td>Biggin</td>\n",
              "      <td>4/03/2017</td>\n",
              "      <td>2.5</td>\n",
              "      <td>3067.0</td>\n",
              "      <td>3.0</td>\n",
              "      <td>2.0</td>\n",
              "      <td>0.0</td>\n",
              "      <td>134.0</td>\n",
              "      <td>150.0</td>\n",
              "      <td>1900.0</td>\n",
              "      <td>Yarra</td>\n",
              "      <td>-37.8093</td>\n",
              "      <td>144.9944</td>\n",
              "      <td>Northern Metropolitan</td>\n",
              "      <td>4019.0</td>\n",
              "    </tr>\n",
              "    <tr>\n",
              "      <th>3</th>\n",
              "      <td>Abbotsford</td>\n",
              "      <td>40 Federation La</td>\n",
              "      <td>3</td>\n",
              "      <td>h</td>\n",
              "      <td>850000.0</td>\n",
              "      <td>PI</td>\n",
              "      <td>Biggin</td>\n",
              "      <td>4/03/2017</td>\n",
              "      <td>2.5</td>\n",
              "      <td>3067.0</td>\n",
              "      <td>3.0</td>\n",
              "      <td>2.0</td>\n",
              "      <td>1.0</td>\n",
              "      <td>94.0</td>\n",
              "      <td>NaN</td>\n",
              "      <td>NaN</td>\n",
              "      <td>Yarra</td>\n",
              "      <td>-37.7969</td>\n",
              "      <td>144.9969</td>\n",
              "      <td>Northern Metropolitan</td>\n",
              "      <td>4019.0</td>\n",
              "    </tr>\n",
              "    <tr>\n",
              "      <th>4</th>\n",
              "      <td>Abbotsford</td>\n",
              "      <td>55a Park St</td>\n",
              "      <td>4</td>\n",
              "      <td>h</td>\n",
              "      <td>1600000.0</td>\n",
              "      <td>VB</td>\n",
              "      <td>Nelson</td>\n",
              "      <td>4/06/2016</td>\n",
              "      <td>2.5</td>\n",
              "      <td>3067.0</td>\n",
              "      <td>3.0</td>\n",
              "      <td>1.0</td>\n",
              "      <td>2.0</td>\n",
              "      <td>120.0</td>\n",
              "      <td>142.0</td>\n",
              "      <td>2014.0</td>\n",
              "      <td>Yarra</td>\n",
              "      <td>-37.8072</td>\n",
              "      <td>144.9941</td>\n",
              "      <td>Northern Metropolitan</td>\n",
              "      <td>4019.0</td>\n",
              "    </tr>\n",
              "  </tbody>\n",
              "</table>\n",
              "</div>"
            ],
            "text/plain": [
              "       Suburb           Address  ...             Regionname Propertycount\n",
              "0  Abbotsford      85 Turner St  ...  Northern Metropolitan        4019.0\n",
              "1  Abbotsford   25 Bloomburg St  ...  Northern Metropolitan        4019.0\n",
              "2  Abbotsford      5 Charles St  ...  Northern Metropolitan        4019.0\n",
              "3  Abbotsford  40 Federation La  ...  Northern Metropolitan        4019.0\n",
              "4  Abbotsford       55a Park St  ...  Northern Metropolitan        4019.0\n",
              "\n",
              "[5 rows x 21 columns]"
            ]
          },
          "metadata": {
            "tags": []
          },
          "execution_count": 74
        }
      ]
    },
    {
      "cell_type": "code",
      "metadata": {
        "id": "TR3SA8Qv8Dap",
        "colab": {
          "base_uri": "https://localhost:8080/",
          "height": 0
        },
        "outputId": "cb6b4ee5-a702-4467-9cfc-5be23260e400"
      },
      "source": [
        "data.shape"
      ],
      "execution_count": 75,
      "outputs": [
        {
          "output_type": "execute_result",
          "data": {
            "text/plain": [
              "(13580, 21)"
            ]
          },
          "metadata": {
            "tags": []
          },
          "execution_count": 75
        }
      ]
    },
    {
      "cell_type": "code",
      "metadata": {
        "id": "eV363iU3uGkf",
        "colab": {
          "base_uri": "https://localhost:8080/",
          "height": 0
        },
        "outputId": "a5b1c3ed-1a32-4110-bee1-3cda6dc37501"
      },
      "source": [
        "data.isnull().sum()"
      ],
      "execution_count": 76,
      "outputs": [
        {
          "output_type": "execute_result",
          "data": {
            "text/plain": [
              "Suburb              0\n",
              "Address             0\n",
              "Rooms               0\n",
              "Type                0\n",
              "Price               0\n",
              "Method              0\n",
              "SellerG             0\n",
              "Date                0\n",
              "Distance            0\n",
              "Postcode            0\n",
              "Bedroom2            0\n",
              "Bathroom            0\n",
              "Car                62\n",
              "Landsize            0\n",
              "BuildingArea     6450\n",
              "YearBuilt        5375\n",
              "CouncilArea      1369\n",
              "Lattitude           0\n",
              "Longtitude          0\n",
              "Regionname          0\n",
              "Propertycount       0\n",
              "dtype: int64"
            ]
          },
          "metadata": {
            "tags": []
          },
          "execution_count": 76
        }
      ]
    },
    {
      "cell_type": "code",
      "metadata": {
        "id": "gMjmf50STWL1"
      },
      "source": [
        "data = data.drop(columns=['BuildingArea','YearBuilt'],axis=1)"
      ],
      "execution_count": 77,
      "outputs": []
    },
    {
      "cell_type": "markdown",
      "metadata": {
        "id": "LNhW4-jwTlRo"
      },
      "source": [
        "removed these columns since more then or equal to 50% of data is null and will fill the councilArea with mean"
      ]
    },
    {
      "cell_type": "code",
      "metadata": {
        "id": "3MlZaHViwIyO",
        "colab": {
          "base_uri": "https://localhost:8080/",
          "height": 0
        },
        "outputId": "b2957e17-27f6-4c27-ff5c-0faa70bb819c"
      },
      "source": [
        "data.columns"
      ],
      "execution_count": 78,
      "outputs": [
        {
          "output_type": "execute_result",
          "data": {
            "text/plain": [
              "Index(['Suburb', 'Address', 'Rooms', 'Type', 'Price', 'Method', 'SellerG',\n",
              "       'Date', 'Distance', 'Postcode', 'Bedroom2', 'Bathroom', 'Car',\n",
              "       'Landsize', 'CouncilArea', 'Lattitude', 'Longtitude', 'Regionname',\n",
              "       'Propertycount'],\n",
              "      dtype='object')"
            ]
          },
          "metadata": {
            "tags": []
          },
          "execution_count": 78
        }
      ]
    },
    {
      "cell_type": "code",
      "metadata": {
        "id": "ODoVsd9fJbSe",
        "colab": {
          "base_uri": "https://localhost:8080/",
          "height": 0
        },
        "outputId": "d8951bd8-b2cb-4354-a96d-58baa17fc380"
      },
      "source": [
        "data.CouncilArea.unique()"
      ],
      "execution_count": 79,
      "outputs": [
        {
          "output_type": "execute_result",
          "data": {
            "text/plain": [
              "array(['Yarra', 'Moonee Valley', 'Port Phillip', 'Darebin', 'Hobsons Bay',\n",
              "       'Stonnington', 'Boroondara', 'Monash', 'Glen Eira', 'Whitehorse',\n",
              "       'Maribyrnong', 'Bayside', 'Moreland', 'Manningham', 'Banyule',\n",
              "       'Melbourne', 'Kingston', 'Brimbank', 'Hume', nan, 'Knox',\n",
              "       'Maroondah', 'Casey', 'Melton', 'Greater Dandenong', 'Nillumbik',\n",
              "       'Whittlesea', 'Frankston', 'Macedon Ranges', 'Yarra Ranges',\n",
              "       'Wyndham', 'Cardinia', 'Unavailable', 'Moorabool'], dtype=object)"
            ]
          },
          "metadata": {
            "tags": []
          },
          "execution_count": 79
        }
      ]
    },
    {
      "cell_type": "code",
      "metadata": {
        "id": "oQM2b0MsXTyh",
        "colab": {
          "base_uri": "https://localhost:8080/",
          "height": 0
        },
        "outputId": "67f48113-0fca-44cb-8a73-bd98f4ae0b68"
      },
      "source": [
        "data.Type.unique()"
      ],
      "execution_count": 80,
      "outputs": [
        {
          "output_type": "execute_result",
          "data": {
            "text/plain": [
              "array(['h', 'u', 't'], dtype=object)"
            ]
          },
          "metadata": {
            "tags": []
          },
          "execution_count": 80
        }
      ]
    },
    {
      "cell_type": "code",
      "metadata": {
        "id": "grY3B_VzJhE1"
      },
      "source": [
        "data['CouncilArea'].fillna(data['CouncilArea'].mode()[0], inplace=True)"
      ],
      "execution_count": 81,
      "outputs": []
    },
    {
      "cell_type": "code",
      "metadata": {
        "id": "QfK9wluHNvcA"
      },
      "source": [
        "data['Car'].fillna(data['Car'].median(), inplace=True)"
      ],
      "execution_count": 82,
      "outputs": []
    },
    {
      "cell_type": "code",
      "metadata": {
        "id": "c1NvEaoqxEwo",
        "outputId": "4590748a-73c9-4065-a3b9-7a74c1d13eb3",
        "colab": {
          "base_uri": "https://localhost:8080/",
          "height": 399
        }
      },
      "source": [
        "import seaborn as sns\r\n",
        "fig1, bw = plt.subplots()\r\n",
        "bw.set_title('Melbourne Data')\r\n",
        "\r\n",
        "sns.distplot(data.Price);\r\n",
        "\r\n",
        "print(\"Max Price\", data.Price.max())\r\n",
        "print(\"Min Price\", data.Price.min())\r\n",
        "print(\"Mean Price\", data.Price.mean())"
      ],
      "execution_count": 83,
      "outputs": [
        {
          "output_type": "stream",
          "text": [
            "/usr/local/lib/python3.7/dist-packages/seaborn/distributions.py:2557: FutureWarning: `distplot` is a deprecated function and will be removed in a future version. Please adapt your code to use either `displot` (a figure-level function with similar flexibility) or `histplot` (an axes-level function for histograms).\n",
            "  warnings.warn(msg, FutureWarning)\n"
          ],
          "name": "stderr"
        },
        {
          "output_type": "stream",
          "text": [
            "Max Price 9000000.0\n",
            "Min Price 85000.0\n",
            "Mean Price 1075684.079455081\n"
          ],
          "name": "stdout"
        },
        {
          "output_type": "display_data",
          "data": {
            "image/png": "[encoded data removed]",
            "text/plain": [
              "<Figure size 432x288 with 1 Axes>"
            ]
          },
          "metadata": {
            "tags": [],
            "needs_background": "light"
          }
        }
      ]
    },
    {
      "cell_type": "code",
      "metadata": {
        "id": "Pxk1wxRuyICN",
        "outputId": "2cd60c18-aeca-484d-fc80-7afab64d7641",
        "colab": {
          "base_uri": "https://localhost:8080/",
          "height": 295
        }
      },
      "source": [
        "fig2, bw = plt.subplots()\r\n",
        "bw.set_title('Prices Based on Amount of Rooms')\r\n",
        "\r\n",
        "#Scatter Plot of Prices by Room Amount\r\n",
        "\r\n",
        "#Display Scatterplot\r\n",
        "sp = sns.scatterplot(x=\"Price\", y=\"Rooms\", data=data)"
      ],
      "execution_count": 84,
      "outputs": [
        {
          "output_type": "display_data",
          "data": {
            "image/png": "[encoded data removed]",
            "text/plain": [
              "<Figure size 432x288 with 1 Axes>"
            ]
          },
          "metadata": {
            "tags": [],
            "needs_background": "light"
          }
        }
      ]
    },
    {
      "cell_type": "code",
      "metadata": {
        "id": "bHCYGcbixmld",
        "outputId": "6c9bd398-a348-4d00-8e50-1a6cdc35c94b",
        "colab": {
          "base_uri": "https://localhost:8080/",
          "height": 373
        }
      },
      "source": [
        "data.corr()"
      ],
      "execution_count": 85,
      "outputs": [
        {
          "output_type": "execute_result",
          "data": {
            "text/html": [
              "<div>\n",
              "<style scoped>\n",
              "    .dataframe tbody tr th:only-of-type {\n",
              "        vertical-align: middle;\n",
              "    }\n",
              "\n",
              "    .dataframe tbody tr th {\n",
              "        vertical-align: top;\n",
              "    }\n",
              "\n",
              "    .dataframe thead th {\n",
              "        text-align: right;\n",
              "    }\n",
              "</style>\n",
              "<table border=\"1\" class=\"dataframe\">\n",
              "  <thead>\n",
              "    <tr style=\"text-align: right;\">\n",
              "      <th></th>\n",
              "      <th>Rooms</th>\n",
              "      <th>Price</th>\n",
              "      <th>Distance</th>\n",
              "      <th>Postcode</th>\n",
              "      <th>Bedroom2</th>\n",
              "      <th>Bathroom</th>\n",
              "      <th>Car</th>\n",
              "      <th>Landsize</th>\n",
              "      <th>Lattitude</th>\n",
              "      <th>Longtitude</th>\n",
              "      <th>Propertycount</th>\n",
              "    </tr>\n",
              "  </thead>\n",
              "  <tbody>\n",
              "    <tr>\n",
              "      <th>Rooms</th>\n",
              "      <td>1.000000</td>\n",
              "      <td>0.496634</td>\n",
              "      <td>0.294203</td>\n",
              "      <td>0.055303</td>\n",
              "      <td>0.944190</td>\n",
              "      <td>0.592934</td>\n",
              "      <td>0.406935</td>\n",
              "      <td>0.025678</td>\n",
              "      <td>0.015948</td>\n",
              "      <td>0.100771</td>\n",
              "      <td>-0.081530</td>\n",
              "    </tr>\n",
              "    <tr>\n",
              "      <th>Price</th>\n",
              "      <td>0.496634</td>\n",
              "      <td>1.000000</td>\n",
              "      <td>-0.162522</td>\n",
              "      <td>0.107867</td>\n",
              "      <td>0.475951</td>\n",
              "      <td>0.467038</td>\n",
              "      <td>0.239109</td>\n",
              "      <td>0.037507</td>\n",
              "      <td>-0.212934</td>\n",
              "      <td>0.203656</td>\n",
              "      <td>-0.042153</td>\n",
              "    </tr>\n",
              "    <tr>\n",
              "      <th>Distance</th>\n",
              "      <td>0.294203</td>\n",
              "      <td>-0.162522</td>\n",
              "      <td>1.000000</td>\n",
              "      <td>0.431514</td>\n",
              "      <td>0.295927</td>\n",
              "      <td>0.127155</td>\n",
              "      <td>0.260596</td>\n",
              "      <td>0.025004</td>\n",
              "      <td>-0.130723</td>\n",
              "      <td>0.239425</td>\n",
              "      <td>-0.054910</td>\n",
              "    </tr>\n",
              "    <tr>\n",
              "      <th>Postcode</th>\n",
              "      <td>0.055303</td>\n",
              "      <td>0.107867</td>\n",
              "      <td>0.431514</td>\n",
              "      <td>1.000000</td>\n",
              "      <td>0.060584</td>\n",
              "      <td>0.113664</td>\n",
              "      <td>0.050514</td>\n",
              "      <td>0.024558</td>\n",
              "      <td>-0.406104</td>\n",
              "      <td>0.445357</td>\n",
              "      <td>0.062304</td>\n",
              "    </tr>\n",
              "    <tr>\n",
              "      <th>Bedroom2</th>\n",
              "      <td>0.944190</td>\n",
              "      <td>0.475951</td>\n",
              "      <td>0.295927</td>\n",
              "      <td>0.060584</td>\n",
              "      <td>1.000000</td>\n",
              "      <td>0.584685</td>\n",
              "      <td>0.403867</td>\n",
              "      <td>0.025646</td>\n",
              "      <td>0.015925</td>\n",
              "      <td>0.102238</td>\n",
              "      <td>-0.081350</td>\n",
              "    </tr>\n",
              "    <tr>\n",
              "      <th>Bathroom</th>\n",
              "      <td>0.592934</td>\n",
              "      <td>0.467038</td>\n",
              "      <td>0.127155</td>\n",
              "      <td>0.113664</td>\n",
              "      <td>0.584685</td>\n",
              "      <td>1.000000</td>\n",
              "      <td>0.321014</td>\n",
              "      <td>0.037130</td>\n",
              "      <td>-0.070594</td>\n",
              "      <td>0.118971</td>\n",
              "      <td>-0.052201</td>\n",
              "    </tr>\n",
              "    <tr>\n",
              "      <th>Car</th>\n",
              "      <td>0.406935</td>\n",
              "      <td>0.239109</td>\n",
              "      <td>0.260596</td>\n",
              "      <td>0.050514</td>\n",
              "      <td>0.403867</td>\n",
              "      <td>0.321014</td>\n",
              "      <td>1.000000</td>\n",
              "      <td>0.026780</td>\n",
              "      <td>-0.002023</td>\n",
              "      <td>0.062929</td>\n",
              "      <td>-0.024344</td>\n",
              "    </tr>\n",
              "    <tr>\n",
              "      <th>Landsize</th>\n",
              "      <td>0.025678</td>\n",
              "      <td>0.037507</td>\n",
              "      <td>0.025004</td>\n",
              "      <td>0.024558</td>\n",
              "      <td>0.025646</td>\n",
              "      <td>0.037130</td>\n",
              "      <td>0.026780</td>\n",
              "      <td>1.000000</td>\n",
              "      <td>0.009695</td>\n",
              "      <td>0.010833</td>\n",
              "      <td>-0.006854</td>\n",
              "    </tr>\n",
              "    <tr>\n",
              "      <th>Lattitude</th>\n",
              "      <td>0.015948</td>\n",
              "      <td>-0.212934</td>\n",
              "      <td>-0.130723</td>\n",
              "      <td>-0.406104</td>\n",
              "      <td>0.015925</td>\n",
              "      <td>-0.070594</td>\n",
              "      <td>-0.002023</td>\n",
              "      <td>0.009695</td>\n",
              "      <td>1.000000</td>\n",
              "      <td>-0.357634</td>\n",
              "      <td>0.047086</td>\n",
              "    </tr>\n",
              "    <tr>\n",
              "      <th>Longtitude</th>\n",
              "      <td>0.100771</td>\n",
              "      <td>0.203656</td>\n",
              "      <td>0.239425</td>\n",
              "      <td>0.445357</td>\n",
              "      <td>0.102238</td>\n",
              "      <td>0.118971</td>\n",
              "      <td>0.062929</td>\n",
              "      <td>0.010833</td>\n",
              "      <td>-0.357634</td>\n",
              "      <td>1.000000</td>\n",
              "      <td>0.065988</td>\n",
              "    </tr>\n",
              "    <tr>\n",
              "      <th>Propertycount</th>\n",
              "      <td>-0.081530</td>\n",
              "      <td>-0.042153</td>\n",
              "      <td>-0.054910</td>\n",
              "      <td>0.062304</td>\n",
              "      <td>-0.081350</td>\n",
              "      <td>-0.052201</td>\n",
              "      <td>-0.024344</td>\n",
              "      <td>-0.006854</td>\n",
              "      <td>0.047086</td>\n",
              "      <td>0.065988</td>\n",
              "      <td>1.000000</td>\n",
              "    </tr>\n",
              "  </tbody>\n",
              "</table>\n",
              "</div>"
            ],
            "text/plain": [
              "                  Rooms     Price  ...  Longtitude  Propertycount\n",
              "Rooms          1.000000  0.496634  ...    0.100771      -0.081530\n",
              "Price          0.496634  1.000000  ...    0.203656      -0.042153\n",
              "Distance       0.294203 -0.162522  ...    0.239425      -0.054910\n",
              "Postcode       0.055303  0.107867  ...    0.445357       0.062304\n",
              "Bedroom2       0.944190  0.475951  ...    0.102238      -0.081350\n",
              "Bathroom       0.592934  0.467038  ...    0.118971      -0.052201\n",
              "Car            0.406935  0.239109  ...    0.062929      -0.024344\n",
              "Landsize       0.025678  0.037507  ...    0.010833      -0.006854\n",
              "Lattitude      0.015948 -0.212934  ...   -0.357634       0.047086\n",
              "Longtitude     0.100771  0.203656  ...    1.000000       0.065988\n",
              "Propertycount -0.081530 -0.042153  ...    0.065988       1.000000\n",
              "\n",
              "[11 rows x 11 columns]"
            ]
          },
          "metadata": {
            "tags": []
          },
          "execution_count": 85
        }
      ]
    },
    {
      "cell_type": "code",
      "metadata": {
        "id": "JF7OKzzD0jqU",
        "outputId": "92a537c5-272e-4e9a-e060-87b275a94032",
        "colab": {
          "base_uri": "https://localhost:8080/",
          "height": 0
        }
      },
      "source": [
        "for i in data.columns:\r\n",
        "  print(data[i].unique())"
      ],
      "execution_count": 86,
      "outputs": [
        {
          "output_type": "stream",
          "text": [
            "['Abbotsford' 'Airport West' 'Albert Park' 'Alphington' 'Altona'\n",
            " 'Altona North' 'Armadale' 'Ascot Vale' 'Ashburton' 'Ashwood'\n",
            " 'Avondale Heights' 'Balaclava' 'Balwyn' 'Balwyn North' 'Bentleigh'\n",
            " 'Bentleigh East' 'Box Hill' 'Braybrook' 'Brighton' 'Brighton East'\n",
            " 'Brunswick' 'Brunswick West' 'Bulleen' 'Burwood' 'Camberwell'\n",
            " 'Canterbury' 'Carlton North' 'Carnegie' 'Caulfield' 'Caulfield North'\n",
            " 'Caulfield South' 'Chadstone' 'Clifton Hill' 'Coburg' 'Coburg North'\n",
            " 'Collingwood' 'Doncaster' 'Eaglemont' 'Elsternwick' 'Elwood' 'Essendon'\n",
            " 'Essendon North' 'Fairfield' 'Fitzroy' 'Fitzroy North' 'Flemington'\n",
            " 'Footscray' 'Glen Iris' 'Glenroy' 'Gowanbrae' 'Hadfield' 'Hampton'\n",
            " 'Hampton East' 'Hawthorn' 'Heidelberg Heights' 'Heidelberg West'\n",
            " 'Hughesdale' 'Ivanhoe' 'Kealba' 'Keilor East' 'Kensington' 'Kew'\n",
            " 'Kew East' 'Kooyong' 'Maidstone' 'Malvern' 'Malvern East' 'Maribyrnong'\n",
            " 'Melbourne' 'Middle Park' 'Mont Albert' 'Moonee Ponds' 'Moorabbin'\n",
            " 'Newport' 'Niddrie' 'North Melbourne' 'Northcote' 'Oak Park'\n",
            " 'Oakleigh South' 'Parkville' 'Pascoe Vale' 'Port Melbourne' 'Prahran'\n",
            " 'Preston' 'Reservoir' 'Richmond' 'Rosanna' 'Seddon' 'South Melbourne'\n",
            " 'South Yarra' 'Southbank' 'Spotswood' 'St Kilda' 'Strathmore' 'Sunshine'\n",
            " 'Sunshine North' 'Sunshine West' 'Surrey Hills' 'Templestowe Lower'\n",
            " 'Thornbury' 'Toorak' 'Viewbank' 'Watsonia' 'West Melbourne'\n",
            " 'Williamstown' 'Williamstown North' 'Windsor' 'Yallambie' 'Yarraville'\n",
            " 'Aberfeldie' 'Bellfield' 'Brunswick East' 'Burnley' 'Campbellfield'\n",
            " 'Carlton' 'East Melbourne' 'Essendon West' 'Fawkner' 'Hawthorn East'\n",
            " 'Heidelberg' 'Ivanhoe East' 'Jacana' 'Kingsbury' 'Kingsville'\n",
            " 'Murrumbeena' 'Ormond' 'West Footscray' 'Albion' 'Brooklyn' 'Glen Huntly'\n",
            " 'Oakleigh' 'Ripponlea' 'Cremorne' 'Docklands' 'South Kingsville'\n",
            " 'Strathmore Heights' 'Travancore' 'Caulfield East' 'Seaholme'\n",
            " 'Keilor Park' 'Gardenvale' 'Princes Hill' 'Bayswater' 'Bayswater North'\n",
            " 'Beaumaris' 'Berwick' 'Boronia' 'Briar Hill' 'Broadmeadows' 'Bundoora'\n",
            " 'Burnside Heights' 'Burwood East' 'Cairnlea' 'Caroline Springs'\n",
            " 'Cheltenham' 'Craigieburn' 'Cranbourne' 'Croydon' 'Dandenong'\n",
            " 'Dandenong North' 'Diamond Creek' 'Dingley Village' 'Doncaster East'\n",
            " 'Donvale' 'Doreen' 'Eltham' 'Epping' 'Forest Hill' 'Frankston'\n",
            " 'Frankston North' 'Frankston South' 'Gisborne' 'Gladstone Park'\n",
            " 'Greensborough' 'Hallam' 'Healesville' 'Highett' 'Hillside' 'Huntingdale'\n",
            " 'Keilor Downs' 'Keilor Lodge' 'Keysborough' 'Kings Park' 'Lalor'\n",
            " 'Lower Plenty' 'Melton' 'Mernda' 'Mill Park' 'Mitcham' 'Montmorency'\n",
            " 'Mordialloc' 'Mount Waverley' 'Narre Warren' 'Nunawading' 'Oakleigh East'\n",
            " 'Parkdale' 'Point Cook' 'Ringwood East' 'Rockbank' 'Rowville'\n",
            " 'Sandringham' 'Seaford' 'Skye' 'South Morang' 'Springvale' 'St Albans'\n",
            " 'Sunbury' 'Tarneit' 'Taylors Hill' 'Taylors Lakes' 'The Basin'\n",
            " 'Thomastown' 'Truganina' 'Tullamarine' 'Vermont' 'Wantirna'\n",
            " 'Wantirna South' 'Werribee' 'Westmeadows' 'Williams Landing' 'Wollert'\n",
            " 'Wyndham Vale' 'Black Rock' 'Blackburn' 'Blackburn North' 'Bonbeach'\n",
            " 'Carrum' 'Chelsea' 'Clayton' 'Doveton' 'Ferntree Gully' 'Glen Waverley'\n",
            " 'Greenvale' 'Heathmont' 'Hoppers Crossing' 'McKinnon' 'Melton South'\n",
            " 'Melton West' 'Mentone' 'Mooroolbark' 'Mulgrave' 'Ringwood'\n",
            " 'Roxburgh Park' 'Seabrook' 'Templestowe' 'Vermont South' 'Warrandyte'\n",
            " 'Watsonia North' 'Wheelers Hill' 'Altona Meadows' 'Blackburn South'\n",
            " 'Carrum Downs' 'Clayton South' 'Croydon North' 'Langwarrin' 'Noble Park'\n",
            " 'Notting Hill' 'Ringwood North' 'Sydenham' 'Albanvale'\n",
            " 'Beaconsfield Upper' 'Chelsea Heights' 'Dallas' 'Deer Park'\n",
            " 'Eltham North' 'Keilor' 'Meadow Heights' 'Mount Evelyn'\n",
            " 'North Warrandyte' 'Pakenham' 'Riddells Creek' 'Sandhurst' 'Scoresby'\n",
            " 'Silvan' 'Aspendale' 'Chirnside Park' 'Croydon Hills' 'Croydon South'\n",
            " 'Derrimut' 'Diggers Rest' 'Edithvale' 'Hampton Park' 'Knoxfield'\n",
            " 'St Helena' 'Upwey' 'Bacchus Marsh' 'Coolaroo' 'Cranbourne North'\n",
            " 'Kilsyth' 'Montrose' 'Aspendale Gardens' 'Bullengarook' 'Clarinda'\n",
            " 'Deepdene' 'Delahey' 'Hurstbridge' 'Kurunjang' 'Wonga Park'\n",
            " 'Endeavour Hills' 'Officer' 'Waterways' 'Ardeer' 'Beaconsfield'\n",
            " 'Springvale South' 'Yarra Glen' 'Brookfield' 'Emerald' 'Whittlesea'\n",
            " 'Burnside' 'Attwood' 'Wallan' 'New Gisborne' 'Plumpton' 'Monbulk']\n",
            "['85 Turner St' '25 Bloomburg St' '5 Charles St' ... '83 Power St'\n",
            " '96 Verdon St' '6 Agnes St']\n",
            "[ 2  3  4  1  6  5  8  7 10]\n",
            "['h' 'u' 't']\n",
            "[1480000. 1035000. 1465000. ... 1288000. 1263500. 1323000.]\n",
            "['S' 'SP' 'PI' 'VB' 'SA']\n",
            "['Biggin' 'Nelson' 'Jellis' 'Greg' 'LITTLE' 'Collins' 'Kay' 'Beller'\n",
            " 'Marshall' 'Brad' 'Maddison' 'Barry' 'Considine' 'Rendina' 'Propertyau'\n",
            " 'McDonald' 'Prof.' 'Harcourts' 'hockingstuart' 'Thomson' 'Buxton' 'RT'\n",
            " \"Sotheby's\" 'Cayzer' 'Chisholm' 'Brace' 'Miles' 'McGrath' 'Love' 'Barlow'\n",
            " 'Sweeney' 'Village' 'Jas' 'Gunn&Co' 'Burnham' 'Williams' 'Compton' 'FN'\n",
            " 'Raine&Horne' 'Hunter' 'Noel' 'Hodges' 'Ray' 'Gary' 'Fletchers'\n",
            " 'Woodards' 'Raine' 'Walshe' 'Alexkarbon' 'Weda' 'Frank' 'Stockdale' 'Tim'\n",
            " 'Purplebricks' 'Moonee' 'HAR' 'Edward' 'Philip' 'RW' 'North' 'Ascend'\n",
            " 'Christopher' 'Mandy' 'R&H' 'Fletchers/One' 'Assisi' 'One' \"O'Brien\"\n",
            " 'C21' 'Bayside' 'Paul' 'First' 'Matthew' 'Anderson' 'Nick' 'Lindellas'\n",
            " 'Allens' 'Bells' 'Trimson' 'Douglas' 'YPA' 'GL' \"Tiernan's\" 'J'\n",
            " 'Harrington' 'Dingle' 'Chambers' 'Peter' 'Grantham'\n",
            " 'hockingstuart/Advantage' \"O'Donoghues\" 'Bekdon' 'Ross' 'Garvey' 'Weast'\n",
            " 'Century' 'Kelly' 'Property' \"Private/Tiernan's\" 'Australian' 'Rodney'\n",
            " \"Abercromby's\" 'Castran' 'iTRAK' 'Del' 'Nicholson' 'ASL' 'Re' 'RE'\n",
            " 'Darren' 'Parkes' 'Vic' 'Holland' 'Scott' 'Pride' 'Owen' 'Morleys'\n",
            " 'Wilson' 'Buxton/Advantage' 'Pagan' 'Joe' 'Red' 'Thomas' 'Caine' 'Naison'\n",
            " 'Sweeney/Advantage' 'Jason' 'Eview' 'Melbourne' \"D'Aprano\" 'CASTRAN'\n",
            " 'Morrison' 'Wood' 'Haughton' 'William' 'Coventry' 'Buckingham' 'Domain'\n",
            " 'Nardella' 'Reach' 'Walsh' 'LJ' 'Nguyen' 'Direct' 'Besser' 'Johnston'\n",
            " 'Redina' 'Clairmont' 'Changing' 'Galldon' 'MICM' 'Elite' 'Buxton/Find'\n",
            " 'W.B.' 'Leased' 'New' 'Geoff' 'hockingstuart/Barry' 'Blue' 'Whiting'\n",
            " 'Steveway' 'Parkinson' 'VICPROP' 'Charlton' 'S&L' 'Calder' 'Homes' 'Zahn'\n",
            " 'Mason' 'David' 'Dixon' 'Luxe' 'Prowse' 'Ken' 'iOne'\n",
            " 'hockingstuart/Village' 'JMRE' 'Iconek' 'Crane' 'Luxton' 'Hooper' 'Oak'\n",
            " 'White' 'Weston' 'Reed' 'Oriental' 'Craig' 'Max' 'Rosin' 'Real' 'Hall'\n",
            " 'Ham' 'buyMyplace' 'WHITEFOX' 'Metro' 'Hoskins' 'McLennan'\n",
            " 'PRDNationwide' 'Only' 'Obrien' 'Reliance' 'Lucas' 'Rounds' 'Millership'\n",
            " 'iSell' 'Appleby' '@Realty' 'Jim' 'Ace' 'JRW' 'Carter' 'M.J' 'iProperty'\n",
            " 'Triwest' 'Hayeswinckle' 'Schroeder' 'VICProp' 'REMAX' 'Victory' 'Smart'\n",
            " 'Mindacom' 'Ryder' 'Win' 'Asset' 'LLC' 'Mitchell' 'U' 'Leyton' 'Conquest'\n",
            " 'Prime' 'Community' 'Free' 'Veitch' 'Peake' 'Sell' 'Ristic' 'Ash' 'Upper'\n",
            " 'Daniel' 'Xynergy' 'Westside' 'Leeburn' 'TRUE' 'Keatings' 'Leading'\n",
            " 'Bullen' 'Better' 'Aquire' 'Langwell' 'Gardiner' 'Kaye' 'Nicholls'\n",
            " 'Bowman' 'Meadows' 'McNaughton' 'The' 'L' 'Darras' 'Roger' 'Follett' 'Le'\n",
            " 'Joseph' 'Boutique' 'Area' 'SN' 'PRD' 'Rexhepi' 'Point']\n",
            "['3/12/2016' '4/02/2016' '4/03/2017' '4/06/2016' '7/05/2016' '8/10/2016'\n",
            " '12/11/2016' '13/08/2016' '14/05/2016' '15/10/2016' '16/07/2016'\n",
            " '17/09/2016' '18/03/2017' '18/06/2016' '19/11/2016' '22/08/2016'\n",
            " '24/09/2016' '25/02/2017' '26/07/2016' '27/11/2016' '28/05/2016'\n",
            " '30/07/2016' '3/09/2016' '6/08/2016' '7/11/2016' '10/09/2016'\n",
            " '10/12/2016' '11/02/2017' '16/04/2016' '22/05/2016' '23/04/2016'\n",
            " '12/06/2016' '27/06/2016' '28/08/2016' '11/03/2017' '28/01/2016'\n",
            " '6/05/2017' '8/04/2017' '29/04/2017' '13/05/2017' '20/05/2017'\n",
            " '22/04/2017' '1/07/2017' '3/06/2017' '17/06/2017' '24/06/2017'\n",
            " '27/05/2017' '8/07/2017' '12/08/2017' '15/07/2017' '22/07/2017'\n",
            " '29/07/2017' '3/09/2017' '9/09/2017' '16/09/2017' '19/08/2017'\n",
            " '23/09/2017' '26/08/2017']\n",
            "[ 2.5 13.5  3.3  6.4 13.8 11.1  6.3  5.9 11.  12.2 10.5  6.6  9.7  9.2\n",
            " 13.  13.9 13.1 10.8 11.2 10.7  5.2 11.8 11.7  7.8  9.   3.2 11.4  8.9\n",
            "  8.1  9.3 13.6  3.4  1.6 10.3  8.5  7.7  8.   9.4  5.8  3.5  4.4 12.1\n",
            " 13.7 14.5  4.6  7.9 15.  12.8  4.2  5.6  7.5  6.2  7.4  8.7  2.8  4.1\n",
            "  6.9 14.6  8.4  2.3  5.5 11.5 14.7  2.6  9.9  3.8  4.5  8.8  2.1  1.2\n",
            "  6.1 12.6 13.3  6.5 14.9  1.9  5.1  7.   9.1  9.5  1.8  1.5  9.8 12.4\n",
            " 10.6  8.2 10.9 10.4 14.  12.5  5.3 12.7  3.7  3.   5.7 10.2 23.2 17.3\n",
            " 35.2 25.  16.1  4.  14.8 17.9  3.6  6.7 20.6 34.7 23.  24.7 21.8 22.2\n",
            " 14.3 25.9 18.  19.6 15.4 38.  36.9 45.9 12.9  7.3 32.3 45.2 16.  12.3\n",
            " 15.5  5.4 25.2 16.3  4.3 31.7 17.2 16.2 21.5 14.2 34.1 12.   2.4 21.3\n",
            " 23.8 23.5 15.2 35.4 20.5  2.7 20.8  5.  18.4 27.  15.3 16.5 17.6 25.5\n",
            " 27.2 13.4 10.1 31.2 16.7  2.  28.8  7.2 24.8 20.4 29.8 20.  26.5 18.8\n",
            " 19.9  0.7 21.1  3.1  6.8 34.9 17.5  1.3 41.   0.  22.7 39.8  8.6 17.4\n",
            " 31.6 47.3 47.4 34.6 27.1 27.7 33.3 23.3 29.3 37.5 26.  26.1 28.5 43.3\n",
            " 39.  31.4 35.5 44.2 16.6 48.1]\n",
            "[3067. 3042. 3206. 3078. 3018. 3025. 3143. 3032. 3147. 3034. 3183. 3103.\n",
            " 3104. 3204. 3165. 3128. 3019. 3186. 3187. 3056. 3055. 3105. 3125. 3124.\n",
            " 3126. 3054. 3163. 3162. 3161. 3148. 3068. 3058. 3066. 3108. 3084. 3185.\n",
            " 3184. 3040. 3041. 3065. 3031. 3011. 3146. 3046. 3043. 3188. 3122. 3081.\n",
            " 3166. 3079. 3021. 3033. 3101. 3102. 3144. 3012. 3145. 3000. 3127. 3039.\n",
            " 3189. 3015. 3051. 3070. 3167. 3052. 3044. 3207. 3181. 3072. 3073. 3121.\n",
            " 3205. 3141. 3006. 3182. 3020. 3107. 3071. 3142. 3087. 3003. 3016. 3085.\n",
            " 3013. 3057. 3061. 3053. 3002. 3060. 3123. 3047. 3083. 3008. 3153. 3193.\n",
            " 3806. 3155. 3088. 3023. 3151. 3192. 3064. 3977. 3136. 3175. 3089. 3172.\n",
            " 3109. 3111. 3754. 3095. 3076. 3131. 3199. 3200. 3437. 3803. 3777. 3190.\n",
            " 3037. 3038. 3173. 3075. 3093. 3337. 3082. 3132. 3094. 3195. 3149. 3805.\n",
            " 3030. 3135. 3335. 3178. 3191. 3198. 3752. 3171. 3429. 3029. 3154. 3074.\n",
            " 3133. 3152. 3049. 3027. 3750. 3024. 3130. 3196. 3197. 3168. 3177. 3156.\n",
            " 3150. 3059. 3338. 3194. 3138. 3170. 3134. 3028. 3106. 3113. 3201. 3169.\n",
            " 3910. 3174. 3808. 3036. 3048. 3796. 3810. 3431. 3179. 3795. 3116. 3427.\n",
            " 3976. 3180. 3158. 3340. 3137. 3765. 3099. 3115. 3802. 3809. 3022. 3807.\n",
            " 3775. 3782. 3757. 3756. 3438. 3793.]\n",
            "[ 2.  3.  4.  1.  6.  5.  0.  8.  9.  7. 20. 10.]\n",
            "[1. 2. 3. 4. 0. 7. 5. 6. 8.]\n",
            "[ 1.  0.  2.  6.  5.  4.  3.  8.  7.  9. 10.]\n",
            "[ 202.  156.  134. ... 2027. 1475.  986.]\n",
            "['Yarra' 'Moonee Valley' 'Port Phillip' 'Darebin' 'Hobsons Bay'\n",
            " 'Stonnington' 'Boroondara' 'Monash' 'Glen Eira' 'Whitehorse'\n",
            " 'Maribyrnong' 'Bayside' 'Moreland' 'Manningham' 'Banyule' 'Melbourne'\n",
            " 'Kingston' 'Brimbank' 'Hume' 'Knox' 'Maroondah' 'Casey' 'Melton'\n",
            " 'Greater Dandenong' 'Nillumbik' 'Whittlesea' 'Frankston' 'Macedon Ranges'\n",
            " 'Yarra Ranges' 'Wyndham' 'Cardinia' 'Unavailable' 'Moorabool']\n",
            "[-37.7996  -37.8079  -37.8093  ... -37.85927 -37.85274 -37.85908]\n",
            "[144.9984  144.9934  144.9944  ... 144.88738 144.89299 144.88449]\n",
            "['Northern Metropolitan' 'Western Metropolitan' 'Southern Metropolitan'\n",
            " 'Eastern Metropolitan' 'South-Eastern Metropolitan' 'Eastern Victoria'\n",
            " 'Northern Victoria' 'Western Victoria']\n",
            "[ 4019.  3464.  3280.  2211.  5301.  5132.  4836.  6567.  3052.  2894.\n",
            "  4502.  2952.  5682.  7809.  6795. 10969.  4605.  3589. 10579.  6938.\n",
            " 11918.  7082.  4480.  5678.  8920.  3265.  3106.  7822.  2379.  6923.\n",
            "  5051.  3582.  2954. 11204.  3445.  4553.  9028.  1651.  4898.  8989.\n",
            "  9264.  1308.  2970.  5825.  6244.  3593.  7570. 10412.  8870.  1071.\n",
            "  2606.  5454.  2356. 11308.  2947.  2674.  3145.  5549.  1202.  5629.\n",
            "  5263. 10331.  2671.   394.  3873.  4675.  8801.  4918. 17496.  2019.\n",
            "  2079.  6232.  2555.  5498.  2291.  6821. 11364.  2651.  3692.  2309.\n",
            "  7485.  8648.  7717. 14577. 21650. 14949.  3540.  2417.  5943. 14887.\n",
            "  8400.  1223. 13240.  3284.  3755.  4217.  6763.  5457.  5420.  7217.\n",
            "  2698.  2329.  2230.  6380.   802.  4380.  1369.  6543.  1543.   790.\n",
            "  5533.   438.  1889.  6786.  3040.   588.  5070.  6482.  2890.  1554.\n",
            "   851.  1414.  1808.  4442.  3578.  5058.  2185.   962.  2403.  3224.\n",
            "   821.  1123.  4707.   984.   389.  1052.   608.   852.  1119.   534.\n",
            "  1008.  5030.  3598.  5366. 17093.  9704.  1390.  4294. 10175.  1686.\n",
            "  4048.  7719.  9758. 15510.  7680. 11925. 10894.  8322.  4258.  3940.\n",
            " 10999.  4790.  7254.  6990. 10926.  4385. 17055.  2500.  7566.  3376.\n",
            "  3285.  8524.  3728.  3307.  4794.  5556.   768.  3656.   570.  8459.\n",
            "  2878.  8279.  1624.  3600.  5812. 10529.  6871.  3891.  3650. 13366.\n",
            "  9376.  4973.  2547.  5087. 15542.  4407.   538. 11667.  4497.  8077.\n",
            "  2756.  7969.  7412. 14042. 14092. 10160.  4242.  5336.  1690.  7955.\n",
            "  5811.  3296.  4181.  5424. 16166.  2474.  1999.  2940.  5262.  2866.\n",
            "  5713.  2867.  2887.  1989.  3906.  5837.  3533. 10788. 15321.  4864.\n",
            "  3794. 13830.  2397.  4718.  6065.  6162.  8280.  7113.  7785.  5833.\n",
            "  1793.  6202.  4280.  2003.  1442.  7392.  7630.  4387.  8060.  4734.\n",
            "  2985.  8743. 11806.   902.  3619.  3640.  1899.   973.  2076.  2246.\n",
            "  6388.  2346.  2339.  4704.  3532.  1058. 17384.  1475.  1721.  2206.\n",
            "   457.  2824.  3789.  1705.  1863.  2276.  1184.  2546.  8256.  2949.\n",
            "   915.  2591.  2871.  1124.  6464.  4654.  2493.  2243.   249.  2727.\n",
            "   892.  2898.  1345.  3553.  1328.  8443.  2768.   709.  1281.  2332.\n",
            "  4054.  1160.  3122.  2259.  2170.  1607.  1130.  3988.   849.  1490.\n",
            "  1424.]\n"
          ],
          "name": "stdout"
        }
      ]
    },
    {
      "cell_type": "code",
      "metadata": {
        "id": "tY0_nR4dYZjP"
      },
      "source": [
        "X = data.drop(columns=['Suburb','Regionname','Price','Type','Address','Distance','Lattitude','Method','SellerG','Date','Postcode','CouncilArea'])\r\n",
        "y = data.Price"
      ],
      "execution_count": 87,
      "outputs": []
    },
    {
      "cell_type": "code",
      "metadata": {
        "id": "17HHspP-T5p9",
        "colab": {
          "base_uri": "https://localhost:8080/",
          "height": 402
        },
        "outputId": "c85b2e2d-bb6c-4b29-ddb6-cbfd480475f8"
      },
      "source": [
        "X"
      ],
      "execution_count": 88,
      "outputs": [
        {
          "output_type": "execute_result",
          "data": {
            "text/html": [
              "<div>\n",
              "<style scoped>\n",
              "    .dataframe tbody tr th:only-of-type {\n",
              "        vertical-align: middle;\n",
              "    }\n",
              "\n",
              "    .dataframe tbody tr th {\n",
              "        vertical-align: top;\n",
              "    }\n",
              "\n",
              "    .dataframe thead th {\n",
              "        text-align: right;\n",
              "    }\n",
              "</style>\n",
              "<table border=\"1\" class=\"dataframe\">\n",
              "  <thead>\n",
              "    <tr style=\"text-align: right;\">\n",
              "      <th></th>\n",
              "      <th>Rooms</th>\n",
              "      <th>Bedroom2</th>\n",
              "      <th>Bathroom</th>\n",
              "      <th>Car</th>\n",
              "      <th>Landsize</th>\n",
              "      <th>Longtitude</th>\n",
              "      <th>Propertycount</th>\n",
              "    </tr>\n",
              "  </thead>\n",
              "  <tbody>\n",
              "    <tr>\n",
              "      <th>0</th>\n",
              "      <td>2</td>\n",
              "      <td>2.0</td>\n",
              "      <td>1.0</td>\n",
              "      <td>1.0</td>\n",
              "      <td>202.0</td>\n",
              "      <td>144.99840</td>\n",
              "      <td>4019.0</td>\n",
              "    </tr>\n",
              "    <tr>\n",
              "      <th>1</th>\n",
              "      <td>2</td>\n",
              "      <td>2.0</td>\n",
              "      <td>1.0</td>\n",
              "      <td>0.0</td>\n",
              "      <td>156.0</td>\n",
              "      <td>144.99340</td>\n",
              "      <td>4019.0</td>\n",
              "    </tr>\n",
              "    <tr>\n",
              "      <th>2</th>\n",
              "      <td>3</td>\n",
              "      <td>3.0</td>\n",
              "      <td>2.0</td>\n",
              "      <td>0.0</td>\n",
              "      <td>134.0</td>\n",
              "      <td>144.99440</td>\n",
              "      <td>4019.0</td>\n",
              "    </tr>\n",
              "    <tr>\n",
              "      <th>3</th>\n",
              "      <td>3</td>\n",
              "      <td>3.0</td>\n",
              "      <td>2.0</td>\n",
              "      <td>1.0</td>\n",
              "      <td>94.0</td>\n",
              "      <td>144.99690</td>\n",
              "      <td>4019.0</td>\n",
              "    </tr>\n",
              "    <tr>\n",
              "      <th>4</th>\n",
              "      <td>4</td>\n",
              "      <td>3.0</td>\n",
              "      <td>1.0</td>\n",
              "      <td>2.0</td>\n",
              "      <td>120.0</td>\n",
              "      <td>144.99410</td>\n",
              "      <td>4019.0</td>\n",
              "    </tr>\n",
              "    <tr>\n",
              "      <th>...</th>\n",
              "      <td>...</td>\n",
              "      <td>...</td>\n",
              "      <td>...</td>\n",
              "      <td>...</td>\n",
              "      <td>...</td>\n",
              "      <td>...</td>\n",
              "      <td>...</td>\n",
              "    </tr>\n",
              "    <tr>\n",
              "      <th>13575</th>\n",
              "      <td>4</td>\n",
              "      <td>4.0</td>\n",
              "      <td>2.0</td>\n",
              "      <td>2.0</td>\n",
              "      <td>652.0</td>\n",
              "      <td>145.16761</td>\n",
              "      <td>7392.0</td>\n",
              "    </tr>\n",
              "    <tr>\n",
              "      <th>13576</th>\n",
              "      <td>3</td>\n",
              "      <td>3.0</td>\n",
              "      <td>2.0</td>\n",
              "      <td>2.0</td>\n",
              "      <td>333.0</td>\n",
              "      <td>144.87904</td>\n",
              "      <td>6380.0</td>\n",
              "    </tr>\n",
              "    <tr>\n",
              "      <th>13577</th>\n",
              "      <td>3</td>\n",
              "      <td>3.0</td>\n",
              "      <td>2.0</td>\n",
              "      <td>4.0</td>\n",
              "      <td>436.0</td>\n",
              "      <td>144.88738</td>\n",
              "      <td>6380.0</td>\n",
              "    </tr>\n",
              "    <tr>\n",
              "      <th>13578</th>\n",
              "      <td>4</td>\n",
              "      <td>4.0</td>\n",
              "      <td>1.0</td>\n",
              "      <td>5.0</td>\n",
              "      <td>866.0</td>\n",
              "      <td>144.89299</td>\n",
              "      <td>6380.0</td>\n",
              "    </tr>\n",
              "    <tr>\n",
              "      <th>13579</th>\n",
              "      <td>4</td>\n",
              "      <td>4.0</td>\n",
              "      <td>1.0</td>\n",
              "      <td>1.0</td>\n",
              "      <td>362.0</td>\n",
              "      <td>144.88449</td>\n",
              "      <td>6543.0</td>\n",
              "    </tr>\n",
              "  </tbody>\n",
              "</table>\n",
              "<p>13580 rows × 7 columns</p>\n",
              "</div>"
            ],
            "text/plain": [
              "       Rooms  Bedroom2  Bathroom  Car  Landsize  Longtitude  Propertycount\n",
              "0          2       2.0       1.0  1.0     202.0   144.99840         4019.0\n",
              "1          2       2.0       1.0  0.0     156.0   144.99340         4019.0\n",
              "2          3       3.0       2.0  0.0     134.0   144.99440         4019.0\n",
              "3          3       3.0       2.0  1.0      94.0   144.99690         4019.0\n",
              "4          4       3.0       1.0  2.0     120.0   144.99410         4019.0\n",
              "...      ...       ...       ...  ...       ...         ...            ...\n",
              "13575      4       4.0       2.0  2.0     652.0   145.16761         7392.0\n",
              "13576      3       3.0       2.0  2.0     333.0   144.87904         6380.0\n",
              "13577      3       3.0       2.0  4.0     436.0   144.88738         6380.0\n",
              "13578      4       4.0       1.0  5.0     866.0   144.89299         6380.0\n",
              "13579      4       4.0       1.0  1.0     362.0   144.88449         6543.0\n",
              "\n",
              "[13580 rows x 7 columns]"
            ]
          },
          "metadata": {
            "tags": []
          },
          "execution_count": 88
        }
      ]
    },
    {
      "cell_type": "code",
      "metadata": {
        "id": "bdy_GfL2HUSW"
      },
      "source": [
        "X_train,X_test,y_train,y_test = train_test_split(X,y,test_size = 0.33,random_state=47)"
      ],
      "execution_count": 89,
      "outputs": []
    },
    {
      "cell_type": "code",
      "metadata": {
        "id": "sMIwH79HHpzT",
        "colab": {
          "base_uri": "https://localhost:8080/",
          "height": 0
        },
        "outputId": "ec7c8094-4f9c-4e17-9a8d-f4717926f3f4"
      },
      "source": [
        "from sklearn.tree import DecisionTreeRegressor\n",
        "model = DecisionTreeRegressor()\n",
        "model.fit(X_train,y_train)"
      ],
      "execution_count": 90,
      "outputs": [
        {
          "output_type": "execute_result",
          "data": {
            "text/plain": [
              "DecisionTreeRegressor(ccp_alpha=0.0, criterion='mse', max_depth=None,\n",
              "                      max_features=None, max_leaf_nodes=None,\n",
              "                      min_impurity_decrease=0.0, min_impurity_split=None,\n",
              "                      min_samples_leaf=1, min_samples_split=2,\n",
              "                      min_weight_fraction_leaf=0.0, presort='deprecated',\n",
              "                      random_state=None, splitter='best')"
            ]
          },
          "metadata": {
            "tags": []
          },
          "execution_count": 90
        }
      ]
    },
    {
      "cell_type": "code",
      "metadata": {
        "id": "z9QaWNBZVwG5"
      },
      "source": [
        "y_pred = model.predict(X_test)"
      ],
      "execution_count": 91,
      "outputs": []
    },
    {
      "cell_type": "code",
      "metadata": {
        "id": "UTiYHWPhVzO6",
        "colab": {
          "base_uri": "https://localhost:8080/",
          "height": 0
        },
        "outputId": "bffd423e-f2da-4c3f-d1f1-a4db2fd043c8"
      },
      "source": [
        "y_pred"
      ],
      "execution_count": 92,
      "outputs": [
        {
          "output_type": "execute_result",
          "data": {
            "text/plain": [
              "array([ 655000., 1015000., 1215000., ..., 3250000.,  861500.,  820000.])"
            ]
          },
          "metadata": {
            "tags": []
          },
          "execution_count": 92
        }
      ]
    },
    {
      "cell_type": "code",
      "metadata": {
        "id": "6sFIlSA9N2i9",
        "colab": {
          "base_uri": "https://localhost:8080/",
          "height": 0
        },
        "outputId": "72818c16-c245-4a29-e903-691427b39a11"
      },
      "source": [
        "from sklearn.metrics import r2_score\r\n",
        "r2_score(y_test,y_pred)"
      ],
      "execution_count": 94,
      "outputs": [
        {
          "output_type": "execute_result",
          "data": {
            "text/plain": [
              "0.3496643335532994"
            ]
          },
          "metadata": {
            "tags": []
          },
          "execution_count": 94
        }
      ]
    }
  ]
}