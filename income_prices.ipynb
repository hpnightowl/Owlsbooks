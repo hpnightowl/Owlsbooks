{
  "nbformat": 4,
  "nbformat_minor": 0,
  "metadata": {
    "colab": {
      "name": "income_prices.ipynb",
      "provenance": [],
      "collapsed_sections": [],
      "authorship_tag": "ABX9TyP2Ss64RcY62eUDdZ1MOLxd",
      "include_colab_link": true
    },
    "kernelspec": {
      "name": "python3",
      "display_name": "Python 3"
    }
  },
  "cells": [
    {
      "cell_type": "markdown",
      "metadata": {
        "id": "view-in-github",
        "colab_type": "text"
      },
      "source": [
        "<a href=\"https://colab.research.google.com/github/hpnightowl/owlsbooks/blob/master/income_prices.ipynb\" target=\"_parent\"><img src=\"https://colab.research.google.com/assets/colab-badge.svg\" alt=\"Open In Colab\"/></a>"
      ]
    },
    {
      "cell_type": "code",
      "metadata": {
        "id": "OHAdJEIO0bdv",
        "colab_type": "code",
        "colab": {}
      },
      "source": [
        "import pandas as pd\n",
        "import numpy as np\n",
        "import matplotlib.pyplot as plt\n",
        "import seaborn as sns\n",
        "cd = pd.read_csv(\"https://raw.githubusercontent.com/dphi-official/Datasets/master/Census_Income/Training_set_census.csv\" )"
      ],
      "execution_count": 83,
      "outputs": []
    },
    {
      "cell_type": "code",
      "metadata": {
        "id": "uDwIiAzs1ej6",
        "colab_type": "code",
        "colab": {
          "base_uri": "https://localhost:8080/",
          "height": 417
        },
        "outputId": "c3275bcb-9b6e-4e6d-e9da-e91f4f895c91"
      },
      "source": [
        "cd.head()"
      ],
      "execution_count": 84,
      "outputs": [
        {
          "output_type": "execute_result",
          "data": {
            "text/html": [
              "<div>\n",
              "<style scoped>\n",
              "    .dataframe tbody tr th:only-of-type {\n",
              "        vertical-align: middle;\n",
              "    }\n",
              "\n",
              "    .dataframe tbody tr th {\n",
              "        vertical-align: top;\n",
              "    }\n",
              "\n",
              "    .dataframe thead th {\n",
              "        text-align: right;\n",
              "    }\n",
              "</style>\n",
              "<table border=\"1\" class=\"dataframe\">\n",
              "  <thead>\n",
              "    <tr style=\"text-align: right;\">\n",
              "      <th></th>\n",
              "      <th>age</th>\n",
              "      <th>class_of_worker</th>\n",
              "      <th>industry_code</th>\n",
              "      <th>occupation_code</th>\n",
              "      <th>education</th>\n",
              "      <th>wage_per_hour</th>\n",
              "      <th>enrolled_in_edu_inst_lastwk</th>\n",
              "      <th>marital_status</th>\n",
              "      <th>major_industry_code</th>\n",
              "      <th>major_occupation_code</th>\n",
              "      <th>race</th>\n",
              "      <th>hispanic_origin</th>\n",
              "      <th>sex</th>\n",
              "      <th>member_of_labor_union</th>\n",
              "      <th>reason_for_unemployment</th>\n",
              "      <th>full_parttime_employment_stat</th>\n",
              "      <th>capital_gains</th>\n",
              "      <th>capital_losses</th>\n",
              "      <th>dividend_from_Stocks</th>\n",
              "      <th>tax_filer_status</th>\n",
              "      <th>region_of_previous_residence</th>\n",
              "      <th>state_of_previous_residence</th>\n",
              "      <th>d_household_family_stat</th>\n",
              "      <th>d_household_summary</th>\n",
              "      <th>migration_msa</th>\n",
              "      <th>migration_reg</th>\n",
              "      <th>migration_within_reg</th>\n",
              "      <th>live_1_year_ago</th>\n",
              "      <th>migration_sunbelt</th>\n",
              "      <th>num_person_Worked_employer</th>\n",
              "      <th>family_members_under_18</th>\n",
              "      <th>country_father</th>\n",
              "      <th>country_mother</th>\n",
              "      <th>country_self</th>\n",
              "      <th>citizenship</th>\n",
              "      <th>business_or_self_employed</th>\n",
              "      <th>fill_questionnaire_veteran_admin</th>\n",
              "      <th>veterans_benefits</th>\n",
              "      <th>weeks_worked_in_year</th>\n",
              "      <th>year</th>\n",
              "      <th>income_level</th>\n",
              "    </tr>\n",
              "  </thead>\n",
              "  <tbody>\n",
              "    <tr>\n",
              "      <th>0</th>\n",
              "      <td>23</td>\n",
              "      <td>Private</td>\n",
              "      <td>43</td>\n",
              "      <td>22</td>\n",
              "      <td>Some college but no degree</td>\n",
              "      <td>0</td>\n",
              "      <td>College or university</td>\n",
              "      <td>Never married</td>\n",
              "      <td>Education</td>\n",
              "      <td>Adm support including clerical</td>\n",
              "      <td>White</td>\n",
              "      <td>All other</td>\n",
              "      <td>Male</td>\n",
              "      <td>Not in universe</td>\n",
              "      <td>Not in universe</td>\n",
              "      <td>Full-time schedules</td>\n",
              "      <td>0</td>\n",
              "      <td>0</td>\n",
              "      <td>0</td>\n",
              "      <td>Single</td>\n",
              "      <td>Not in universe</td>\n",
              "      <td>Not in universe</td>\n",
              "      <td>Child 18+ never marr Not in a subfamily</td>\n",
              "      <td>Child 18 or older</td>\n",
              "      <td>NaN</td>\n",
              "      <td>NaN</td>\n",
              "      <td>NaN</td>\n",
              "      <td>Not in universe under 1 year old</td>\n",
              "      <td>NaN</td>\n",
              "      <td>4</td>\n",
              "      <td>Not in universe</td>\n",
              "      <td>Peru</td>\n",
              "      <td>Peru</td>\n",
              "      <td>United-States</td>\n",
              "      <td>Native- Born in the United States</td>\n",
              "      <td>0</td>\n",
              "      <td>Not in universe</td>\n",
              "      <td>2</td>\n",
              "      <td>30</td>\n",
              "      <td>95</td>\n",
              "      <td>0</td>\n",
              "    </tr>\n",
              "    <tr>\n",
              "      <th>1</th>\n",
              "      <td>24</td>\n",
              "      <td>Private</td>\n",
              "      <td>34</td>\n",
              "      <td>2</td>\n",
              "      <td>Bachelors degree(BA AB BS)</td>\n",
              "      <td>0</td>\n",
              "      <td>Not in universe</td>\n",
              "      <td>Never married</td>\n",
              "      <td>Finance insurance and real estate</td>\n",
              "      <td>Executive admin and managerial</td>\n",
              "      <td>White</td>\n",
              "      <td>All other</td>\n",
              "      <td>Male</td>\n",
              "      <td>No</td>\n",
              "      <td>Not in universe</td>\n",
              "      <td>Children or Armed Forces</td>\n",
              "      <td>0</td>\n",
              "      <td>0</td>\n",
              "      <td>0</td>\n",
              "      <td>Single</td>\n",
              "      <td>West</td>\n",
              "      <td>California</td>\n",
              "      <td>Nonfamily householder</td>\n",
              "      <td>Householder</td>\n",
              "      <td>MSA to MSA</td>\n",
              "      <td>Different county same state</td>\n",
              "      <td>Different county same state</td>\n",
              "      <td>No</td>\n",
              "      <td>No</td>\n",
              "      <td>4</td>\n",
              "      <td>Not in universe</td>\n",
              "      <td>United-States</td>\n",
              "      <td>United-States</td>\n",
              "      <td>United-States</td>\n",
              "      <td>Native- Born in the United States</td>\n",
              "      <td>0</td>\n",
              "      <td>Not in universe</td>\n",
              "      <td>2</td>\n",
              "      <td>26</td>\n",
              "      <td>94</td>\n",
              "      <td>0</td>\n",
              "    </tr>\n",
              "    <tr>\n",
              "      <th>2</th>\n",
              "      <td>38</td>\n",
              "      <td>Private</td>\n",
              "      <td>34</td>\n",
              "      <td>2</td>\n",
              "      <td>Masters degree(MA MS MEng MEd MSW MBA)</td>\n",
              "      <td>0</td>\n",
              "      <td>Not in universe</td>\n",
              "      <td>Married-civilian spouse present</td>\n",
              "      <td>Finance insurance and real estate</td>\n",
              "      <td>Executive admin and managerial</td>\n",
              "      <td>White</td>\n",
              "      <td>All other</td>\n",
              "      <td>Male</td>\n",
              "      <td>Not in universe</td>\n",
              "      <td>Not in universe</td>\n",
              "      <td>Children or Armed Forces</td>\n",
              "      <td>0</td>\n",
              "      <td>0</td>\n",
              "      <td>250</td>\n",
              "      <td>Joint both under 65</td>\n",
              "      <td>Not in universe</td>\n",
              "      <td>Not in universe</td>\n",
              "      <td>Householder</td>\n",
              "      <td>Householder</td>\n",
              "      <td>Nonmover</td>\n",
              "      <td>Nonmover</td>\n",
              "      <td>Nonmover</td>\n",
              "      <td>Yes</td>\n",
              "      <td>Not in universe</td>\n",
              "      <td>4</td>\n",
              "      <td>Not in universe</td>\n",
              "      <td>United-States</td>\n",
              "      <td>United-States</td>\n",
              "      <td>United-States</td>\n",
              "      <td>Native- Born in the United States</td>\n",
              "      <td>0</td>\n",
              "      <td>Not in universe</td>\n",
              "      <td>2</td>\n",
              "      <td>52</td>\n",
              "      <td>94</td>\n",
              "      <td>1</td>\n",
              "    </tr>\n",
              "    <tr>\n",
              "      <th>3</th>\n",
              "      <td>33</td>\n",
              "      <td>Not in universe</td>\n",
              "      <td>0</td>\n",
              "      <td>0</td>\n",
              "      <td>High school graduate</td>\n",
              "      <td>0</td>\n",
              "      <td>Not in universe</td>\n",
              "      <td>Married-civilian spouse present</td>\n",
              "      <td>Not in universe or children</td>\n",
              "      <td>Not in universe</td>\n",
              "      <td>White</td>\n",
              "      <td>All other</td>\n",
              "      <td>Female</td>\n",
              "      <td>Not in universe</td>\n",
              "      <td>Not in universe</td>\n",
              "      <td>Not in labor force</td>\n",
              "      <td>0</td>\n",
              "      <td>0</td>\n",
              "      <td>0</td>\n",
              "      <td>Joint both under 65</td>\n",
              "      <td>Not in universe</td>\n",
              "      <td>Not in universe</td>\n",
              "      <td>Child 18+ ever marr RP of subfamily</td>\n",
              "      <td>Child 18 or older</td>\n",
              "      <td>NaN</td>\n",
              "      <td>NaN</td>\n",
              "      <td>NaN</td>\n",
              "      <td>Not in universe under 1 year old</td>\n",
              "      <td>NaN</td>\n",
              "      <td>0</td>\n",
              "      <td>Not in universe</td>\n",
              "      <td>United-States</td>\n",
              "      <td>United-States</td>\n",
              "      <td>United-States</td>\n",
              "      <td>Native- Born in the United States</td>\n",
              "      <td>0</td>\n",
              "      <td>Not in universe</td>\n",
              "      <td>2</td>\n",
              "      <td>0</td>\n",
              "      <td>95</td>\n",
              "      <td>0</td>\n",
              "    </tr>\n",
              "    <tr>\n",
              "      <th>4</th>\n",
              "      <td>13</td>\n",
              "      <td>Not in universe</td>\n",
              "      <td>0</td>\n",
              "      <td>0</td>\n",
              "      <td>Children</td>\n",
              "      <td>0</td>\n",
              "      <td>Not in universe</td>\n",
              "      <td>Never married</td>\n",
              "      <td>Not in universe or children</td>\n",
              "      <td>Not in universe</td>\n",
              "      <td>White</td>\n",
              "      <td>All other</td>\n",
              "      <td>Male</td>\n",
              "      <td>Not in universe</td>\n",
              "      <td>Not in universe</td>\n",
              "      <td>Children or Armed Forces</td>\n",
              "      <td>0</td>\n",
              "      <td>0</td>\n",
              "      <td>0</td>\n",
              "      <td>Nonfiler</td>\n",
              "      <td>Not in universe</td>\n",
              "      <td>Not in universe</td>\n",
              "      <td>Child &lt;18 never marr not in subfamily</td>\n",
              "      <td>Child under 18 never married</td>\n",
              "      <td>NaN</td>\n",
              "      <td>NaN</td>\n",
              "      <td>NaN</td>\n",
              "      <td>Not in universe under 1 year old</td>\n",
              "      <td>NaN</td>\n",
              "      <td>0</td>\n",
              "      <td>Both parents present</td>\n",
              "      <td>United-States</td>\n",
              "      <td>United-States</td>\n",
              "      <td>United-States</td>\n",
              "      <td>Native- Born in the United States</td>\n",
              "      <td>0</td>\n",
              "      <td>Not in universe</td>\n",
              "      <td>0</td>\n",
              "      <td>0</td>\n",
              "      <td>95</td>\n",
              "      <td>0</td>\n",
              "    </tr>\n",
              "  </tbody>\n",
              "</table>\n",
              "</div>"
            ],
            "text/plain": [
              "   age  class_of_worker  ...  year  income_level\n",
              "0   23          Private  ...    95             0\n",
              "1   24          Private  ...    94             0\n",
              "2   38          Private  ...    94             1\n",
              "3   33  Not in universe  ...    95             0\n",
              "4   13  Not in universe  ...    95             0\n",
              "\n",
              "[5 rows x 41 columns]"
            ]
          },
          "metadata": {
            "tags": []
          },
          "execution_count": 84
        }
      ]
    },
    {
      "cell_type": "code",
      "metadata": {
        "id": "dPnezuET19Ol",
        "colab_type": "code",
        "colab": {
          "base_uri": "https://localhost:8080/",
          "height": 722
        },
        "outputId": "879ba21a-4b7a-41f5-8363-81b77dd659db"
      },
      "source": [
        "cd.isnull().sum()"
      ],
      "execution_count": 85,
      "outputs": [
        {
          "output_type": "execute_result",
          "data": {
            "text/plain": [
              "age                                     0\n",
              "class_of_worker                         0\n",
              "industry_code                           0\n",
              "occupation_code                         0\n",
              "education                               0\n",
              "wage_per_hour                           0\n",
              "enrolled_in_edu_inst_lastwk             0\n",
              "marital_status                          0\n",
              "major_industry_code                     0\n",
              "major_occupation_code                   0\n",
              "race                                    0\n",
              "hispanic_origin                       592\n",
              "sex                                     0\n",
              "member_of_labor_union                   0\n",
              "reason_for_unemployment                 0\n",
              "full_parttime_employment_stat           0\n",
              "capital_gains                           0\n",
              "capital_losses                          0\n",
              "dividend_from_Stocks                    0\n",
              "tax_filer_status                        0\n",
              "region_of_previous_residence            0\n",
              "state_of_previous_residence           477\n",
              "d_household_family_stat                 0\n",
              "d_household_summary                     0\n",
              "migration_msa                       66673\n",
              "migration_reg                       66673\n",
              "migration_within_reg                66673\n",
              "live_1_year_ago                         0\n",
              "migration_sunbelt                   66673\n",
              "num_person_Worked_employer              0\n",
              "family_members_under_18                 0\n",
              "country_father                       4522\n",
              "country_mother                       4136\n",
              "country_self                         2312\n",
              "citizenship                             0\n",
              "business_or_self_employed               0\n",
              "fill_questionnaire_veteran_admin        0\n",
              "veterans_benefits                       0\n",
              "weeks_worked_in_year                    0\n",
              "year                                    0\n",
              "income_level                            0\n",
              "dtype: int64"
            ]
          },
          "metadata": {
            "tags": []
          },
          "execution_count": 85
        }
      ]
    },
    {
      "cell_type": "code",
      "metadata": {
        "id": "rwmlNWgk4PXC",
        "colab_type": "code",
        "colab": {
          "base_uri": "https://localhost:8080/",
          "height": 823
        },
        "outputId": "02510964-e33b-45e4-8130-48d616c52efd"
      },
      "source": [
        "cd.info()"
      ],
      "execution_count": 86,
      "outputs": [
        {
          "output_type": "stream",
          "text": [
            "<class 'pandas.core.frame.DataFrame'>\n",
            "RangeIndex: 200000 entries, 0 to 199999\n",
            "Data columns (total 41 columns):\n",
            " #   Column                            Non-Null Count   Dtype \n",
            "---  ------                            --------------   ----- \n",
            " 0   age                               200000 non-null  int64 \n",
            " 1   class_of_worker                   200000 non-null  object\n",
            " 2   industry_code                     200000 non-null  int64 \n",
            " 3   occupation_code                   200000 non-null  int64 \n",
            " 4   education                         200000 non-null  object\n",
            " 5   wage_per_hour                     200000 non-null  int64 \n",
            " 6   enrolled_in_edu_inst_lastwk       200000 non-null  object\n",
            " 7   marital_status                    200000 non-null  object\n",
            " 8   major_industry_code               200000 non-null  object\n",
            " 9   major_occupation_code             200000 non-null  object\n",
            " 10  race                              200000 non-null  object\n",
            " 11  hispanic_origin                   199408 non-null  object\n",
            " 12  sex                               200000 non-null  object\n",
            " 13  member_of_labor_union             200000 non-null  object\n",
            " 14  reason_for_unemployment           200000 non-null  object\n",
            " 15  full_parttime_employment_stat     200000 non-null  object\n",
            " 16  capital_gains                     200000 non-null  int64 \n",
            " 17  capital_losses                    200000 non-null  int64 \n",
            " 18  dividend_from_Stocks              200000 non-null  int64 \n",
            " 19  tax_filer_status                  200000 non-null  object\n",
            " 20  region_of_previous_residence      200000 non-null  object\n",
            " 21  state_of_previous_residence       199523 non-null  object\n",
            " 22  d_household_family_stat           200000 non-null  object\n",
            " 23  d_household_summary               200000 non-null  object\n",
            " 24  migration_msa                     133327 non-null  object\n",
            " 25  migration_reg                     133327 non-null  object\n",
            " 26  migration_within_reg              133327 non-null  object\n",
            " 27  live_1_year_ago                   200000 non-null  object\n",
            " 28  migration_sunbelt                 133327 non-null  object\n",
            " 29  num_person_Worked_employer        200000 non-null  int64 \n",
            " 30  family_members_under_18           200000 non-null  object\n",
            " 31  country_father                    195478 non-null  object\n",
            " 32  country_mother                    195864 non-null  object\n",
            " 33  country_self                      197688 non-null  object\n",
            " 34  citizenship                       200000 non-null  object\n",
            " 35  business_or_self_employed         200000 non-null  int64 \n",
            " 36  fill_questionnaire_veteran_admin  200000 non-null  object\n",
            " 37  veterans_benefits                 200000 non-null  int64 \n",
            " 38  weeks_worked_in_year              200000 non-null  int64 \n",
            " 39  year                              200000 non-null  int64 \n",
            " 40  income_level                      200000 non-null  int64 \n",
            "dtypes: int64(13), object(28)\n",
            "memory usage: 62.6+ MB\n"
          ],
          "name": "stdout"
        }
      ]
    },
    {
      "cell_type": "code",
      "metadata": {
        "id": "ew4CFGq45_Bk",
        "colab_type": "code",
        "colab": {
          "base_uri": "https://localhost:8080/",
          "height": 1000
        },
        "outputId": "7e3d7daf-ad75-4340-dfa4-1a335925bb19"
      },
      "source": [
        "for col in cd:\n",
        "    print(col,cd[col].unique(),end='\\n\\n')"
      ],
      "execution_count": 87,
      "outputs": [
        {
          "output_type": "stream",
          "text": [
            "age [23 24 38 33 13 16 28 44 31 35 17 42 26 49 46 18 41  5  2  9 63 11 22 68\n",
            " 43 48 40 73  1 54 70 36 52  6  3 79 47 76 71 50 12 57  7 27 14 29 21 10\n",
            " 15 37 58 66  8 82 20 69 32 74 30 19 60  0 55 45 67  4 25 90 59 65 34 81\n",
            " 56 51 39 64 61 86 78 85 62 53 83 75 87 80 72 88 89 77 84]\n",
            "\n",
            "class_of_worker ['Private' 'Not in universe' ' Not in universe' ' Private'\n",
            " 'Self-employed-not incorporated' ' Self-employed-not incorporated'\n",
            " 'Local government' 'Self-employed-incorporated' 'Federal government'\n",
            " ' Self-employed-incorporated' 'State government' ' Federal government'\n",
            " ' State government' ' Local government' ' Never worked' 'Never worked'\n",
            " 'Without pay' ' Without pay']\n",
            "\n",
            "industry_code [43 34  0 29 22 44 12 33  3 40 41 45 13 30 38  2 25 24  1 31 42  9 28  4\n",
            " 37 32 26 39 36  6 16 50 48 35 49 19 27 23 11 21 47 18  8  7 15  5 14 51\n",
            " 46 17 20 10]\n",
            "\n",
            "occupation_code [22  2  0 38 35  4 20 32 29 19 31 30 16 37 23 26 17 44 36 25 10 24 33 39\n",
            " 34 42 12  3 18  6 43 27 11 13 21 15  1  5  8 41  9  7 28 40 14 46 45]\n",
            "\n",
            "education ['Some college but no degree' 'Bachelors degree(BA AB BS)'\n",
            " 'Masters degree(MA MS MEng MEd MSW MBA)' 'High school graduate'\n",
            " 'Children' ' 9th grade' '1st 2nd 3rd or 4th grade'\n",
            " ' Bachelors degree(BA AB BS)' 'Associates degree-occup /vocational'\n",
            " '10th grade' 'Associates degree-academic program' '7th and 8th grade'\n",
            " ' High school graduate' '11th grade' ' Children'\n",
            " ' Associates degree-academic program' '5th or 6th grade'\n",
            " ' Some college but no degree' '9th grade' ' 7th and 8th grade'\n",
            " ' 10th grade' ' 11th grade' 'Doctorate degree(PhD EdD)'\n",
            " ' Associates degree-occup /vocational' ' 1st 2nd 3rd or 4th grade'\n",
            " 'Less than 1st grade' ' Masters degree(MA MS MEng MEd MSW MBA)'\n",
            " ' Less than 1st grade' '12th grade no diploma'\n",
            " ' Doctorate degree(PhD EdD)' 'Prof school degree (MD DDS DVM LLB JD)'\n",
            " ' Prof school degree (MD DDS DVM LLB JD)' ' 5th or 6th grade'\n",
            " ' 12th grade no diploma']\n",
            "\n",
            "wage_per_hour [   0 1215  525 ...  736 1366 1658]\n",
            "\n",
            "enrolled_in_edu_inst_lastwk ['College or university' 'Not in universe' ' High school'\n",
            " ' Not in universe' 'High school' ' College or university']\n",
            "\n",
            "marital_status ['Never married' 'Married-civilian spouse present' ' Never married'\n",
            " 'Divorced' ' Married-civilian spouse present' 'Married-spouse absent'\n",
            " 'Widowed' ' Widowed' ' Married-A F spouse present'\n",
            " 'Married-A F spouse present' ' Separated' 'Separated' ' Divorced'\n",
            " ' Married-spouse absent']\n",
            "\n",
            "major_industry_code ['Education' 'Finance insurance and real estate'\n",
            " 'Not in universe or children' ' Not in universe or children'\n",
            " 'Transportation' 'Manufacturing-nondurable goods' ' Social services'\n",
            " 'Manufacturing-durable goods' 'Retail trade' 'Mining' 'Entertainment'\n",
            " ' Retail trade' 'Hospital services' 'Other professional services'\n",
            " 'Communications' 'Business and repair services'\n",
            " ' Finance insurance and real estate' 'Agriculture'\n",
            " ' Manufacturing-nondurable goods' ' Agriculture'\n",
            " 'Utilities and sanitary services' ' Medical except hospital'\n",
            " ' Manufacturing-durable goods' ' Mining' ' Construction'\n",
            " ' Business and repair services' 'Social services' ' Wholesale trade'\n",
            " 'Medical except hospital' 'Wholesale trade' ' Transportation'\n",
            " 'Personal services except private HH' 'Construction'\n",
            " 'Private household services' ' Public administration' ' Education'\n",
            " 'Public administration' ' Other professional services'\n",
            " ' Hospital services' ' Entertainment'\n",
            " ' Personal services except private HH' ' Communications'\n",
            " ' Utilities and sanitary services' 'Armed Forces'\n",
            " ' Private household services' 'Forestry and fisheries'\n",
            " ' Forestry and fisheries' ' Armed Forces']\n",
            "\n",
            "major_occupation_code ['Adm support including clerical' 'Executive admin and managerial'\n",
            " 'Not in universe' ' Not in universe' 'Transportation and material moving'\n",
            " 'Precision production craft & repair' ' Executive admin and managerial'\n",
            " 'Professional specialty' 'Sales' 'Other service' ' Other service'\n",
            " ' Sales' 'Machine operators assmblrs & inspctrs'\n",
            " 'Farming forestry and fishing' ' Farming forestry and fishing'\n",
            " ' Precision production craft & repair'\n",
            " ' Machine operators assmblrs & inspctrs'\n",
            " ' Transportation and material moving' ' Handlers equip cleaners etc '\n",
            " ' Adm support including clerical' 'Handlers equip cleaners etc'\n",
            " ' Professional specialty' 'Private household services'\n",
            " ' Technicians and related support' 'Technicians and related support'\n",
            " 'Protective services' ' Protective services' 'Armed Forces'\n",
            " ' Private household services' ' Armed Forces']\n",
            "\n",
            "race ['White' ' White' 'Asian or Pacific Islander' ' Black' 'Black'\n",
            " ' Amer Indian Aleut or Eskimo' ' Other' 'Other'\n",
            " ' Asian or Pacific Islander' 'Amer Indian Aleut or Eskimo']\n",
            "\n",
            "hispanic_origin ['All other' ' Mexican-American' ' All other' ' Other Spanish'\n",
            " 'Mexican-American' 'Mexican (Mexicano)' ' NA'\n",
            " ' Central or South American' 'Central or South American'\n",
            " ' Mexican (Mexicano)' ' Puerto Rican' 'Other Spanish' 'Puerto Rican'\n",
            " 'Cuban' ' Cuban' nan 'Do not know' 'Chicano' ' Chicano' ' Do not know']\n",
            "\n",
            "sex ['Male' 'Female' ' Female' ' Male']\n",
            "\n",
            "member_of_labor_union ['Not in universe' 'No' ' Not in universe' ' No' 'Yes' ' Yes']\n",
            "\n",
            "reason_for_unemployment ['Not in universe' ' Not in universe' ' Other job loser' 'Other job loser'\n",
            " 'Job leaver' ' New entrant' 'Re-entrant' 'Job loser - on layoff'\n",
            " ' Re-entrant' 'New entrant' ' Job leaver' ' Job loser - on layoff']\n",
            "\n",
            "full_parttime_employment_stat ['Full-time schedules' 'Children or Armed Forces' 'Not in labor force'\n",
            " ' Not in labor force' ' Full-time schedules' ' Unemployed full-time'\n",
            " ' Children or Armed Forces' 'PT for non-econ reasons usually FT'\n",
            " ' PT for non-econ reasons usually FT' ' PT for econ reasons usually FT'\n",
            " 'Unemployed part- time' 'Unemployed full-time'\n",
            " 'PT for econ reasons usually PT' ' PT for econ reasons usually PT'\n",
            " 'PT for econ reasons usually FT' ' Unemployed part- time']\n",
            "\n",
            "capital_gains [    0  2885 15024  8614  4386  7298  2329  2354  1055  1455  2062  2580\n",
            "  2407  2653  1264  4787  2635  5178  2174  2907  7688 13550  2176   594\n",
            "  6767  1086  3887 27828  6849  7443   401 10520  2964  3137  1151  1173\n",
            " 99999  2977  2414  3464  3418  4931  6723  2961  5556  1424  4416  5013\n",
            "  4101  3325  2346  3942  1140  6514  4064  4934 14084 20051 25236  1731\n",
            " 15831  1409  4650  3411  3908  9386  3103  2829  7978 10605  3456  2597\n",
            "   991  4865  3432  3781  2228  1471  6097  2290 25124  2202  2050  1797\n",
            "  2463  5455 11678  5721  2993 14344 15020  7430   114 18481  4687  2098\n",
            "  6418  2105  3674  2009 10566  9562  4508  3273  1506  2538  1639   914\n",
            " 41310  1111  6497  3800  3471  8530  1848  3818  7896  1831  2036  1090\n",
            "  2936 34095  7262  5060  6612  2774  6360  2601  4594  2227]\n",
            "\n",
            "capital_losses [   0 1902 1421 1651  880 2246 1485 1887  625 1564 2267 1719 1876 1579\n",
            " 2051 1762 1741 1672 1977 2788 2129 1573 1944 2174 2179 1602 1669 2002\n",
            "  974 1980 2704 1974 1740 1848 1590 1411 2415 1408 1755 2824 2547 1380\n",
            " 2444 2754  419 2377 2258 1504 2339 1510 1668 1721 1825 2206 1816 2489\n",
            " 2352 1735 1844 3770 2201 2559 2057 3004 2205  810 2042 1258  323 4356\n",
            " 3500 1726 3683 2149 2238 4608 2001 1092 1436 1138 2457  213 1870 1628\n",
            "  653 1617 2472 2603 1539 2163 1340 1021 3175  772 1594 2722 2231 2282\n",
            " 2467 2392 2090 1956 1429 1648 2465 2597 1640 1911 3900 2519  155 2027\n",
            " 2080]\n",
            "\n",
            "dividend_from_Stocks [   0  250  400 ... 3768 4750 8199]\n",
            "\n",
            "tax_filer_status ['Single' 'Joint both under 65' 'Nonfiler' ' Nonfiler' ' Single'\n",
            " 'Head of household' ' Joint both under 65' 'Joint both 65+'\n",
            " ' Joint both 65+' ' Joint one under 65 & one 65+' ' Head of household'\n",
            " 'Joint one under 65 & one 65+']\n",
            "\n",
            "region_of_previous_residence ['Not in universe' 'West' ' Not in universe' 'Northeast' ' Northeast'\n",
            " ' South' 'South' ' West' 'Midwest' ' Midwest' 'Abroad' ' Abroad']\n",
            "\n",
            "state_of_previous_residence ['Not in universe' 'California' ' Not in universe' 'Maryland' ' Michigan'\n",
            " ' Utah' 'Wisconsin' 'Alaska' ' New York' ' Connecticut' 'Maine'\n",
            " 'New York' 'Louisiana' 'Texas' 'Minnesota' ' New Mexico' ' ?'\n",
            " ' Louisiana' ' Minnesota' 'North Dakota' ' Alaska' 'West Virginia'\n",
            " ' Florida' 'Arkansas' 'Colorado' ' South Dakota' 'Utah' ' Indiana'\n",
            " 'New Hampshire' 'North Carolina' 'Nebraska' 'Abroad' ' North Dakota'\n",
            " 'Georgia' 'Indiana' ' Maine' 'District of Columbia' ' California' nan\n",
            " ' Ohio' ' Kansas' 'South Dakota' 'Wyoming' 'Michigan' ' North Carolina'\n",
            " ' Texas' 'Vermont' 'Tennessee' 'Arizona' 'Alabama' 'Florida'\n",
            " 'Pennsylvania' ' Montana' ' Arizona' ' Abroad' 'New Mexico' ' Arkansas'\n",
            " 'Kansas' 'New Jersey' ' Vermont' ' Kentucky' ' Wisconsin' ' Virginia'\n",
            " 'Nevada' ' Nebraska' ' Mississippi' ' Wyoming' 'Oklahoma' 'Iowa'\n",
            " ' South Carolina' 'Missouri' ' Oklahoma' 'South Carolina' ' Colorado'\n",
            " 'Delaware' ' District of Columbia' 'Virginia' ' New Hampshire'\n",
            " 'Mississippi' 'Connecticut' ' Georgia' ' Nevada' 'Massachusetts'\n",
            " ' West Virginia' 'Oregon' ' Pennsylvania' 'Ohio' 'Kentucky' ' Idaho'\n",
            " 'Illinois' ' Tennessee' 'Montana' ' Missouri' ' Alabama' ' Massachusetts'\n",
            " ' Illinois' ' Maryland' ' Oregon' ' Iowa' ' Delaware' ' New Jersey'\n",
            " 'Idaho']\n",
            "\n",
            "d_household_family_stat ['Child 18+ never marr Not in a subfamily' 'Nonfamily householder'\n",
            " 'Householder' 'Child 18+ ever marr RP of subfamily'\n",
            " 'Child <18 never marr not in subfamily'\n",
            " ' Child <18 never marr not in subfamily' ' Nonfamily householder'\n",
            " 'Spouse of householder' ' Spouse of householder'\n",
            " ' Child 18+ never marr Not in a subfamily'\n",
            " ' Other Rel 18+ never marr not in subfamily'\n",
            " ' Child 18+ ever marr Not in a subfamily'\n",
            " ' Other Rel 18+ ever marr not in subfamily' ' Householder'\n",
            " 'Secondary individual' ' Grandchild <18 never marr child of subfamily RP'\n",
            " 'Other Rel 18+ ever marr not in subfamily' ' RP of unrelated subfamily'\n",
            " 'Other Rel 18+ never marr not in subfamily' ' Secondary individual'\n",
            " 'Grandchild <18 never marr child of subfamily RP'\n",
            " 'Child 18+ ever marr Not in a subfamily'\n",
            " 'Child 18+ never marr RP of subfamily'\n",
            " 'Other Rel <18 never marr not in subfamily'\n",
            " ' Grandchild 18+ never marr not in subfamily'\n",
            " ' Child 18+ ever marr RP of subfamily'\n",
            " 'Grandchild 18+ never marr not in subfamily' 'RP of unrelated subfamily'\n",
            " ' Grandchild <18 never marr not in subfamily'\n",
            " 'Child 18+ spouse of subfamily RP'\n",
            " 'Child under 18 of RP of unrel subfamily'\n",
            " 'Grandchild <18 never marr not in subfamily'\n",
            " ' Other Rel <18 never marr child of subfamily RP'\n",
            " 'Other Rel 18+ spouse of subfamily RP'\n",
            " 'Other Rel 18+ ever marr RP of subfamily'\n",
            " ' Grandchild 18+ spouse of subfamily RP'\n",
            " ' Child 18+ never marr RP of subfamily'\n",
            " 'Other Rel <18 never marr child of subfamily RP'\n",
            " ' Grandchild 18+ ever marr RP of subfamily'\n",
            " ' Child under 18 of RP of unrel subfamily'\n",
            " ' Other Rel 18+ spouse of subfamily RP' ' In group quarters'\n",
            " ' Other Rel <18 never marr not in subfamily' 'In group quarters'\n",
            " 'Grandchild 18+ never marr RP of subfamily'\n",
            " ' Other Rel 18+ ever marr RP of subfamily'\n",
            " ' Grandchild 18+ ever marr not in subfamily'\n",
            " ' Child 18+ spouse of subfamily RP'\n",
            " ' Child <18 never marr RP of subfamily'\n",
            " 'Grandchild 18+ ever marr RP of subfamily'\n",
            " 'Grandchild 18+ spouse of subfamily RP'\n",
            " ' Other Rel 18+ never marr RP of subfamily'\n",
            " 'Child <18 never marr RP of subfamily'\n",
            " 'Other Rel 18+ never marr RP of subfamily'\n",
            " ' Child <18 ever marr not in subfamily'\n",
            " 'Child <18 ever marr not in subfamily'\n",
            " ' Spouse of RP of unrelated subfamily' 'Child <18 spouse of subfamily RP'\n",
            " 'Spouse of RP of unrelated subfamily'\n",
            " 'Grandchild <18 never marr RP of subfamily'\n",
            " ' Other Rel <18 never married RP of subfamily'\n",
            " 'Other Rel <18 ever marr RP of subfamily'\n",
            " ' Other Rel <18 ever marr not in subfamily'\n",
            " 'Child <18 ever marr RP of subfamily'\n",
            " 'Grandchild 18+ ever marr not in subfamily'\n",
            " ' Child <18 ever marr RP of subfamily'\n",
            " ' Grandchild 18+ never marr RP of subfamily'\n",
            " ' Other Rel <18 spouse of subfamily RP'\n",
            " 'Other Rel <18 spouse of subfamily RP'\n",
            " ' Other Rel <18 ever marr RP of subfamily'\n",
            " 'Other Rel <18 never married RP of subfamily'\n",
            " 'Other Rel <18 ever marr not in subfamily'\n",
            " ' Child <18 spouse of subfamily RP'\n",
            " ' Grandchild <18 never marr RP of subfamily']\n",
            "\n",
            "d_household_summary ['Child 18 or older' 'Householder' 'Child under 18 never married'\n",
            " ' Child under 18 never married' ' Householder' 'Spouse of householder'\n",
            " ' Spouse of householder' ' Child 18 or older'\n",
            " ' Other relative of householder' 'Nonrelative of householder'\n",
            " 'Other relative of householder' ' Nonrelative of householder'\n",
            " ' Group Quarters- Secondary individual'\n",
            " 'Group Quarters- Secondary individual' ' Child under 18 ever married'\n",
            " 'Child under 18 ever married']\n",
            "\n",
            "migration_msa [nan 'MSA to MSA' 'Nonmover' ' ?' 'NonMSA to nonMSA' ' Nonmover'\n",
            " ' MSA to MSA' ' Not identifiable' ' NonMSA to nonMSA' ' MSA to nonMSA'\n",
            " ' Not in universe' 'NonMSA to MSA' 'Not in universe' 'Abroad to MSA'\n",
            " 'MSA to nonMSA' 'Not identifiable' ' NonMSA to MSA' ' Abroad to MSA'\n",
            " ' Abroad to nonMSA' 'Abroad to nonMSA']\n",
            "\n",
            "migration_reg [nan 'Different county same state' 'Nonmover' ' ?' 'Same county'\n",
            " ' Nonmover' ' Same county' ' Different state same division'\n",
            " ' Not in universe' 'Different division same region' ' Different region'\n",
            " ' Different county same state' 'Not in universe' 'Different region'\n",
            " 'Abroad' ' Different division same region'\n",
            " 'Different state same division' ' Abroad']\n",
            "\n",
            "migration_within_reg [nan 'Different county same state' 'Nonmover' ' ?' 'Same county'\n",
            " ' Nonmover' ' Same county' ' Different state in Northeast'\n",
            " ' Not in universe' 'Different state in South'\n",
            " ' Different county same state' 'Not in universe'\n",
            " 'Different state in West' 'Abroad' ' Different state in Midwest'\n",
            " 'Different state in Northeast' ' Different state in South'\n",
            " ' Different state in West' 'Different state in Midwest' ' Abroad']\n",
            "\n",
            "live_1_year_ago ['Not in universe under 1 year old' 'No' 'Yes'\n",
            " ' Not in universe under 1 year old' ' Yes' ' No']\n",
            "\n",
            "migration_sunbelt [nan 'No' 'Not in universe' ' ?' ' Not in universe' ' No' 'Yes' ' Yes']\n",
            "\n",
            "num_person_Worked_employer [4 0 3 5 6 1 2]\n",
            "\n",
            "family_members_under_18 ['Not in universe' 'Both parents present' ' Both parents present'\n",
            " ' Not in universe' 'Mother only present' ' Mother only present'\n",
            " ' Father only present' 'Neither parent present' ' Neither parent present'\n",
            " 'Father only present']\n",
            "\n",
            "country_father ['Peru' 'United-States' ' United-States' 'China' 'Iran' ' ?' 'Mexico'\n",
            " 'Canada' 'England' 'Poland' ' Yugoslavia' 'Portugal' 'Germany' 'Columbia'\n",
            " ' Hungary' ' Dominican-Republic' 'Puerto-Rico' ' Mexico' ' France'\n",
            " 'El-Salvador' ' Germany' nan ' El-Salvador' 'Laos' ' England' ' Poland'\n",
            " ' Puerto-Rico' 'Cuba' 'Guatemala' ' Guatemala' ' Ecuador' 'Italy'\n",
            " 'France' 'India' 'Taiwan' 'Cambodia' ' Portugal' ' Columbia'\n",
            " 'Dominican-Republic' ' Italy' ' India' 'Outlying-U S (Guam USVI etc)'\n",
            " 'Philippines' 'South Korea' ' Canada' ' Cuba' ' Jamaica' ' China'\n",
            " 'Greece' 'Scotland' ' South Korea' ' Greece' 'Jamaica' 'Nicaragua'\n",
            " ' Vietnam' 'Haiti' 'Ireland' 'Ecuador' ' Honduras' 'Vietnam'\n",
            " 'Holand-Netherlands' ' Scotland' 'Yugoslavia' ' Philippines' 'Honduras'\n",
            " 'Hungary' ' Nicaragua' ' Ireland' ' Peru' 'Japan' ' Haiti' ' Cambodia'\n",
            " ' Taiwan' 'Trinadad&Tobago' 'Thailand' ' Japan' ' Trinadad&Tobago'\n",
            " ' Holand-Netherlands' ' Outlying-U S (Guam USVI etc)' ' Panama' ' Iran'\n",
            " ' Laos' ' Thailand' ' Hong Kong' 'Panama' 'Hong Kong']\n",
            "\n",
            "country_mother ['Peru' 'United-States' ' United-States' 'China' 'Iran'\n",
            " 'Holand-Netherlands' ' ?' 'Canada' 'Mexico' 'England' 'Poland'\n",
            " ' Yugoslavia' 'Portugal' ' Canada' ' Germany' ' Mexico' ' Poland'\n",
            " ' Honduras' 'Puerto-Rico' 'El-Salvador' 'Columbia' ' El-Salvador' 'Laos'\n",
            " ' Ecuador' 'Dominican-Republic' ' Puerto-Rico'\n",
            " 'Outlying-U S (Guam USVI etc)' nan 'Cuba' 'Guatemala' ' Guatemala'\n",
            " 'Germany' 'Italy' ' Vietnam' ' Dominican-Republic' 'France' 'Taiwan'\n",
            " 'Cambodia' ' Portugal' ' Columbia' ' India' 'Ecuador' 'Philippines'\n",
            " 'South Korea' ' Italy' ' Cuba' ' Jamaica' ' China' 'India' 'Jamaica'\n",
            " ' South Korea' ' Hungary' ' England' 'Hong Kong' ' Greece' 'Nicaragua'\n",
            " 'Ireland' ' Philippines' 'Vietnam' ' Peru' 'Yugoslavia' 'Honduras'\n",
            " 'Hungary' 'Scotland' ' Nicaragua' 'Haiti' ' Scotland' ' Ireland' 'Greece'\n",
            " 'Japan' ' Haiti' ' Japan' ' Cambodia' ' Taiwan' 'Trinadad&Tobago'\n",
            " 'Thailand' ' France' ' Holand-Netherlands' 'Panama' ' Laos' ' Thailand'\n",
            " ' Outlying-U S (Guam USVI etc)' ' Iran' ' Hong Kong' ' Trinadad&Tobago'\n",
            " ' Panama']\n",
            "\n",
            "country_self ['United-States' ' United-States' 'China' 'Iran' ' ?' 'England' ' Mexico'\n",
            " 'Mexico' 'Columbia' ' El-Salvador' 'Laos' ' Puerto-Rico' 'Guatemala'\n",
            " ' Guatemala' 'Germany' nan 'Portugal' ' Ecuador' ' Vietnam'\n",
            " ' Dominican-Republic' ' Germany' 'France' 'Japan' 'Cuba' 'Puerto-Rico'\n",
            " 'Cambodia' ' Columbia' ' Portugal' 'Philippines' 'Dominican-Republic'\n",
            " 'South Korea' ' Italy' ' Jamaica' ' China' 'Poland' 'India' 'Jamaica'\n",
            " 'Canada' ' Canada' ' South Korea' ' England' 'Hong Kong'\n",
            " 'Outlying-U S (Guam USVI etc)' 'Nicaragua' 'Taiwan' 'Peru' 'El-Salvador'\n",
            " 'Ireland' 'Ecuador' ' Honduras' ' Cuba' 'Italy' 'Vietnam' ' Greece'\n",
            " ' Japan' ' Philippines' 'Honduras' 'Hungary' ' Nicaragua' 'Haiti'\n",
            " ' Taiwan' ' Ireland' ' India' 'Greece' 'Scotland' ' Haiti' ' Cambodia'\n",
            " ' Scotland' ' Peru' 'Trinadad&Tobago' 'Thailand' ' France' ' Poland'\n",
            " 'Yugoslavia' ' Trinadad&Tobago' ' Holand-Netherlands' ' Hungary'\n",
            " ' Hong Kong' ' Panama' 'Panama' ' Laos' ' Thailand'\n",
            " ' Outlying-U S (Guam USVI etc)' ' Iran' 'Holand-Netherlands'\n",
            " ' Yugoslavia']\n",
            "\n",
            "citizenship ['Native- Born in the United States' ' Native- Born in the United States'\n",
            " 'Foreign born- Not a citizen of U S'\n",
            " ' Foreign born- U S citizen by naturalization'\n",
            " ' Foreign born- Not a citizen of U S '\n",
            " 'Foreign born- U S citizen by naturalization'\n",
            " ' Native- Born in Puerto Rico or U S Outlying'\n",
            " 'Native- Born abroad of American Parent(s)'\n",
            " ' Native- Born abroad of American Parent(s)'\n",
            " 'Native- Born in Puerto Rico or U S Outlying']\n",
            "\n",
            "business_or_self_employed [0 2 1]\n",
            "\n",
            "fill_questionnaire_veteran_admin ['Not in universe' ' Not in universe' 'No' ' Yes' ' No' 'Yes']\n",
            "\n",
            "veterans_benefits [2 0 1]\n",
            "\n",
            "weeks_worked_in_year [30 26 52  0 40 20 16 50 48 15 32 10 12  5 35 45 38 46 49  1 24  6 39  8\n",
            " 31 34 43 33 44 17  4 42 13 51 47 36 14 37 25 41 28  2 22  9 27  3 21  7\n",
            " 29 23 18 19 11]\n",
            "\n",
            "year [95 94]\n",
            "\n",
            "income_level [0 1]\n",
            "\n"
          ],
          "name": "stdout"
        }
      ]
    },
    {
      "cell_type": "code",
      "metadata": {
        "id": "shwkeWgnXNwO",
        "colab_type": "code",
        "colab": {
          "base_uri": "https://localhost:8080/",
          "height": 269
        },
        "outputId": "006aa2de-4d20-4435-dff4-2c1a37077603"
      },
      "source": [
        "cd.columns"
      ],
      "execution_count": 88,
      "outputs": [
        {
          "output_type": "execute_result",
          "data": {
            "text/plain": [
              "Index(['age', 'class_of_worker', 'industry_code', 'occupation_code',\n",
              "       'education', 'wage_per_hour', 'enrolled_in_edu_inst_lastwk',\n",
              "       'marital_status', 'major_industry_code', 'major_occupation_code',\n",
              "       'race', 'hispanic_origin', 'sex', 'member_of_labor_union',\n",
              "       'reason_for_unemployment', 'full_parttime_employment_stat',\n",
              "       'capital_gains', 'capital_losses', 'dividend_from_Stocks',\n",
              "       'tax_filer_status', 'region_of_previous_residence',\n",
              "       'state_of_previous_residence', 'd_household_family_stat',\n",
              "       'd_household_summary', 'migration_msa', 'migration_reg',\n",
              "       'migration_within_reg', 'live_1_year_ago', 'migration_sunbelt',\n",
              "       'num_person_Worked_employer', 'family_members_under_18',\n",
              "       'country_father', 'country_mother', 'country_self', 'citizenship',\n",
              "       'business_or_self_employed', 'fill_questionnaire_veteran_admin',\n",
              "       'veterans_benefits', 'weeks_worked_in_year', 'year', 'income_level'],\n",
              "      dtype='object')"
            ]
          },
          "metadata": {
            "tags": []
          },
          "execution_count": 88
        }
      ]
    },
    {
      "cell_type": "code",
      "metadata": {
        "id": "NNYyZKfEQISH",
        "colab_type": "code",
        "colab": {}
      },
      "source": [
        "# To remove those _ values in between so that it will not make duplcated with just a space\n",
        "for col in cd:\n",
        "  if cd[col].dtypes == object:\n",
        "    cd[col]=cd[col].str.strip()"
      ],
      "execution_count": 89,
      "outputs": []
    },
    {
      "cell_type": "code",
      "metadata": {
        "id": "CtOZKUNSa5Q1",
        "colab_type": "code",
        "colab": {}
      },
      "source": [
        "cd['hispanic_origin'] = cd['hispanic_origin'].fillna(cd['hispanic_origin'].mode())\n",
        "cd['state_of_previous_residence'] = cd['state_of_previous_residence'].fillna(cd['state_of_previous_residence'].mode())\n",
        "cd['country_self'] = cd['country_self'].fillna(cd['country_self'].mode())\n",
        "cd['country_self'] = cd['country_father'].fillna(cd['country_father'].mode())\n",
        "cd['country_self'] = cd['country_mother'].fillna(cd['country_mother'].mode())"
      ],
      "execution_count": 90,
      "outputs": []
    },
    {
      "cell_type": "code",
      "metadata": {
        "id": "oAPm8COgxfz5",
        "colab_type": "code",
        "colab": {
          "base_uri": "https://localhost:8080/",
          "height": 758
        },
        "outputId": "ec6f817e-6014-4ffd-95c6-46e82cc349a4"
      },
      "source": [
        "cor = cd.corr()\n",
        "plt.figure(figsize=(12,10))\n",
        "sns.heatmap(cor, annot=True)"
      ],
      "execution_count": 91,
      "outputs": [
        {
          "output_type": "execute_result",
          "data": {
            "text/plain": [
              "<matplotlib.axes._subplots.AxesSubplot at 0x7fb562d9e710>"
            ]
          },
          "metadata": {
            "tags": []
          },
          "execution_count": 91
        },
        {
          "output_type": "display_data",
          "data": {
            "image/png": "[encoded data removed]",
            "text/plain": [
              "<Figure size 864x720 with 2 Axes>"
            ]
          },
          "metadata": {
            "tags": [],
            "needs_background": "light"
          }
        }
      ]
    },
    {
      "cell_type": "code",
      "metadata": {
        "id": "byOS7QJvE76H",
        "colab_type": "code",
        "colab": {}
      },
      "source": [
        "from sklearn.preprocessing import LabelEncoder\n",
        "\n",
        "cat_features=[x for x in cd.columns if cd[x].dtype==\"object\"]\n",
        "\n",
        "le=LabelEncoder()\n",
        "\n",
        "for col in cat_features:\n",
        "    if col in cd.columns:\n",
        "        i = cd.columns.get_loc(col)\n",
        "        cd.iloc[:,i] = cd.apply(lambda i:le.fit_transform(i.astype(str)), axis=0, result_type='expand')"
      ],
      "execution_count": 92,
      "outputs": []
    },
    {
      "cell_type": "code",
      "metadata": {
        "id": "ZLv2gU40kvD-",
        "colab_type": "code",
        "colab": {}
      },
      "source": [
        "#seperating variables\n",
        "\n",
        "X = cd.drop(columns=['migration_msa', 'migration_reg',\n",
        "       'migration_within_reg', 'migration_sunbelt',\n",
        "       'income_level'])\n",
        "y = cd[['income_level']]"
      ],
      "execution_count": 93,
      "outputs": []
    },
    {
      "cell_type": "code",
      "metadata": {
        "id": "EKYXSj0_xmek",
        "colab_type": "code",
        "colab": {
          "base_uri": "https://localhost:8080/",
          "height": 205
        },
        "outputId": "032d5762-e1b4-48d1-8efc-6a63bacd6bd7"
      },
      "source": [
        "from sklearn.model_selection import train_test_split\n",
        "from sklearn.ensemble import RandomForestClassifier\n",
        "\n",
        "X_train, X_test, y_train, y_test = train_test_split(X, y, test_size = 0.3, random_state = 47)\n",
        "model = RandomForestClassifier(criterion='entropy',random_state=47)\n",
        "model.fit(X_train,y_train)"
      ],
      "execution_count": 94,
      "outputs": [
        {
          "output_type": "stream",
          "text": [
            "/usr/local/lib/python3.6/dist-packages/ipykernel_launcher.py:6: DataConversionWarning: A column-vector y was passed when a 1d array was expected. Please change the shape of y to (n_samples,), for example using ravel().\n",
            "  \n"
          ],
          "name": "stderr"
        },
        {
          "output_type": "execute_result",
          "data": {
            "text/plain": [
              "RandomForestClassifier(bootstrap=True, ccp_alpha=0.0, class_weight=None,\n",
              "                       criterion='entropy', max_depth=None, max_features='auto',\n",
              "                       max_leaf_nodes=None, max_samples=None,\n",
              "                       min_impurity_decrease=0.0, min_impurity_split=None,\n",
              "                       min_samples_leaf=1, min_samples_split=2,\n",
              "                       min_weight_fraction_leaf=0.0, n_estimators=100,\n",
              "                       n_jobs=None, oob_score=False, random_state=47, verbose=0,\n",
              "                       warm_start=False)"
            ]
          },
          "metadata": {
            "tags": []
          },
          "execution_count": 94
        }
      ]
    },
    {
      "cell_type": "code",
      "metadata": {
        "id": "QDEam1lSH3rM",
        "colab_type": "code",
        "colab": {}
      },
      "source": [
        "y_pred = model.predict(X_test)"
      ],
      "execution_count": 95,
      "outputs": []
    },
    {
      "cell_type": "code",
      "metadata": {
        "id": "g-r9P3_yIVXR",
        "colab_type": "code",
        "colab": {
          "base_uri": "https://localhost:8080/",
          "height": 34
        },
        "outputId": "9bf3ef64-f6e6-4435-ab7b-1efccf0781c4"
      },
      "source": [
        "from sklearn.metrics import f1_score\n",
        "\n",
        "f1_score(y_test, y_pred)"
      ],
      "execution_count": 96,
      "outputs": [
        {
          "output_type": "execute_result",
          "data": {
            "text/plain": [
              "0.5687465488680287"
            ]
          },
          "metadata": {
            "tags": []
          },
          "execution_count": 96
        }
      ]
    },
    {
      "cell_type": "code",
      "metadata": {
        "id": "2Qiin93xJbJq",
        "colab_type": "code",
        "colab": {}
      },
      "source": [
        "ce = pd.read_csv('https://raw.githubusercontent.com/dphi-official/Datasets/master/Census_Income/Testing_set_census.csv')"
      ],
      "execution_count": 97,
      "outputs": []
    },
    {
      "cell_type": "code",
      "metadata": {
        "id": "pae3mjuaPaxt",
        "colab_type": "code",
        "colab": {
          "base_uri": "https://localhost:8080/",
          "height": 34
        },
        "outputId": "258d2dd1-8610-4414-e435-12e836514c01"
      },
      "source": [
        "ce.shape"
      ],
      "execution_count": 98,
      "outputs": [
        {
          "output_type": "execute_result",
          "data": {
            "text/plain": [
              "(50000, 40)"
            ]
          },
          "metadata": {
            "tags": []
          },
          "execution_count": 98
        }
      ]
    },
    {
      "cell_type": "code",
      "metadata": {
        "id": "gcG_A4uIJ11F",
        "colab_type": "code",
        "colab": {
          "base_uri": "https://localhost:8080/",
          "height": 706
        },
        "outputId": "37262278-2047-408e-a61c-9b041a8497d7"
      },
      "source": [
        "ce.isnull().sum()"
      ],
      "execution_count": 99,
      "outputs": [
        {
          "output_type": "execute_result",
          "data": {
            "text/plain": [
              "age                                     0\n",
              "class_of_worker                         0\n",
              "industry_code                           0\n",
              "occupation_code                         0\n",
              "education                               0\n",
              "wage_per_hour                           0\n",
              "enrolled_in_edu_inst_lastwk             0\n",
              "marital_status                          0\n",
              "major_industry_code                     0\n",
              "major_occupation_code                   0\n",
              "race                                    0\n",
              "hispanic_origin                       146\n",
              "sex                                     0\n",
              "member_of_labor_union                   0\n",
              "reason_for_unemployment                 0\n",
              "full_parttime_employment_stat           0\n",
              "capital_gains                           0\n",
              "capital_losses                          0\n",
              "dividend_from_Stocks                    0\n",
              "tax_filer_status                        0\n",
              "region_of_previous_residence            0\n",
              "state_of_previous_residence           117\n",
              "d_household_family_stat                 0\n",
              "d_household_summary                     0\n",
              "migration_msa                       16724\n",
              "migration_reg                       16724\n",
              "migration_within_reg                16724\n",
              "live_1_year_ago                         0\n",
              "migration_sunbelt                   16724\n",
              "num_person_Worked_employer              0\n",
              "family_members_under_18                 0\n",
              "country_father                       1085\n",
              "country_mother                        985\n",
              "country_self                          519\n",
              "citizenship                             0\n",
              "business_or_self_employed               0\n",
              "fill_questionnaire_veteran_admin        0\n",
              "veterans_benefits                       0\n",
              "weeks_worked_in_year                    0\n",
              "year                                    0\n",
              "dtype: int64"
            ]
          },
          "metadata": {
            "tags": []
          },
          "execution_count": 99
        }
      ]
    },
    {
      "cell_type": "code",
      "metadata": {
        "id": "ebDYlsJhJvRq",
        "colab_type": "code",
        "colab": {}
      },
      "source": [
        "ce = ce.drop(columns=['migration_msa', 'migration_reg',\n",
        "       'migration_within_reg', 'migration_sunbelt'])\n",
        "\n",
        "# To remove those _ values in between so that it will not make duplcated with just a space\n",
        "for col in ce:\n",
        "  if ce[col].dtypes == object:\n",
        "    ce[col]=ce[col].str.strip()\n",
        "  \n",
        "ce['hispanic_origin'] = ce['hispanic_origin'].fillna(ce['hispanic_origin'].mode())\n",
        "ce['state_of_previous_residence'] = ce['state_of_previous_residence'].fillna(ce['state_of_previous_residence'].mode())\n",
        "ce['country_self'] = ce['country_self'].fillna(ce['country_self'].mode())\n",
        "cd['country_father'] = cd['country_father'].fillna(cd['country_father'].mode())\n",
        "cd['country_mother'] = cd['country_mother'].fillna(cd['country_mother'].mode())\n"
      ],
      "execution_count": 100,
      "outputs": []
    },
    {
      "cell_type": "code",
      "metadata": {
        "id": "gBf8E1GhJc7W",
        "colab_type": "code",
        "colab": {}
      },
      "source": [
        "from sklearn.preprocessing import LabelEncoder\n",
        "\n",
        "cat_features=[x for x in ce.columns if ce[x].dtype==\"object\"]\n",
        "\n",
        "le=LabelEncoder()\n",
        "\n",
        "for col in cat_features:\n",
        "    if col in ce.columns:\n",
        "        i = ce.columns.get_loc(col)\n",
        "        ce.iloc[:,i] = ce.apply(lambda i:le.fit_transform(i.astype(str)), axis=0, result_type='expand')"
      ],
      "execution_count": 101,
      "outputs": []
    },
    {
      "cell_type": "code",
      "metadata": {
        "id": "9zhXFFGNKsvR",
        "colab_type": "code",
        "colab": {}
      },
      "source": [
        "predictions = model.predict(ce)"
      ],
      "execution_count": 102,
      "outputs": []
    },
    {
      "cell_type": "code",
      "metadata": {
        "id": "wbcwty6VLFti",
        "colab_type": "code",
        "colab": {
          "base_uri": "https://localhost:8080/",
          "height": 17
        },
        "outputId": "5f831f19-38f4-4626-cb86-13a34c7df548"
      },
      "source": [
        "# To create Dataframe of predicted value with particular respective index\n",
        "res = pd.DataFrame(predictions) #preditcions are nothing but the final predictions of your model on input features of your new unseen test data\n",
        "res.index = ce.index # its important for comparison. Here \"test_new\" is your new test dataset\n",
        "res.columns = [\"prediction\"]\n",
        "\n",
        "# To download the csv file locally\n",
        "from google.colab import files\n",
        "res.to_csv('prediction_results_HP.csv')         \n",
        "files.download('prediction_results_HP.csv')"
      ],
      "execution_count": 103,
      "outputs": [
        {
          "output_type": "display_data",
          "data": {
            "application/javascript": [
              "\n",
              "    async function download(id, filename, size) {\n",
              "      if (!google.colab.kernel.accessAllowed) {\n",
              "        return;\n",
              "      }\n",
              "      const div = document.createElement('div');\n",
              "      const label = document.createElement('label');\n",
              "      label.textContent = `Downloading \"${filename}\": `;\n",
              "      div.appendChild(label);\n",
              "      const progress = document.createElement('progress');\n",
              "      progress.max = size;\n",
              "      div.appendChild(progress);\n",
              "      document.body.appendChild(div);\n",
              "\n",
              "      const buffers = [];\n",
              "      let downloaded = 0;\n",
              "\n",
              "      const channel = await google.colab.kernel.comms.open(id);\n",
              "      // Send a message to notify the kernel that we're ready.\n",
              "      channel.send({})\n",
              "\n",
              "      for await (const message of channel.messages) {\n",
              "        // Send a message to notify the kernel that we're ready.\n",
              "        channel.send({})\n",
              "        if (message.buffers) {\n",
              "          for (const buffer of message.buffers) {\n",
              "            buffers.push(buffer);\n",
              "            downloaded += buffer.byteLength;\n",
              "            progress.value = downloaded;\n",
              "          }\n",
              "        }\n",
              "      }\n",
              "      const blob = new Blob(buffers, {type: 'application/binary'});\n",
              "      const a = document.createElement('a');\n",
              "      a.href = window.URL.createObjectURL(blob);\n",
              "      a.download = filename;\n",
              "      div.appendChild(a);\n",
              "      a.click();\n",
              "      div.remove();\n",
              "    }\n",
              "  "
            ],
            "text/plain": [
              "<IPython.core.display.Javascript object>"
            ]
          },
          "metadata": {
            "tags": []
          }
        },
        {
          "output_type": "display_data",
          "data": {
            "application/javascript": [
              "download(\"download_3f089c8e-adc8-4dad-a4d9-a089f9ab8255\", \"prediction_results_HP.csv\", 388902)"
            ],
            "text/plain": [
              "<IPython.core.display.Javascript object>"
            ]
          },
          "metadata": {
            "tags": []
          }
        }
      ]
    },
    {
      "cell_type": "code",
      "metadata": {
        "id": "Q-rEyX7kJJHW",
        "colab_type": "code",
        "colab": {}
      },
      "source": [
        ""
      ],
      "execution_count": 103,
      "outputs": []
    }
  ]
}