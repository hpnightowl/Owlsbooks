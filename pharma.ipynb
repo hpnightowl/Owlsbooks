{
  "nbformat": 4,
  "nbformat_minor": 0,
  "metadata": {
    "colab": {
      "name": "pharma.ipynb",
      "provenance": [],
      "collapsed_sections": [],
      "authorship_tag": "ABX9TyMnE2M3USwbmU8cknoP1M3L",
      "include_colab_link": true
    },
    "kernelspec": {
      "name": "python3",
      "display_name": "Python 3"
    }
  },
  "cells": [
    {
      "cell_type": "markdown",
      "metadata": {
        "id": "view-in-github",
        "colab_type": "text"
      },
      "source": [
        "<a href=\"https://colab.research.google.com/github/hpnightowl/owlsbooks/blob/master/pharma.ipynb\" target=\"_parent\"><img src=\"https://colab.research.google.com/assets/colab-badge.svg\" alt=\"Open In Colab\"/></a>"
      ]
    },
    {
      "cell_type": "code",
      "metadata": {
        "id": "MuET1sx-Bu4i",
        "colab_type": "code",
        "colab": {}
      },
      "source": [
        "import pandas as pd\n",
        "import matplotlib.pyplot as plt\n",
        "\n",
        "pharma_data = pd.read_csv('https://raw.githubusercontent.com/dphi-official/Datasets/master/pharma_data/Training_set_begs.csv')"
      ],
      "execution_count": 464,
      "outputs": []
    },
    {
      "cell_type": "code",
      "metadata": {
        "id": "iukg6Bqrm16k",
        "colab_type": "code",
        "colab": {
          "base_uri": "https://localhost:8080/",
          "height": 226
        },
        "outputId": "652c8655-b34f-4061-f673-e453c3ddb52e"
      },
      "source": [
        "pharma_data.head()"
      ],
      "execution_count": 465,
      "outputs": [
        {
          "output_type": "execute_result",
          "data": {
            "text/html": [
              "<div>\n",
              "<style scoped>\n",
              "    .dataframe tbody tr th:only-of-type {\n",
              "        vertical-align: middle;\n",
              "    }\n",
              "\n",
              "    .dataframe tbody tr th {\n",
              "        vertical-align: top;\n",
              "    }\n",
              "\n",
              "    .dataframe thead th {\n",
              "        text-align: right;\n",
              "    }\n",
              "</style>\n",
              "<table border=\"1\" class=\"dataframe\">\n",
              "  <thead>\n",
              "    <tr style=\"text-align: right;\">\n",
              "      <th></th>\n",
              "      <th>ID_Patient_Care_Situation</th>\n",
              "      <th>Diagnosed_Condition</th>\n",
              "      <th>Patient_ID</th>\n",
              "      <th>Treated_with_drugs</th>\n",
              "      <th>Patient_Age</th>\n",
              "      <th>Patient_Body_Mass_Index</th>\n",
              "      <th>Patient_Smoker</th>\n",
              "      <th>Patient_Rural_Urban</th>\n",
              "      <th>Patient_mental_condition</th>\n",
              "      <th>A</th>\n",
              "      <th>B</th>\n",
              "      <th>C</th>\n",
              "      <th>D</th>\n",
              "      <th>E</th>\n",
              "      <th>F</th>\n",
              "      <th>Z</th>\n",
              "      <th>Number_of_prev_cond</th>\n",
              "      <th>Survived_1_year</th>\n",
              "    </tr>\n",
              "  </thead>\n",
              "  <tbody>\n",
              "    <tr>\n",
              "      <th>0</th>\n",
              "      <td>22374</td>\n",
              "      <td>8</td>\n",
              "      <td>3333</td>\n",
              "      <td>DX6</td>\n",
              "      <td>56</td>\n",
              "      <td>18.479385</td>\n",
              "      <td>YES</td>\n",
              "      <td>URBAN</td>\n",
              "      <td>Stable</td>\n",
              "      <td>1.0</td>\n",
              "      <td>0.0</td>\n",
              "      <td>0.0</td>\n",
              "      <td>0.0</td>\n",
              "      <td>1.0</td>\n",
              "      <td>0.0</td>\n",
              "      <td>0.0</td>\n",
              "      <td>2.0</td>\n",
              "      <td>0</td>\n",
              "    </tr>\n",
              "    <tr>\n",
              "      <th>1</th>\n",
              "      <td>18164</td>\n",
              "      <td>5</td>\n",
              "      <td>5740</td>\n",
              "      <td>DX2</td>\n",
              "      <td>36</td>\n",
              "      <td>22.945566</td>\n",
              "      <td>YES</td>\n",
              "      <td>RURAL</td>\n",
              "      <td>Stable</td>\n",
              "      <td>1.0</td>\n",
              "      <td>0.0</td>\n",
              "      <td>0.0</td>\n",
              "      <td>0.0</td>\n",
              "      <td>0.0</td>\n",
              "      <td>0.0</td>\n",
              "      <td>0.0</td>\n",
              "      <td>1.0</td>\n",
              "      <td>1</td>\n",
              "    </tr>\n",
              "    <tr>\n",
              "      <th>2</th>\n",
              "      <td>6283</td>\n",
              "      <td>23</td>\n",
              "      <td>10446</td>\n",
              "      <td>DX6</td>\n",
              "      <td>48</td>\n",
              "      <td>27.510027</td>\n",
              "      <td>YES</td>\n",
              "      <td>RURAL</td>\n",
              "      <td>Stable</td>\n",
              "      <td>1.0</td>\n",
              "      <td>0.0</td>\n",
              "      <td>0.0</td>\n",
              "      <td>0.0</td>\n",
              "      <td>0.0</td>\n",
              "      <td>0.0</td>\n",
              "      <td>0.0</td>\n",
              "      <td>1.0</td>\n",
              "      <td>0</td>\n",
              "    </tr>\n",
              "    <tr>\n",
              "      <th>3</th>\n",
              "      <td>5339</td>\n",
              "      <td>51</td>\n",
              "      <td>12011</td>\n",
              "      <td>DX1</td>\n",
              "      <td>5</td>\n",
              "      <td>19.130976</td>\n",
              "      <td>NO</td>\n",
              "      <td>URBAN</td>\n",
              "      <td>Stable</td>\n",
              "      <td>1.0</td>\n",
              "      <td>0.0</td>\n",
              "      <td>0.0</td>\n",
              "      <td>0.0</td>\n",
              "      <td>0.0</td>\n",
              "      <td>0.0</td>\n",
              "      <td>0.0</td>\n",
              "      <td>1.0</td>\n",
              "      <td>1</td>\n",
              "    </tr>\n",
              "    <tr>\n",
              "      <th>4</th>\n",
              "      <td>33012</td>\n",
              "      <td>0</td>\n",
              "      <td>12513</td>\n",
              "      <td>NaN</td>\n",
              "      <td>128</td>\n",
              "      <td>1.348400</td>\n",
              "      <td>Cannot say</td>\n",
              "      <td>RURAL</td>\n",
              "      <td>Stable</td>\n",
              "      <td>0.0</td>\n",
              "      <td>0.0</td>\n",
              "      <td>0.0</td>\n",
              "      <td>0.0</td>\n",
              "      <td>0.0</td>\n",
              "      <td>0.0</td>\n",
              "      <td>1.0</td>\n",
              "      <td>1.0</td>\n",
              "      <td>1</td>\n",
              "    </tr>\n",
              "  </tbody>\n",
              "</table>\n",
              "</div>"
            ],
            "text/plain": [
              "   ID_Patient_Care_Situation  ...  Survived_1_year\n",
              "0                      22374  ...                0\n",
              "1                      18164  ...                1\n",
              "2                       6283  ...                0\n",
              "3                       5339  ...                1\n",
              "4                      33012  ...                1\n",
              "\n",
              "[5 rows x 18 columns]"
            ]
          },
          "metadata": {
            "tags": []
          },
          "execution_count": 465
        }
      ]
    },
    {
      "cell_type": "code",
      "metadata": {
        "id": "7_UQYA0uqx4k",
        "colab_type": "code",
        "colab": {
          "base_uri": "https://localhost:8080/",
          "height": 34
        },
        "outputId": "fd0d2187-7a1a-4f69-cb01-de868caae850"
      },
      "source": [
        "pharma_data.shape"
      ],
      "execution_count": 466,
      "outputs": [
        {
          "output_type": "execute_result",
          "data": {
            "text/plain": [
              "(23097, 18)"
            ]
          },
          "metadata": {
            "tags": []
          },
          "execution_count": 466
        }
      ]
    },
    {
      "cell_type": "code",
      "metadata": {
        "id": "5JaHswcSHOlm",
        "colab_type": "code",
        "colab": {
          "base_uri": "https://localhost:8080/",
          "height": 509
        },
        "outputId": "42545697-4d52-4406-fafd-b248a06d43cf"
      },
      "source": [
        "pharma_data.corr() > 0.5"
      ],
      "execution_count": 467,
      "outputs": [
        {
          "output_type": "execute_result",
          "data": {
            "text/html": [
              "<div>\n",
              "<style scoped>\n",
              "    .dataframe tbody tr th:only-of-type {\n",
              "        vertical-align: middle;\n",
              "    }\n",
              "\n",
              "    .dataframe tbody tr th {\n",
              "        vertical-align: top;\n",
              "    }\n",
              "\n",
              "    .dataframe thead th {\n",
              "        text-align: right;\n",
              "    }\n",
              "</style>\n",
              "<table border=\"1\" class=\"dataframe\">\n",
              "  <thead>\n",
              "    <tr style=\"text-align: right;\">\n",
              "      <th></th>\n",
              "      <th>ID_Patient_Care_Situation</th>\n",
              "      <th>Diagnosed_Condition</th>\n",
              "      <th>Patient_ID</th>\n",
              "      <th>Patient_Age</th>\n",
              "      <th>Patient_Body_Mass_Index</th>\n",
              "      <th>A</th>\n",
              "      <th>B</th>\n",
              "      <th>C</th>\n",
              "      <th>D</th>\n",
              "      <th>E</th>\n",
              "      <th>F</th>\n",
              "      <th>Z</th>\n",
              "      <th>Number_of_prev_cond</th>\n",
              "      <th>Survived_1_year</th>\n",
              "    </tr>\n",
              "  </thead>\n",
              "  <tbody>\n",
              "    <tr>\n",
              "      <th>ID_Patient_Care_Situation</th>\n",
              "      <td>True</td>\n",
              "      <td>False</td>\n",
              "      <td>False</td>\n",
              "      <td>False</td>\n",
              "      <td>False</td>\n",
              "      <td>False</td>\n",
              "      <td>False</td>\n",
              "      <td>False</td>\n",
              "      <td>False</td>\n",
              "      <td>False</td>\n",
              "      <td>False</td>\n",
              "      <td>False</td>\n",
              "      <td>False</td>\n",
              "      <td>False</td>\n",
              "    </tr>\n",
              "    <tr>\n",
              "      <th>Diagnosed_Condition</th>\n",
              "      <td>False</td>\n",
              "      <td>True</td>\n",
              "      <td>False</td>\n",
              "      <td>False</td>\n",
              "      <td>False</td>\n",
              "      <td>False</td>\n",
              "      <td>False</td>\n",
              "      <td>False</td>\n",
              "      <td>False</td>\n",
              "      <td>False</td>\n",
              "      <td>False</td>\n",
              "      <td>False</td>\n",
              "      <td>False</td>\n",
              "      <td>False</td>\n",
              "    </tr>\n",
              "    <tr>\n",
              "      <th>Patient_ID</th>\n",
              "      <td>False</td>\n",
              "      <td>False</td>\n",
              "      <td>True</td>\n",
              "      <td>False</td>\n",
              "      <td>False</td>\n",
              "      <td>False</td>\n",
              "      <td>False</td>\n",
              "      <td>False</td>\n",
              "      <td>False</td>\n",
              "      <td>False</td>\n",
              "      <td>False</td>\n",
              "      <td>False</td>\n",
              "      <td>False</td>\n",
              "      <td>False</td>\n",
              "    </tr>\n",
              "    <tr>\n",
              "      <th>Patient_Age</th>\n",
              "      <td>False</td>\n",
              "      <td>False</td>\n",
              "      <td>False</td>\n",
              "      <td>True</td>\n",
              "      <td>False</td>\n",
              "      <td>False</td>\n",
              "      <td>False</td>\n",
              "      <td>False</td>\n",
              "      <td>False</td>\n",
              "      <td>False</td>\n",
              "      <td>False</td>\n",
              "      <td>False</td>\n",
              "      <td>False</td>\n",
              "      <td>False</td>\n",
              "    </tr>\n",
              "    <tr>\n",
              "      <th>Patient_Body_Mass_Index</th>\n",
              "      <td>False</td>\n",
              "      <td>False</td>\n",
              "      <td>False</td>\n",
              "      <td>False</td>\n",
              "      <td>True</td>\n",
              "      <td>False</td>\n",
              "      <td>False</td>\n",
              "      <td>False</td>\n",
              "      <td>False</td>\n",
              "      <td>False</td>\n",
              "      <td>False</td>\n",
              "      <td>False</td>\n",
              "      <td>False</td>\n",
              "      <td>False</td>\n",
              "    </tr>\n",
              "    <tr>\n",
              "      <th>A</th>\n",
              "      <td>False</td>\n",
              "      <td>False</td>\n",
              "      <td>False</td>\n",
              "      <td>False</td>\n",
              "      <td>False</td>\n",
              "      <td>True</td>\n",
              "      <td>False</td>\n",
              "      <td>False</td>\n",
              "      <td>False</td>\n",
              "      <td>False</td>\n",
              "      <td>False</td>\n",
              "      <td>False</td>\n",
              "      <td>False</td>\n",
              "      <td>False</td>\n",
              "    </tr>\n",
              "    <tr>\n",
              "      <th>B</th>\n",
              "      <td>False</td>\n",
              "      <td>False</td>\n",
              "      <td>False</td>\n",
              "      <td>False</td>\n",
              "      <td>False</td>\n",
              "      <td>False</td>\n",
              "      <td>True</td>\n",
              "      <td>False</td>\n",
              "      <td>False</td>\n",
              "      <td>False</td>\n",
              "      <td>False</td>\n",
              "      <td>False</td>\n",
              "      <td>False</td>\n",
              "      <td>False</td>\n",
              "    </tr>\n",
              "    <tr>\n",
              "      <th>C</th>\n",
              "      <td>False</td>\n",
              "      <td>False</td>\n",
              "      <td>False</td>\n",
              "      <td>False</td>\n",
              "      <td>False</td>\n",
              "      <td>False</td>\n",
              "      <td>False</td>\n",
              "      <td>True</td>\n",
              "      <td>False</td>\n",
              "      <td>False</td>\n",
              "      <td>False</td>\n",
              "      <td>False</td>\n",
              "      <td>False</td>\n",
              "      <td>False</td>\n",
              "    </tr>\n",
              "    <tr>\n",
              "      <th>D</th>\n",
              "      <td>False</td>\n",
              "      <td>False</td>\n",
              "      <td>False</td>\n",
              "      <td>False</td>\n",
              "      <td>False</td>\n",
              "      <td>False</td>\n",
              "      <td>False</td>\n",
              "      <td>False</td>\n",
              "      <td>True</td>\n",
              "      <td>False</td>\n",
              "      <td>False</td>\n",
              "      <td>False</td>\n",
              "      <td>False</td>\n",
              "      <td>False</td>\n",
              "    </tr>\n",
              "    <tr>\n",
              "      <th>E</th>\n",
              "      <td>False</td>\n",
              "      <td>False</td>\n",
              "      <td>False</td>\n",
              "      <td>False</td>\n",
              "      <td>False</td>\n",
              "      <td>False</td>\n",
              "      <td>False</td>\n",
              "      <td>False</td>\n",
              "      <td>False</td>\n",
              "      <td>True</td>\n",
              "      <td>False</td>\n",
              "      <td>False</td>\n",
              "      <td>True</td>\n",
              "      <td>False</td>\n",
              "    </tr>\n",
              "    <tr>\n",
              "      <th>F</th>\n",
              "      <td>False</td>\n",
              "      <td>False</td>\n",
              "      <td>False</td>\n",
              "      <td>False</td>\n",
              "      <td>False</td>\n",
              "      <td>False</td>\n",
              "      <td>False</td>\n",
              "      <td>False</td>\n",
              "      <td>False</td>\n",
              "      <td>False</td>\n",
              "      <td>True</td>\n",
              "      <td>False</td>\n",
              "      <td>False</td>\n",
              "      <td>False</td>\n",
              "    </tr>\n",
              "    <tr>\n",
              "      <th>Z</th>\n",
              "      <td>False</td>\n",
              "      <td>False</td>\n",
              "      <td>False</td>\n",
              "      <td>False</td>\n",
              "      <td>False</td>\n",
              "      <td>False</td>\n",
              "      <td>False</td>\n",
              "      <td>False</td>\n",
              "      <td>False</td>\n",
              "      <td>False</td>\n",
              "      <td>False</td>\n",
              "      <td>True</td>\n",
              "      <td>False</td>\n",
              "      <td>False</td>\n",
              "    </tr>\n",
              "    <tr>\n",
              "      <th>Number_of_prev_cond</th>\n",
              "      <td>False</td>\n",
              "      <td>False</td>\n",
              "      <td>False</td>\n",
              "      <td>False</td>\n",
              "      <td>False</td>\n",
              "      <td>False</td>\n",
              "      <td>False</td>\n",
              "      <td>False</td>\n",
              "      <td>False</td>\n",
              "      <td>True</td>\n",
              "      <td>False</td>\n",
              "      <td>False</td>\n",
              "      <td>True</td>\n",
              "      <td>False</td>\n",
              "    </tr>\n",
              "    <tr>\n",
              "      <th>Survived_1_year</th>\n",
              "      <td>False</td>\n",
              "      <td>False</td>\n",
              "      <td>False</td>\n",
              "      <td>False</td>\n",
              "      <td>False</td>\n",
              "      <td>False</td>\n",
              "      <td>False</td>\n",
              "      <td>False</td>\n",
              "      <td>False</td>\n",
              "      <td>False</td>\n",
              "      <td>False</td>\n",
              "      <td>False</td>\n",
              "      <td>False</td>\n",
              "      <td>True</td>\n",
              "    </tr>\n",
              "  </tbody>\n",
              "</table>\n",
              "</div>"
            ],
            "text/plain": [
              "                           ID_Patient_Care_Situation  ...  Survived_1_year\n",
              "ID_Patient_Care_Situation                       True  ...            False\n",
              "Diagnosed_Condition                            False  ...            False\n",
              "Patient_ID                                     False  ...            False\n",
              "Patient_Age                                    False  ...            False\n",
              "Patient_Body_Mass_Index                        False  ...            False\n",
              "A                                              False  ...            False\n",
              "B                                              False  ...            False\n",
              "C                                              False  ...            False\n",
              "D                                              False  ...            False\n",
              "E                                              False  ...            False\n",
              "F                                              False  ...            False\n",
              "Z                                              False  ...            False\n",
              "Number_of_prev_cond                            False  ...            False\n",
              "Survived_1_year                                False  ...             True\n",
              "\n",
              "[14 rows x 14 columns]"
            ]
          },
          "metadata": {
            "tags": []
          },
          "execution_count": 467
        }
      ]
    },
    {
      "cell_type": "code",
      "metadata": {
        "id": "flsSy7_1PrSP",
        "colab_type": "code",
        "colab": {
          "base_uri": "https://localhost:8080/",
          "height": 121
        },
        "outputId": "041041a3-5c92-4254-a4ca-9e1a83ed9047"
      },
      "source": [
        "pharma_data.columns"
      ],
      "execution_count": 468,
      "outputs": [
        {
          "output_type": "execute_result",
          "data": {
            "text/plain": [
              "Index(['ID_Patient_Care_Situation', 'Diagnosed_Condition', 'Patient_ID',\n",
              "       'Treated_with_drugs', 'Patient_Age', 'Patient_Body_Mass_Index',\n",
              "       'Patient_Smoker', 'Patient_Rural_Urban', 'Patient_mental_condition',\n",
              "       'A', 'B', 'C', 'D', 'E', 'F', 'Z', 'Number_of_prev_cond',\n",
              "       'Survived_1_year'],\n",
              "      dtype='object')"
            ]
          },
          "metadata": {
            "tags": []
          },
          "execution_count": 468
        }
      ]
    },
    {
      "cell_type": "code",
      "metadata": {
        "id": "fStdzDeUm6ry",
        "colab_type": "code",
        "colab": {
          "base_uri": "https://localhost:8080/",
          "height": 347
        },
        "outputId": "742a7f35-0a46-473b-8590-e2c9c02746db"
      },
      "source": [
        "pharma_data.isnull().sum()"
      ],
      "execution_count": 469,
      "outputs": [
        {
          "output_type": "execute_result",
          "data": {
            "text/plain": [
              "ID_Patient_Care_Situation       0\n",
              "Diagnosed_Condition             0\n",
              "Patient_ID                      0\n",
              "Treated_with_drugs             13\n",
              "Patient_Age                     0\n",
              "Patient_Body_Mass_Index         0\n",
              "Patient_Smoker                  0\n",
              "Patient_Rural_Urban             0\n",
              "Patient_mental_condition        0\n",
              "A                            1235\n",
              "B                            1235\n",
              "C                            1235\n",
              "D                            1235\n",
              "E                            1235\n",
              "F                            1235\n",
              "Z                            1235\n",
              "Number_of_prev_cond          1235\n",
              "Survived_1_year                 0\n",
              "dtype: int64"
            ]
          },
          "metadata": {
            "tags": []
          },
          "execution_count": 469
        }
      ]
    },
    {
      "cell_type": "code",
      "metadata": {
        "id": "EkFXWWBP7nGl",
        "colab_type": "code",
        "colab": {
          "base_uri": "https://localhost:8080/",
          "height": 173
        },
        "outputId": "9d835a99-2ee4-48cc-e857-11fd6eb8a8ca"
      },
      "source": [
        "print(pharma_data['Treated_with_drugs'].unique())\n",
        "print(pharma_data['Patient_mental_condition'].unique())\n",
        "print(pharma_data['Patient_Smoker'].unique())"
      ],
      "execution_count": 470,
      "outputs": [
        {
          "output_type": "stream",
          "text": [
            "['DX6' 'DX2 ' 'DX1 ' nan 'DX3 ' 'DX5 ' 'DX4 ' 'DX2 DX5 ' 'DX2 DX3 '\n",
            " 'DX1 DX3 ' 'DX1 DX2 ' 'DX3 DX4 ' 'DX1 DX4 ' 'DX1 DX5 ' 'DX2 DX4 DX5 '\n",
            " 'DX1 DX2 DX3 ' 'DX3 DX5 ' 'DX2 DX4 ' 'DX3 DX4 DX5 ' 'DX2 DX3 DX5 '\n",
            " 'DX1 DX2 DX3 DX4 ' 'DX4 DX5 ' 'DX2 DX3 DX4 ' 'DX1 DX4 DX5 '\n",
            " 'DX1 DX2 DX4 ' 'DX1 DX3 DX5 ' 'DX1 DX2 DX5 ' 'DX1 DX3 DX4 '\n",
            " 'DX1 DX3 DX4 DX5 ' 'DX1 DX2 DX4 DX5 ' 'DX2 DX3 DX4 DX5 '\n",
            " 'DX1 DX2 DX3 DX5 ' 'DX1 DX2 DX3 DX4 DX5 ']\n",
            "['Stable']\n",
            "['YES' 'NO' 'Cannot say']\n"
          ],
          "name": "stdout"
        }
      ]
    },
    {
      "cell_type": "code",
      "metadata": {
        "id": "FQ8eqJp98xhy",
        "colab_type": "code",
        "colab": {
          "base_uri": "https://localhost:8080/",
          "height": 69
        },
        "outputId": "da74e995-4953-4174-fe31-f29ef2e2b251"
      },
      "source": [
        "pharma_data['Survived_1_year'].value_counts()"
      ],
      "execution_count": 471,
      "outputs": [
        {
          "output_type": "execute_result",
          "data": {
            "text/plain": [
              "1    14603\n",
              "0     8494\n",
              "Name: Survived_1_year, dtype: int64"
            ]
          },
          "metadata": {
            "tags": []
          },
          "execution_count": 471
        }
      ]
    },
    {
      "cell_type": "code",
      "metadata": {
        "id": "isJ9V94t-caC",
        "colab_type": "code",
        "colab": {
          "base_uri": "https://localhost:8080/",
          "height": 297
        },
        "outputId": "749a11b4-e82c-45b4-8963-6c5323e4b4f4"
      },
      "source": [
        "pharma_data.plot(kind='scatter', x='Patient_Smoker', y='Patient_Age') "
      ],
      "execution_count": 472,
      "outputs": [
        {
          "output_type": "execute_result",
          "data": {
            "text/plain": [
              "<matplotlib.axes._subplots.AxesSubplot at 0x7f2256383fd0>"
            ]
          },
          "metadata": {
            "tags": []
          },
          "execution_count": 472
        },
        {
          "output_type": "display_data",
          "data": {
            "image/png": "[encoded data removed]",
            "text/plain": [
              "<Figure size 432x288 with 1 Axes>"
            ]
          },
          "metadata": {
            "tags": [],
            "needs_background": "light"
          }
        }
      ]
    },
    {
      "cell_type": "code",
      "metadata": {
        "id": "Tp-MqjJiqhDu",
        "colab_type": "code",
        "colab": {
          "base_uri": "https://localhost:8080/",
          "height": 1000
        },
        "outputId": "024e001e-415e-423f-e73b-19250aeff9dc"
      },
      "source": [
        "fig = plt.figure(figsize = (15,20))\n",
        "ax = fig.gca()\n",
        "pharma_data.hist(column=[\"A\", \"B\",\"C\",\"D\",\"E\",\"F\",\"Z\"],bins=6,ax=ax)"
      ],
      "execution_count": 473,
      "outputs": [
        {
          "output_type": "stream",
          "text": [
            "/usr/local/lib/python3.6/dist-packages/ipykernel_launcher.py:3: UserWarning: To output multiple subplots, the figure containing the passed axes is being cleared\n",
            "  This is separate from the ipykernel package so we can avoid doing imports until\n"
          ],
          "name": "stderr"
        },
        {
          "output_type": "execute_result",
          "data": {
            "text/plain": [
              "array([[<matplotlib.axes._subplots.AxesSubplot object at 0x7f22561dd780>,\n",
              "        <matplotlib.axes._subplots.AxesSubplot object at 0x7f2256158588>,\n",
              "        <matplotlib.axes._subplots.AxesSubplot object at 0x7f225610a908>],\n",
              "       [<matplotlib.axes._subplots.AxesSubplot object at 0x7f22560bcc88>,\n",
              "        <matplotlib.axes._subplots.AxesSubplot object at 0x7f2256072fd0>,\n",
              "        <matplotlib.axes._subplots.AxesSubplot object at 0x7f22560a4ba8>],\n",
              "       [<matplotlib.axes._subplots.AxesSubplot object at 0x7f2256057f28>,\n",
              "        <matplotlib.axes._subplots.AxesSubplot object at 0x7f22560152b0>,\n",
              "        <matplotlib.axes._subplots.AxesSubplot object at 0x7f2256015320>]],\n",
              "      dtype=object)"
            ]
          },
          "metadata": {
            "tags": []
          },
          "execution_count": 473
        },
        {
          "output_type": "display_data",
          "data": {
            "image/png": "[encoded data removed]",
            "text/plain": [
              "<Figure size 1080x1440 with 9 Axes>"
            ]
          },
          "metadata": {
            "tags": [],
            "needs_background": "light"
          }
        }
      ]
    },
    {
      "cell_type": "code",
      "metadata": {
        "id": "9FWV3ZQA9LAs",
        "colab_type": "code",
        "colab": {}
      },
      "source": [
        "pharma_data = pd.get_dummies(pharma_data, columns=['Treated_with_drugs'])"
      ],
      "execution_count": 474,
      "outputs": []
    },
    {
      "cell_type": "code",
      "metadata": {
        "id": "cEH-weiCzDxH",
        "colab_type": "code",
        "colab": {}
      },
      "source": [
        "from sklearn.preprocessing import LabelEncoder\n",
        "le = LabelEncoder()\n",
        "pharma_data['Patient_Smoker']= le.fit_transform(pharma_data['Patient_Smoker']) #Yes =2 No = 1 Can't say = 0\n",
        "pharma_data['Patient_Rural_Urban']= le.fit_transform(pharma_data['Patient_Rural_Urban']) # Urban =0 Rural =1 \n",
        "pharma_data['Patient_mental_condition']= le.fit_transform(pharma_data['Patient_mental_condition']) # Stable = 0  unstable =1"
      ],
      "execution_count": 475,
      "outputs": []
    },
    {
      "cell_type": "code",
      "metadata": {
        "id": "BMiGfueM1Hbt",
        "colab_type": "code",
        "colab": {
          "base_uri": "https://localhost:8080/",
          "height": 244
        },
        "outputId": "cc501309-57d3-47a2-f5d4-d4a036f92ed1"
      },
      "source": [
        "pharma_data.head()\n"
      ],
      "execution_count": 476,
      "outputs": [
        {
          "output_type": "execute_result",
          "data": {
            "text/html": [
              "<div>\n",
              "<style scoped>\n",
              "    .dataframe tbody tr th:only-of-type {\n",
              "        vertical-align: middle;\n",
              "    }\n",
              "\n",
              "    .dataframe tbody tr th {\n",
              "        vertical-align: top;\n",
              "    }\n",
              "\n",
              "    .dataframe thead th {\n",
              "        text-align: right;\n",
              "    }\n",
              "</style>\n",
              "<table border=\"1\" class=\"dataframe\">\n",
              "  <thead>\n",
              "    <tr style=\"text-align: right;\">\n",
              "      <th></th>\n",
              "      <th>ID_Patient_Care_Situation</th>\n",
              "      <th>Diagnosed_Condition</th>\n",
              "      <th>Patient_ID</th>\n",
              "      <th>Patient_Age</th>\n",
              "      <th>Patient_Body_Mass_Index</th>\n",
              "      <th>Patient_Smoker</th>\n",
              "      <th>Patient_Rural_Urban</th>\n",
              "      <th>Patient_mental_condition</th>\n",
              "      <th>A</th>\n",
              "      <th>B</th>\n",
              "      <th>C</th>\n",
              "      <th>D</th>\n",
              "      <th>E</th>\n",
              "      <th>F</th>\n",
              "      <th>Z</th>\n",
              "      <th>Number_of_prev_cond</th>\n",
              "      <th>Survived_1_year</th>\n",
              "      <th>Treated_with_drugs_DX1</th>\n",
              "      <th>Treated_with_drugs_DX1 DX2</th>\n",
              "      <th>Treated_with_drugs_DX1 DX2 DX3</th>\n",
              "      <th>Treated_with_drugs_DX1 DX2 DX3 DX4</th>\n",
              "      <th>Treated_with_drugs_DX1 DX2 DX3 DX4 DX5</th>\n",
              "      <th>Treated_with_drugs_DX1 DX2 DX3 DX5</th>\n",
              "      <th>Treated_with_drugs_DX1 DX2 DX4</th>\n",
              "      <th>Treated_with_drugs_DX1 DX2 DX4 DX5</th>\n",
              "      <th>Treated_with_drugs_DX1 DX2 DX5</th>\n",
              "      <th>Treated_with_drugs_DX1 DX3</th>\n",
              "      <th>Treated_with_drugs_DX1 DX3 DX4</th>\n",
              "      <th>Treated_with_drugs_DX1 DX3 DX4 DX5</th>\n",
              "      <th>Treated_with_drugs_DX1 DX3 DX5</th>\n",
              "      <th>Treated_with_drugs_DX1 DX4</th>\n",
              "      <th>Treated_with_drugs_DX1 DX4 DX5</th>\n",
              "      <th>Treated_with_drugs_DX1 DX5</th>\n",
              "      <th>Treated_with_drugs_DX2</th>\n",
              "      <th>Treated_with_drugs_DX2 DX3</th>\n",
              "      <th>Treated_with_drugs_DX2 DX3 DX4</th>\n",
              "      <th>Treated_with_drugs_DX2 DX3 DX4 DX5</th>\n",
              "      <th>Treated_with_drugs_DX2 DX3 DX5</th>\n",
              "      <th>Treated_with_drugs_DX2 DX4</th>\n",
              "      <th>Treated_with_drugs_DX2 DX4 DX5</th>\n",
              "      <th>Treated_with_drugs_DX2 DX5</th>\n",
              "      <th>Treated_with_drugs_DX3</th>\n",
              "      <th>Treated_with_drugs_DX3 DX4</th>\n",
              "      <th>Treated_with_drugs_DX3 DX4 DX5</th>\n",
              "      <th>Treated_with_drugs_DX3 DX5</th>\n",
              "      <th>Treated_with_drugs_DX4</th>\n",
              "      <th>Treated_with_drugs_DX4 DX5</th>\n",
              "      <th>Treated_with_drugs_DX5</th>\n",
              "      <th>Treated_with_drugs_DX6</th>\n",
              "    </tr>\n",
              "  </thead>\n",
              "  <tbody>\n",
              "    <tr>\n",
              "      <th>0</th>\n",
              "      <td>22374</td>\n",
              "      <td>8</td>\n",
              "      <td>3333</td>\n",
              "      <td>56</td>\n",
              "      <td>18.479385</td>\n",
              "      <td>2</td>\n",
              "      <td>1</td>\n",
              "      <td>0</td>\n",
              "      <td>1.0</td>\n",
              "      <td>0.0</td>\n",
              "      <td>0.0</td>\n",
              "      <td>0.0</td>\n",
              "      <td>1.0</td>\n",
              "      <td>0.0</td>\n",
              "      <td>0.0</td>\n",
              "      <td>2.0</td>\n",
              "      <td>0</td>\n",
              "      <td>0</td>\n",
              "      <td>0</td>\n",
              "      <td>0</td>\n",
              "      <td>0</td>\n",
              "      <td>0</td>\n",
              "      <td>0</td>\n",
              "      <td>0</td>\n",
              "      <td>0</td>\n",
              "      <td>0</td>\n",
              "      <td>0</td>\n",
              "      <td>0</td>\n",
              "      <td>0</td>\n",
              "      <td>0</td>\n",
              "      <td>0</td>\n",
              "      <td>0</td>\n",
              "      <td>0</td>\n",
              "      <td>0</td>\n",
              "      <td>0</td>\n",
              "      <td>0</td>\n",
              "      <td>0</td>\n",
              "      <td>0</td>\n",
              "      <td>0</td>\n",
              "      <td>0</td>\n",
              "      <td>0</td>\n",
              "      <td>0</td>\n",
              "      <td>0</td>\n",
              "      <td>0</td>\n",
              "      <td>0</td>\n",
              "      <td>0</td>\n",
              "      <td>0</td>\n",
              "      <td>0</td>\n",
              "      <td>1</td>\n",
              "    </tr>\n",
              "    <tr>\n",
              "      <th>1</th>\n",
              "      <td>18164</td>\n",
              "      <td>5</td>\n",
              "      <td>5740</td>\n",
              "      <td>36</td>\n",
              "      <td>22.945566</td>\n",
              "      <td>2</td>\n",
              "      <td>0</td>\n",
              "      <td>0</td>\n",
              "      <td>1.0</td>\n",
              "      <td>0.0</td>\n",
              "      <td>0.0</td>\n",
              "      <td>0.0</td>\n",
              "      <td>0.0</td>\n",
              "      <td>0.0</td>\n",
              "      <td>0.0</td>\n",
              "      <td>1.0</td>\n",
              "      <td>1</td>\n",
              "      <td>0</td>\n",
              "      <td>0</td>\n",
              "      <td>0</td>\n",
              "      <td>0</td>\n",
              "      <td>0</td>\n",
              "      <td>0</td>\n",
              "      <td>0</td>\n",
              "      <td>0</td>\n",
              "      <td>0</td>\n",
              "      <td>0</td>\n",
              "      <td>0</td>\n",
              "      <td>0</td>\n",
              "      <td>0</td>\n",
              "      <td>0</td>\n",
              "      <td>0</td>\n",
              "      <td>0</td>\n",
              "      <td>1</td>\n",
              "      <td>0</td>\n",
              "      <td>0</td>\n",
              "      <td>0</td>\n",
              "      <td>0</td>\n",
              "      <td>0</td>\n",
              "      <td>0</td>\n",
              "      <td>0</td>\n",
              "      <td>0</td>\n",
              "      <td>0</td>\n",
              "      <td>0</td>\n",
              "      <td>0</td>\n",
              "      <td>0</td>\n",
              "      <td>0</td>\n",
              "      <td>0</td>\n",
              "      <td>0</td>\n",
              "    </tr>\n",
              "    <tr>\n",
              "      <th>2</th>\n",
              "      <td>6283</td>\n",
              "      <td>23</td>\n",
              "      <td>10446</td>\n",
              "      <td>48</td>\n",
              "      <td>27.510027</td>\n",
              "      <td>2</td>\n",
              "      <td>0</td>\n",
              "      <td>0</td>\n",
              "      <td>1.0</td>\n",
              "      <td>0.0</td>\n",
              "      <td>0.0</td>\n",
              "      <td>0.0</td>\n",
              "      <td>0.0</td>\n",
              "      <td>0.0</td>\n",
              "      <td>0.0</td>\n",
              "      <td>1.0</td>\n",
              "      <td>0</td>\n",
              "      <td>0</td>\n",
              "      <td>0</td>\n",
              "      <td>0</td>\n",
              "      <td>0</td>\n",
              "      <td>0</td>\n",
              "      <td>0</td>\n",
              "      <td>0</td>\n",
              "      <td>0</td>\n",
              "      <td>0</td>\n",
              "      <td>0</td>\n",
              "      <td>0</td>\n",
              "      <td>0</td>\n",
              "      <td>0</td>\n",
              "      <td>0</td>\n",
              "      <td>0</td>\n",
              "      <td>0</td>\n",
              "      <td>0</td>\n",
              "      <td>0</td>\n",
              "      <td>0</td>\n",
              "      <td>0</td>\n",
              "      <td>0</td>\n",
              "      <td>0</td>\n",
              "      <td>0</td>\n",
              "      <td>0</td>\n",
              "      <td>0</td>\n",
              "      <td>0</td>\n",
              "      <td>0</td>\n",
              "      <td>0</td>\n",
              "      <td>0</td>\n",
              "      <td>0</td>\n",
              "      <td>0</td>\n",
              "      <td>1</td>\n",
              "    </tr>\n",
              "    <tr>\n",
              "      <th>3</th>\n",
              "      <td>5339</td>\n",
              "      <td>51</td>\n",
              "      <td>12011</td>\n",
              "      <td>5</td>\n",
              "      <td>19.130976</td>\n",
              "      <td>1</td>\n",
              "      <td>1</td>\n",
              "      <td>0</td>\n",
              "      <td>1.0</td>\n",
              "      <td>0.0</td>\n",
              "      <td>0.0</td>\n",
              "      <td>0.0</td>\n",
              "      <td>0.0</td>\n",
              "      <td>0.0</td>\n",
              "      <td>0.0</td>\n",
              "      <td>1.0</td>\n",
              "      <td>1</td>\n",
              "      <td>1</td>\n",
              "      <td>0</td>\n",
              "      <td>0</td>\n",
              "      <td>0</td>\n",
              "      <td>0</td>\n",
              "      <td>0</td>\n",
              "      <td>0</td>\n",
              "      <td>0</td>\n",
              "      <td>0</td>\n",
              "      <td>0</td>\n",
              "      <td>0</td>\n",
              "      <td>0</td>\n",
              "      <td>0</td>\n",
              "      <td>0</td>\n",
              "      <td>0</td>\n",
              "      <td>0</td>\n",
              "      <td>0</td>\n",
              "      <td>0</td>\n",
              "      <td>0</td>\n",
              "      <td>0</td>\n",
              "      <td>0</td>\n",
              "      <td>0</td>\n",
              "      <td>0</td>\n",
              "      <td>0</td>\n",
              "      <td>0</td>\n",
              "      <td>0</td>\n",
              "      <td>0</td>\n",
              "      <td>0</td>\n",
              "      <td>0</td>\n",
              "      <td>0</td>\n",
              "      <td>0</td>\n",
              "      <td>0</td>\n",
              "    </tr>\n",
              "    <tr>\n",
              "      <th>4</th>\n",
              "      <td>33012</td>\n",
              "      <td>0</td>\n",
              "      <td>12513</td>\n",
              "      <td>128</td>\n",
              "      <td>1.348400</td>\n",
              "      <td>0</td>\n",
              "      <td>0</td>\n",
              "      <td>0</td>\n",
              "      <td>0.0</td>\n",
              "      <td>0.0</td>\n",
              "      <td>0.0</td>\n",
              "      <td>0.0</td>\n",
              "      <td>0.0</td>\n",
              "      <td>0.0</td>\n",
              "      <td>1.0</td>\n",
              "      <td>1.0</td>\n",
              "      <td>1</td>\n",
              "      <td>0</td>\n",
              "      <td>0</td>\n",
              "      <td>0</td>\n",
              "      <td>0</td>\n",
              "      <td>0</td>\n",
              "      <td>0</td>\n",
              "      <td>0</td>\n",
              "      <td>0</td>\n",
              "      <td>0</td>\n",
              "      <td>0</td>\n",
              "      <td>0</td>\n",
              "      <td>0</td>\n",
              "      <td>0</td>\n",
              "      <td>0</td>\n",
              "      <td>0</td>\n",
              "      <td>0</td>\n",
              "      <td>0</td>\n",
              "      <td>0</td>\n",
              "      <td>0</td>\n",
              "      <td>0</td>\n",
              "      <td>0</td>\n",
              "      <td>0</td>\n",
              "      <td>0</td>\n",
              "      <td>0</td>\n",
              "      <td>0</td>\n",
              "      <td>0</td>\n",
              "      <td>0</td>\n",
              "      <td>0</td>\n",
              "      <td>0</td>\n",
              "      <td>0</td>\n",
              "      <td>0</td>\n",
              "      <td>0</td>\n",
              "    </tr>\n",
              "  </tbody>\n",
              "</table>\n",
              "</div>"
            ],
            "text/plain": [
              "   ID_Patient_Care_Situation  ...  Treated_with_drugs_DX6\n",
              "0                      22374  ...                       1\n",
              "1                      18164  ...                       0\n",
              "2                       6283  ...                       1\n",
              "3                       5339  ...                       0\n",
              "4                      33012  ...                       0\n",
              "\n",
              "[5 rows x 49 columns]"
            ]
          },
          "metadata": {
            "tags": []
          },
          "execution_count": 476
        }
      ]
    },
    {
      "cell_type": "code",
      "metadata": {
        "id": "HzOUEiRPED8m",
        "colab_type": "code",
        "colab": {}
      },
      "source": [
        "pharma_data['Number_of_prev_cond'] = pharma_data['Number_of_prev_cond'].fillna(np.mean(pharma_data['Number_of_prev_cond']))"
      ],
      "execution_count": 477,
      "outputs": []
    },
    {
      "cell_type": "code",
      "metadata": {
        "id": "lKT4wkAW9nBE",
        "colab_type": "code",
        "colab": {}
      },
      "source": [
        "X = pharma_data[['ID_Patient_Care_Situation','Diagnosed_Condition', 'Patient_Age', 'Patient_Body_Mass_Index','Patient_Smoker', 'Patient_Rural_Urban', 'Patient_mental_condition','Number_of_prev_cond',       'Treated_with_drugs_DX1 ', 'Treated_with_drugs_DX1 DX2 ',\n",
        "       'Treated_with_drugs_DX1 DX2 DX3 ',\n",
        "       'Treated_with_drugs_DX1 DX2 DX3 DX4 ',\n",
        "       'Treated_with_drugs_DX1 DX2 DX3 DX4 DX5 ',\n",
        "       'Treated_with_drugs_DX1 DX2 DX3 DX5 ',\n",
        "       'Treated_with_drugs_DX1 DX2 DX4 ',\n",
        "       'Treated_with_drugs_DX1 DX2 DX4 DX5 ',\n",
        "       'Treated_with_drugs_DX1 DX2 DX5 ', 'Treated_with_drugs_DX1 DX3 ',\n",
        "       'Treated_with_drugs_DX1 DX3 DX4 ',\n",
        "       'Treated_with_drugs_DX1 DX3 DX4 DX5 ',\n",
        "       'Treated_with_drugs_DX1 DX3 DX5 ', 'Treated_with_drugs_DX1 DX4 ',\n",
        "       'Treated_with_drugs_DX1 DX4 DX5 ', 'Treated_with_drugs_DX1 DX5 ',\n",
        "       'Treated_with_drugs_DX2 ', 'Treated_with_drugs_DX2 DX3 ',\n",
        "       'Treated_with_drugs_DX2 DX3 DX4 ',\n",
        "       'Treated_with_drugs_DX2 DX3 DX4 DX5 ',\n",
        "       'Treated_with_drugs_DX2 DX3 DX5 ', 'Treated_with_drugs_DX2 DX4 ',\n",
        "       'Treated_with_drugs_DX2 DX4 DX5 ', 'Treated_with_drugs_DX2 DX5 ',\n",
        "       'Treated_with_drugs_DX3 ', 'Treated_with_drugs_DX3 DX4 ',\n",
        "       'Treated_with_drugs_DX3 DX4 DX5 ', 'Treated_with_drugs_DX3 DX5 ',\n",
        "       'Treated_with_drugs_DX4 ', 'Treated_with_drugs_DX4 DX5 ',\n",
        "       'Treated_with_drugs_DX5 ', 'Treated_with_drugs_DX6']] \n",
        "y = pharma_data[['Survived_1_year']]"
      ],
      "execution_count": 478,
      "outputs": []
    },
    {
      "cell_type": "code",
      "metadata": {
        "id": "CWCCQmOUENbS",
        "colab_type": "code",
        "colab": {}
      },
      "source": [
        ""
      ],
      "execution_count": 478,
      "outputs": []
    },
    {
      "cell_type": "code",
      "metadata": {
        "id": "lum4cLEZEdTp",
        "colab_type": "code",
        "colab": {
          "base_uri": "https://localhost:8080/",
          "height": 729
        },
        "outputId": "70175c49-c60d-4c9a-8316-63f50946f406"
      },
      "source": [
        "X.isnull().sum()"
      ],
      "execution_count": 479,
      "outputs": [
        {
          "output_type": "execute_result",
          "data": {
            "text/plain": [
              "ID_Patient_Care_Situation                  0\n",
              "Diagnosed_Condition                        0\n",
              "Patient_Age                                0\n",
              "Patient_Body_Mass_Index                    0\n",
              "Patient_Smoker                             0\n",
              "Patient_Rural_Urban                        0\n",
              "Patient_mental_condition                   0\n",
              "Number_of_prev_cond                        0\n",
              "Treated_with_drugs_DX1                     0\n",
              "Treated_with_drugs_DX1 DX2                 0\n",
              "Treated_with_drugs_DX1 DX2 DX3             0\n",
              "Treated_with_drugs_DX1 DX2 DX3 DX4         0\n",
              "Treated_with_drugs_DX1 DX2 DX3 DX4 DX5     0\n",
              "Treated_with_drugs_DX1 DX2 DX3 DX5         0\n",
              "Treated_with_drugs_DX1 DX2 DX4             0\n",
              "Treated_with_drugs_DX1 DX2 DX4 DX5         0\n",
              "Treated_with_drugs_DX1 DX2 DX5             0\n",
              "Treated_with_drugs_DX1 DX3                 0\n",
              "Treated_with_drugs_DX1 DX3 DX4             0\n",
              "Treated_with_drugs_DX1 DX3 DX4 DX5         0\n",
              "Treated_with_drugs_DX1 DX3 DX5             0\n",
              "Treated_with_drugs_DX1 DX4                 0\n",
              "Treated_with_drugs_DX1 DX4 DX5             0\n",
              "Treated_with_drugs_DX1 DX5                 0\n",
              "Treated_with_drugs_DX2                     0\n",
              "Treated_with_drugs_DX2 DX3                 0\n",
              "Treated_with_drugs_DX2 DX3 DX4             0\n",
              "Treated_with_drugs_DX2 DX3 DX4 DX5         0\n",
              "Treated_with_drugs_DX2 DX3 DX5             0\n",
              "Treated_with_drugs_DX2 DX4                 0\n",
              "Treated_with_drugs_DX2 DX4 DX5             0\n",
              "Treated_with_drugs_DX2 DX5                 0\n",
              "Treated_with_drugs_DX3                     0\n",
              "Treated_with_drugs_DX3 DX4                 0\n",
              "Treated_with_drugs_DX3 DX4 DX5             0\n",
              "Treated_with_drugs_DX3 DX5                 0\n",
              "Treated_with_drugs_DX4                     0\n",
              "Treated_with_drugs_DX4 DX5                 0\n",
              "Treated_with_drugs_DX5                     0\n",
              "Treated_with_drugs_DX6                     0\n",
              "dtype: int64"
            ]
          },
          "metadata": {
            "tags": []
          },
          "execution_count": 479
        }
      ]
    },
    {
      "cell_type": "code",
      "metadata": {
        "id": "jgN2jmI_DgeF",
        "colab_type": "code",
        "colab": {
          "base_uri": "https://localhost:8080/",
          "height": 159
        },
        "outputId": "e46e4a31-3734-476b-9cfd-3d0bf430e1c9"
      },
      "source": [
        "from sklearn.model_selection import train_test_split\n",
        "from sklearn.linear_model import LogisticRegression\n",
        "from sklearn.tree import DecisionTreeRegressor\n",
        "from sklearn.ensemble import RandomForestRegressor\n",
        "\n",
        "X_train, X_test, y_train, y_test = train_test_split(X, y, test_size = 0.9, random_state = 42)\n",
        "model = LogisticRegression()\n",
        "model.fit(X_train,y_train)"
      ],
      "execution_count": 480,
      "outputs": [
        {
          "output_type": "stream",
          "text": [
            "/usr/local/lib/python3.6/dist-packages/sklearn/utils/validation.py:760: DataConversionWarning: A column-vector y was passed when a 1d array was expected. Please change the shape of y to (n_samples, ), for example using ravel().\n",
            "  y = column_or_1d(y, warn=True)\n"
          ],
          "name": "stderr"
        },
        {
          "output_type": "execute_result",
          "data": {
            "text/plain": [
              "LogisticRegression(C=1.0, class_weight=None, dual=False, fit_intercept=True,\n",
              "                   intercept_scaling=1, l1_ratio=None, max_iter=100,\n",
              "                   multi_class='auto', n_jobs=None, penalty='l2',\n",
              "                   random_state=None, solver='lbfgs', tol=0.0001, verbose=0,\n",
              "                   warm_start=False)"
            ]
          },
          "metadata": {
            "tags": []
          },
          "execution_count": 480
        }
      ]
    },
    {
      "cell_type": "code",
      "metadata": {
        "id": "9ykXq8_pE1As",
        "colab_type": "code",
        "colab": {}
      },
      "source": [
        "y_pred = model.predict(X_test)"
      ],
      "execution_count": 481,
      "outputs": []
    },
    {
      "cell_type": "code",
      "metadata": {
        "id": "WICv0r1wJ1nt",
        "colab_type": "code",
        "colab": {
          "base_uri": "https://localhost:8080/",
          "height": 72
        },
        "outputId": "711eddeb-d5cc-4f48-bbee-3205ef0d2435"
      },
      "source": [
        "np.random.seed(9)\n",
        "model_3 = RandomForestRegressor(n_estimators = 10, random_state = 47)\n",
        "model_3.fit(X_train,y_train)\n",
        "y_pred_3 = model.predict(X_test)"
      ],
      "execution_count": 482,
      "outputs": [
        {
          "output_type": "stream",
          "text": [
            "/usr/local/lib/python3.6/dist-packages/ipykernel_launcher.py:3: DataConversionWarning: A column-vector y was passed when a 1d array was expected. Please change the shape of y to (n_samples,), for example using ravel().\n",
            "  This is separate from the ipykernel package so we can avoid doing imports until\n"
          ],
          "name": "stderr"
        }
      ]
    },
    {
      "cell_type": "code",
      "metadata": {
        "id": "KJqv2TWDKTyW",
        "colab_type": "code",
        "colab": {
          "base_uri": "https://localhost:8080/",
          "height": 121
        },
        "outputId": "020b524e-f6d5-40f3-cc40-96619667acc3"
      },
      "source": [
        "model_2 = DecisionTreeRegressor(max_depth = 3, random_state = 47)\n",
        "model_2.fit(X_train,y_train)"
      ],
      "execution_count": 483,
      "outputs": [
        {
          "output_type": "execute_result",
          "data": {
            "text/plain": [
              "DecisionTreeRegressor(ccp_alpha=0.0, criterion='mse', max_depth=3,\n",
              "                      max_features=None, max_leaf_nodes=None,\n",
              "                      min_impurity_decrease=0.0, min_impurity_split=None,\n",
              "                      min_samples_leaf=1, min_samples_split=2,\n",
              "                      min_weight_fraction_leaf=0.0, presort='deprecated',\n",
              "                      random_state=47, splitter='best')"
            ]
          },
          "metadata": {
            "tags": []
          },
          "execution_count": 483
        }
      ]
    },
    {
      "cell_type": "code",
      "metadata": {
        "id": "rg-6KTfkKWoD",
        "colab_type": "code",
        "colab": {}
      },
      "source": [
        "y_pred_2 = model.predict(X_test)"
      ],
      "execution_count": 484,
      "outputs": []
    },
    {
      "cell_type": "code",
      "metadata": {
        "id": "1AEXoCwADMu4",
        "colab_type": "code",
        "colab": {
          "base_uri": "https://localhost:8080/",
          "height": 69
        },
        "outputId": "09ee3915-fa04-4d99-bc45-0500268d4abf"
      },
      "source": [
        "from sklearn.metrics import f1_score\n",
        "print(f1_score(y_test, y_pred))\n",
        "print(f1_score(y_test, y_pred_2))\n",
        "print(f1_score(y_test, y_pred_3))\n"
      ],
      "execution_count": 485,
      "outputs": [
        {
          "output_type": "stream",
          "text": [
            "0.7755548498641545\n",
            "0.7755548498641545\n",
            "0.7755548498641545\n"
          ],
          "name": "stdout"
        }
      ]
    }
  ]
}