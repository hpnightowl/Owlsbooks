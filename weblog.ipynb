{
  "nbformat": 4,
  "nbformat_minor": 0,
  "metadata": {
    "colab": {
      "name": "new_data.ipynb",
      "provenance": [],
      "authorship_tag": "ABX9TyMqC01ZMNNe4ezUYHYjD3AR",
      "include_colab_link": true
    },
    "kernelspec": {
      "name": "python3",
      "display_name": "Python 3"
    }
  },
  "cells": [
    {
      "cell_type": "markdown",
      "metadata": {
        "id": "view-in-github",
        "colab_type": "text"
      },
      "source": [
        "<a href=\"https://colab.research.google.com/github/hpnightowl/Owlsbooks/blob/master/weblog.ipynb\" target=\"_parent\"><img src=\"https://colab.research.google.com/assets/colab-badge.svg\" alt=\"Open In Colab\"/></a>"
      ]
    },
    {
      "cell_type": "code",
      "metadata": {
        "id": "W--vRMN62dhl"
      },
      "source": [
        "# Install the PyDrive wrapper & import libraries.\r\n",
        "from pydrive.auth import GoogleAuth\r\n",
        "from pydrive.drive import GoogleDrive\r\n",
        "from google.colab import auth\r\n",
        "from oauth2client.client import GoogleCredentials\r\n",
        "\r\n",
        "# Authenticate and create the PyDrive client.\r\n",
        "auth.authenticate_user()\r\n",
        "gauth = GoogleAuth()\r\n",
        "gauth.credentials = GoogleCredentials.get_application_default()\r\n",
        "drive = GoogleDrive(gauth)\r\n",
        "\r\n",
        "#1bM4P-UhYbwpb8avaUH9RlkGwQuPlQ_o3 - jul\r\n",
        "#1lCrS678Y7n93iFXO568fN78zcY2ffbPY - aug\r\n",
        "file_id = '1lCrS678Y7n93iFXO568fN78zcY2ffbPY'\r\n",
        "downloaded = drive.CreateFile({'id':file_id})\r\n",
        "downloaded.FetchMetadata(fetch_all=True)\r\n",
        "downloaded.GetContentFile(downloaded.metadata['title'])"
      ],
      "execution_count": null,
      "outputs": []
    },
    {
      "cell_type": "code",
      "metadata": {
        "colab": {
          "base_uri": "https://localhost:8080/"
        },
        "id": "ROw7P9mu8M3k",
        "outputId": "7ce53f8d-e787-43a8-8770-06320f4120f9"
      },
      "source": [
        "import os\r\n",
        "import re\r\n",
        "import pandas as pd\r\n",
        "import glob\r\n",
        "from datetime import datetime\r\n",
        "import warnings\r\n",
        "warnings.filterwarnings(\"ignore\")\r\n",
        "FileList = glob.glob(\"access_log_*95\")\r\n",
        "print(FileList)"
      ],
      "execution_count": null,
      "outputs": [
        {
          "output_type": "stream",
          "text": [
            "['access_log_Aug95', 'access_log_Jul95']\n"
          ],
          "name": "stdout"
        }
      ]
    },
    {
      "cell_type": "code",
      "metadata": {
        "id": "awX5XxoN8fDk"
      },
      "source": [
        "data_gen = (pd.read_csv(FileName, sep=\"!\", encoding=\"ISO-8859-1\", header=None) for FileName in FileList)\r\n",
        "data = pd.concat(data_gen, ignore_index = True)\r\n",
        "data.columns = [\"Data\"]"
      ],
      "execution_count": null,
      "outputs": []
    },
    {
      "cell_type": "code",
      "metadata": {
        "colab": {
          "base_uri": "https://localhost:8080/",
          "height": 206
        },
        "id": "4t9Efc1JDhf4",
        "outputId": "c3b342d2-5805-4fd3-956a-4f9a37376b68"
      },
      "source": [
        "pd.set_option(\"display.max_colwidth\", None)\r\n",
        "data.head(5)"
      ],
      "execution_count": null,
      "outputs": [
        {
          "output_type": "execute_result",
          "data": {
            "text/html": [
              "<div>\n",
              "<style scoped>\n",
              "    .dataframe tbody tr th:only-of-type {\n",
              "        vertical-align: middle;\n",
              "    }\n",
              "\n",
              "    .dataframe tbody tr th {\n",
              "        vertical-align: top;\n",
              "    }\n",
              "\n",
              "    .dataframe thead th {\n",
              "        text-align: right;\n",
              "    }\n",
              "</style>\n",
              "<table border=\"1\" class=\"dataframe\">\n",
              "  <thead>\n",
              "    <tr style=\"text-align: right;\">\n",
              "      <th></th>\n",
              "      <th>Data</th>\n",
              "    </tr>\n",
              "  </thead>\n",
              "  <tbody>\n",
              "    <tr>\n",
              "      <th>0</th>\n",
              "      <td>in24.inetnebr.com - - [01/Aug/1995:00:00:01 -0400] \"GET /shuttle/missions/sts-68/news/sts-68-mcc-05.txt HTTP/1.0\" 200 1839</td>\n",
              "    </tr>\n",
              "    <tr>\n",
              "      <th>1</th>\n",
              "      <td>uplherc.upl.com - - [01/Aug/1995:00:00:07 -0400] \"GET / HTTP/1.0\" 304 0</td>\n",
              "    </tr>\n",
              "    <tr>\n",
              "      <th>2</th>\n",
              "      <td>uplherc.upl.com - - [01/Aug/1995:00:00:08 -0400] \"GET /images/ksclogo-medium.gif HTTP/1.0\" 304 0</td>\n",
              "    </tr>\n",
              "    <tr>\n",
              "      <th>3</th>\n",
              "      <td>uplherc.upl.com - - [01/Aug/1995:00:00:08 -0400] \"GET /images/MOSAIC-logosmall.gif HTTP/1.0\" 304 0</td>\n",
              "    </tr>\n",
              "    <tr>\n",
              "      <th>4</th>\n",
              "      <td>uplherc.upl.com - - [01/Aug/1995:00:00:08 -0400] \"GET /images/USA-logosmall.gif HTTP/1.0\" 304 0</td>\n",
              "    </tr>\n",
              "  </tbody>\n",
              "</table>\n",
              "</div>"
            ],
            "text/plain": [
              "                                                                                                                         Data\n",
              "0  in24.inetnebr.com - - [01/Aug/1995:00:00:01 -0400] \"GET /shuttle/missions/sts-68/news/sts-68-mcc-05.txt HTTP/1.0\" 200 1839\n",
              "1                                                     uplherc.upl.com - - [01/Aug/1995:00:00:07 -0400] \"GET / HTTP/1.0\" 304 0\n",
              "2                            uplherc.upl.com - - [01/Aug/1995:00:00:08 -0400] \"GET /images/ksclogo-medium.gif HTTP/1.0\" 304 0\n",
              "3                          uplherc.upl.com - - [01/Aug/1995:00:00:08 -0400] \"GET /images/MOSAIC-logosmall.gif HTTP/1.0\" 304 0\n",
              "4                             uplherc.upl.com - - [01/Aug/1995:00:00:08 -0400] \"GET /images/USA-logosmall.gif HTTP/1.0\" 304 0"
            ]
          },
          "metadata": {
            "tags": []
          },
          "execution_count": 26
        }
      ]
    },
    {
      "cell_type": "code",
      "metadata": {
        "colab": {
          "base_uri": "https://localhost:8080/"
        },
        "id": "5hguVNxStIzf",
        "outputId": "0ecb7e2b-6c29-40d5-8c39-ea81d5a543f0"
      },
      "source": [
        "data.info()"
      ],
      "execution_count": null,
      "outputs": [
        {
          "output_type": "stream",
          "text": [
            "<class 'pandas.core.frame.DataFrame'>\n",
            "RangeIndex: 3461613 entries, 0 to 3461612\n",
            "Data columns (total 1 columns):\n",
            " #   Column  Dtype \n",
            "---  ------  ----- \n",
            " 0   Data    object\n",
            "dtypes: object(1)\n",
            "memory usage: 26.4+ MB\n"
          ],
          "name": "stdout"
        }
      ]
    },
    {
      "cell_type": "code",
      "metadata": {
        "id": "j5_L5fX-9oun"
      },
      "source": [
        "#Extracting Bytes from the given logfile\r\n",
        "bytesRegex = r\"\\s(\\d+)$\"\r\n",
        "ListofBytes = [re.search(bytesRegex, record).group(1)\r\n",
        "             if re.search(bytesRegex, record)\r\n",
        "             else \"No match found\"\r\n",
        "             for record in data[\"Data\"]]\r\n",
        "\r\n",
        "#Extracting all StatusCodes from the given logfile\r\n",
        "statusRegex = r\"\\s(\\d{3})\\s\"\r\n",
        "\r\n",
        "statuscodes = [re.search(statusRegex, record).group(1)\r\n",
        "            if re.search(statusRegex, record)\r\n",
        "            else \"No match found\"\r\n",
        "            for record in data[\"Data\"]]\r\n",
        "\r\n",
        "#Extracting all dates from given logfile\r\n",
        "dateRegex = r\"(\\d{2}[\\/]\\w*[\\/]\\d{4}:\\d{2}:\\d{2}:\\d{2})\"\r\n",
        "\r\n",
        "dates = [re.search(dateRegex, record).group(1)\r\n",
        "             if re.search(dateRegex, record)\r\n",
        "             else \"No match found\"\r\n",
        "             for record in data[\"Data\"]]\r\n",
        "\r\n",
        "#Extracting all hostnames from given logfile\r\n",
        "HostRegex = r\"(^\\S+)\\s\"\r\n",
        "Hostnames = [re.search(HostRegex, record).group(1)\r\n",
        "               if re.search(HostRegex, record)\r\n",
        "               else \"No match found\"\r\n",
        "               for record in data[\"Data\"]]"
      ],
      "execution_count": null,
      "outputs": []
    },
    {
      "cell_type": "code",
      "metadata": {
        "id": "qHLcMCbx9TVO"
      },
      "source": [
        "data[\"Host\"] = data[\"Data\"].str.extract(HostRegex, expand = True)\r\n",
        "data[\"Date\"] = data[\"Data\"].str.extract(dateRegex, expand = True)\r\n",
        "data[\"Status\"] = data[\"Data\"].str.extract(statusRegex, expand = True)\r\n",
        "data[\"Bytes\"] = data[\"Data\"].str.extract(bytesRegex, expand = True)"
      ],
      "execution_count": null,
      "outputs": []
    },
    {
      "cell_type": "code",
      "metadata": {
        "id": "qEbW4qWV9gQh"
      },
      "source": [
        "real_Data = data.filter(['Host','Date','Status','Bytes'], axis=1)"
      ],
      "execution_count": null,
      "outputs": []
    },
    {
      "cell_type": "code",
      "metadata": {
        "colab": {
          "base_uri": "https://localhost:8080/",
          "height": 424
        },
        "id": "YRU5HVtd-Pa7",
        "outputId": "be736175-b935-49d9-8c90-4864b61a4d12"
      },
      "source": [
        "real_Data"
      ],
      "execution_count": null,
      "outputs": [
        {
          "output_type": "execute_result",
          "data": {
            "text/html": [
              "<div>\n",
              "<style scoped>\n",
              "    .dataframe tbody tr th:only-of-type {\n",
              "        vertical-align: middle;\n",
              "    }\n",
              "\n",
              "    .dataframe tbody tr th {\n",
              "        vertical-align: top;\n",
              "    }\n",
              "\n",
              "    .dataframe thead th {\n",
              "        text-align: right;\n",
              "    }\n",
              "</style>\n",
              "<table border=\"1\" class=\"dataframe\">\n",
              "  <thead>\n",
              "    <tr style=\"text-align: right;\">\n",
              "      <th></th>\n",
              "      <th>Host</th>\n",
              "      <th>Date</th>\n",
              "      <th>Status</th>\n",
              "      <th>Bytes</th>\n",
              "    </tr>\n",
              "  </thead>\n",
              "  <tbody>\n",
              "    <tr>\n",
              "      <th>0</th>\n",
              "      <td>in24.inetnebr.com</td>\n",
              "      <td>01/Aug/1995:00:00:01</td>\n",
              "      <td>200</td>\n",
              "      <td>1839</td>\n",
              "    </tr>\n",
              "    <tr>\n",
              "      <th>1</th>\n",
              "      <td>uplherc.upl.com</td>\n",
              "      <td>01/Aug/1995:00:00:07</td>\n",
              "      <td>304</td>\n",
              "      <td>0</td>\n",
              "    </tr>\n",
              "    <tr>\n",
              "      <th>2</th>\n",
              "      <td>uplherc.upl.com</td>\n",
              "      <td>01/Aug/1995:00:00:08</td>\n",
              "      <td>304</td>\n",
              "      <td>0</td>\n",
              "    </tr>\n",
              "    <tr>\n",
              "      <th>3</th>\n",
              "      <td>uplherc.upl.com</td>\n",
              "      <td>01/Aug/1995:00:00:08</td>\n",
              "      <td>304</td>\n",
              "      <td>0</td>\n",
              "    </tr>\n",
              "    <tr>\n",
              "      <th>4</th>\n",
              "      <td>uplherc.upl.com</td>\n",
              "      <td>01/Aug/1995:00:00:08</td>\n",
              "      <td>304</td>\n",
              "      <td>0</td>\n",
              "    </tr>\n",
              "    <tr>\n",
              "      <th>...</th>\n",
              "      <td>...</td>\n",
              "      <td>...</td>\n",
              "      <td>...</td>\n",
              "      <td>...</td>\n",
              "    </tr>\n",
              "    <tr>\n",
              "      <th>3461608</th>\n",
              "      <td>163.205.53.14</td>\n",
              "      <td>28/Jul/1995:13:32:23</td>\n",
              "      <td>200</td>\n",
              "      <td>1204</td>\n",
              "    </tr>\n",
              "    <tr>\n",
              "      <th>3461609</th>\n",
              "      <td>tiger2.ocs.lsu.edu</td>\n",
              "      <td>28/Jul/1995:13:32:23</td>\n",
              "      <td>200</td>\n",
              "      <td>8677</td>\n",
              "    </tr>\n",
              "    <tr>\n",
              "      <th>3461610</th>\n",
              "      <td>199.0.2.27</td>\n",
              "      <td>28/Jul/1995:13:32:23</td>\n",
              "      <td>200</td>\n",
              "      <td>5866</td>\n",
              "    </tr>\n",
              "    <tr>\n",
              "      <th>3461611</th>\n",
              "      <td>tornado.umd.edu</td>\n",
              "      <td>28/Jul/1995:13:32:25</td>\n",
              "      <td>200</td>\n",
              "      <td>5494</td>\n",
              "    </tr>\n",
              "    <tr>\n",
              "      <th>3461612</th>\n",
              "      <td>NaN</td>\n",
              "      <td>NaN</td>\n",
              "      <td>NaN</td>\n",
              "      <td>NaN</td>\n",
              "    </tr>\n",
              "  </tbody>\n",
              "</table>\n",
              "<p>3461613 rows × 4 columns</p>\n",
              "</div>"
            ],
            "text/plain": [
              "                       Host                  Date Status Bytes\n",
              "0         in24.inetnebr.com  01/Aug/1995:00:00:01    200  1839\n",
              "1           uplherc.upl.com  01/Aug/1995:00:00:07    304     0\n",
              "2           uplherc.upl.com  01/Aug/1995:00:00:08    304     0\n",
              "3           uplherc.upl.com  01/Aug/1995:00:00:08    304     0\n",
              "4           uplherc.upl.com  01/Aug/1995:00:00:08    304     0\n",
              "...                     ...                   ...    ...   ...\n",
              "3461608       163.205.53.14  28/Jul/1995:13:32:23    200  1204\n",
              "3461609  tiger2.ocs.lsu.edu  28/Jul/1995:13:32:23    200  8677\n",
              "3461610          199.0.2.27  28/Jul/1995:13:32:23    200  5866\n",
              "3461611     tornado.umd.edu  28/Jul/1995:13:32:25    200  5494\n",
              "3461612                 NaN                   NaN    NaN   NaN\n",
              "\n",
              "[3461613 rows x 4 columns]"
            ]
          },
          "metadata": {
            "tags": []
          },
          "execution_count": 31
        }
      ]
    }
  ]
}